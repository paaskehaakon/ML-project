{
 "cells": [
  {
   "cell_type": "code",
   "execution_count": null,
   "metadata": {},
   "outputs": [],
   "source": [
    "# Import and init h2o lib. Running on java\n",
    "import h2o\n",
    "from h2o.automl import H2OAutoML\n",
    "import pandas as pd\n",
    "h2o.init()\n",
    "\n",
    "col_train1 = {\n",
    "}\n",
    "col_train2 = {\n",
    "}\n",
    "col_train3 = {\n",
    "}\n",
    "col_train4 = {\n",
    "}\n",
    "col_train5 = {\n",
    "}"
   ]
  },
  {
   "cell_type": "code",
   "execution_count": null,
   "metadata": {},
   "outputs": [],
   "source": [
    "# Reading csv to h2o dataframe \n",
    "\n",
    "train_data = pd.read_csv('old_data/feature_data/training_set_dropped_old.csv')\n",
    "test_data = pd.read_csv('old_data/feature_data/testing_set_dropped_old.csv')\n",
    "\n",
    "\n",
    "#set 1\n",
    "train1 = train_data.drop(['lv4', 'municipality_size_group', 'num_stores_within_10km_and_same_lvl2', 'mean_revenue_for_municipality_size_group', 'grunnkrets_id', 'mean_revenue_lv4', 'chain_name', 'closest_competitor_lv2', 'lv1', 'nbr_people_per_store_in_grunnkrets'], axis=1)\n",
    "test1 = test_data.drop(['lv4', 'municipality_size_group', 'num_stores_within_10km_and_same_lvl2', 'mean_revenue_for_municipality_size_group', 'grunnkrets_id', 'mean_revenue_lv4', 'chain_name', 'closest_competitor_lv2', 'lv1', 'nbr_people_per_store_in_grunnkrets'], axis=1)\n",
    "#set 2\n",
    "train2 = train_data.drop(['num_stores_within_20km_and_same_lvl2', 'median_revenue_lv4', 'name', 'busstops_within_50m', 'sales_channel_name', 'num_stores_within_5km_and_same_lvl3', 'mean_revenue_for_municipality_size_group', 'num_stores_within_100m_and_same_lvl2', 'closest_competitor_lv2', 'mean_revenue_lv4'], axis=1)\n",
    "test2 = test_data.drop(['num_stores_within_20km_and_same_lvl2', 'median_revenue_lv4', 'name', 'busstops_within_50m', 'sales_channel_name', 'num_stores_within_5km_and_same_lvl3', 'mean_revenue_for_municipality_size_group', 'num_stores_within_100m_and_same_lvl2', 'closest_competitor_lv2', 'mean_revenue_lv4'], axis=1)\n",
    "#set 3\n",
    "train3 = train_data.drop(['mean_revenue_for_municipality_size_group', 'num_stores_within_500m_and_same_lvl2', 'num_stores_within_1km_and_same_lvl2', 'num_stores_within_1km_and_same_lvl3', 'sales_channel_name', 'busstops_within_400m', 'num_stores_within_20km_and_same_lvl3', 'mean_revenue_for_municipality_rev_group_lv2', 'lon', 'busstops_within_800m'], axis=1)\n",
    "test3 = test_data.drop(['mean_revenue_for_municipality_size_group', 'num_stores_within_500m_and_same_lvl2', 'num_stores_within_1km_and_same_lvl2', 'num_stores_within_1km_and_same_lvl3', 'sales_channel_name', 'busstops_within_400m', 'num_stores_within_20km_and_same_lvl3', 'mean_revenue_for_municipality_rev_group_lv2', 'lon', 'busstops_within_800m'], axis=1)\n",
    "#set 4\n",
    "train4 = train_data.drop(['grunnkrets_id', 'mall_name', 'num_stores_within_1km_and_same_lvl2', 'plaace_hierarchy_id', 'num_stores_within_20km_and_same_lvl3', 'mean_revenue_lv3', 'st_dev_of_revenue_for_municipality_size_group', 'counts_gr_lv2', 'median_revenue_lv4', 'num_stores_within_100m_and_same_lvl3'], axis=1)\n",
    "test4 = test_data.drop(['grunnkrets_id', 'mall_name', 'num_stores_within_1km_and_same_lvl2', 'plaace_hierarchy_id', 'num_stores_within_20km_and_same_lvl3', 'mean_revenue_lv3', 'st_dev_of_revenue_for_municipality_size_group', 'counts_gr_lv2', 'median_revenue_lv4', 'num_stores_within_100m_and_same_lvl3'], axis=1)\n",
    "#set 5\n",
    "train5 = train_data.drop(['busstops_within_400m', 'num_stores_within_20km_and_same_lvl3', 'num_stores_within_20km_and_same_lvl2', 'num_stores_within_5km_and_same_lvl3', 'counts_municipality_lv2', 'name', 'busstops_within_100m', 'nbr_people_per_store_in_grunnkrets', 'median_revenue_lv2', 'num_stores_within_10km_and_same_lvl2'], axis=1)\n",
    "test5 = test_data.drop(['busstops_within_400m', 'num_stores_within_20km_and_same_lvl3', 'num_stores_within_20km_and_same_lvl2', 'num_stores_within_5km_and_same_lvl3', 'counts_municipality_lv2', 'name', 'busstops_within_100m', 'nbr_people_per_store_in_grunnkrets', 'median_revenue_lv2', 'num_stores_within_10km_and_same_lvl2'], axis=1)\n",
    "\n",
    "\n",
    "# Save store ids, then remove this column\n",
    "#store_ids = test_data['store_id'].to_numpy()\n",
    "#ids = pd.DataFrame(store_ids)\n",
    "#ids.rename(columns={0 :'id'}, inplace=True)\n",
    "#\n",
    "#train_data = train_data.drop('store_id', axis=1)\n",
    "#test_data = test_data.drop('store_id', axis=1)\n",
    "#\n",
    "#train1 = h2o.H2OFrame(train1)\n",
    "#train2 = h2o.H2OFrame(train2)\n",
    "#train3 = h2o.H2OFrame(train3)\n",
    "#train4 = h2o.H2OFrame(train4)\n",
    "#train5 = h2o.H2OFrame(train5)\n",
    "del col_train1['revenue']\n",
    "del col_train2['revenue']\n",
    "del col_train3['revenue']\n",
    "del col_train4['revenue']\n",
    "del col_train5['revenue']\n",
    "#test1 = h2o.H2OFrame(test1)\n",
    "#test2 = h2o.H2OFrame(test2)\n",
    "#test3 = h2o.H2OFrame(test3)\n",
    "#test4 = h2o.H2OFrame(test4)\n",
    "#test5 = h2o.H2OFrame(test5)\n",
    "\n"
   ]
  },
  {
   "cell_type": "code",
   "execution_count": null,
   "metadata": {},
   "outputs": [],
   "source": [
    "# Removing labels from train set\n",
    "y = \"revenue\"\n",
    "x1 = train1.columns\n",
    "x2 = train1.columns\n",
    "x3 = train1.columns\n",
    "x4 = train1.columns\n",
    "x5 = train1.columns\n",
    "x1.remove(y)\n",
    "x2.remove(y)\n",
    "x3.remove(y)\n",
    "x4.remove(y)\n",
    "x5.remove(y)"
   ]
  },
  {
   "cell_type": "code",
   "execution_count": null,
   "metadata": {},
   "outputs": [],
   "source": [
    "# Running fit/training on train set with cross validation n=5\n",
    "aml1 = H2OAutoML(max_models = 5, seed = 2, stopping_metric = \"RMSE\", exclude_algos=[\"XGBoost\", \"DeepLearning\"])\n",
    "aml1.train(x = x1, y = y, training_frame = train1)\n",
    "\n",
    "aml2 = H2OAutoML(max_models = 5, seed = 2, stopping_metric = \"RMSE\", exclude_algos=[\"XGBoost\", \"StackedEnsemble\"])\n",
    "aml2.train(x = x2, y = y, training_frame = train2)\n",
    "\n",
    "aml3 = H2OAutoML(max_models = 5, seed = 2, stopping_metric = \"RMSE\", exclude_algos=[\"GBM\", \"DeepLearning\"])\n",
    "aml3.train(x = x3, y = y, training_frame = train3)\n",
    "\n",
    "aml4 = H2OAutoML(max_models = 5, seed = 2, stopping_metric = \"RMSE\", exclude_algos=[\"XGBoost\", \"DRF\"])\n",
    "aml4.train(x = x4, y = y, training_frame = train4)\n",
    "\n",
    "aml5 = H2OAutoML(max_models = 5, seed = 2, stopping_metric = \"RMSE\", exclude_algos=[\"GLM\", \"DeepLearning\"])\n",
    "aml5.train(x = x5, y = y, training_frame = train5)"
   ]
  },
  {
   "cell_type": "code",
   "execution_count": null,
   "metadata": {},
   "outputs": [],
   "source": [
    "lb1 = aml1.leaderboard\n",
    "lb2 = aml2.leaderboard\n",
    "lb3 = aml3.leaderboard\n",
    "lb4 = aml4.leaderboard\n",
    "lb5 = aml5.leaderboard"
   ]
  },
  {
   "cell_type": "code",
   "execution_count": null,
   "metadata": {},
   "outputs": [],
   "source": [
    "# Showing best perforimg models\n",
    "lb1.head()\n",
    "lb2.head()\n",
    "lb3.head()\n",
    "lb4.head()\n",
    "lb5.head()"
   ]
  },
  {
   "cell_type": "code",
   "execution_count": null,
   "metadata": {},
   "outputs": [],
   "source": [
    "preds1 = aml1.predict(test_data)\n",
    "preds2 = aml2.predict(test_data)\n",
    "preds3 = aml3.predict(test_data)\n",
    "preds4 = aml4.predict(test_data)\n",
    "preds5 = aml5.predict(test_data)"
   ]
  },
  {
   "cell_type": "code",
   "execution_count": null,
   "metadata": {},
   "outputs": [],
   "source": [
    "#print variable importance\n",
    "#corr = aml1.varimp(use_pandas = True)\n",
    "#corr['sum'] = corr.sum(axis=1)\n",
    "#corr = corr.sort_values(by=['sum'])\n",
    "#corr.head(30)"
   ]
  },
  {
   "cell_type": "code",
   "execution_count": null,
   "metadata": {},
   "outputs": [],
   "source": [
    "#preds = h2o.as_list(preds)\n",
    "#print(preds)"
   ]
  },
  {
   "cell_type": "code",
   "execution_count": null,
   "metadata": {},
   "outputs": [],
   "source": [
    "# Convert result to desired format\n",
    "\n",
    "import pandas as pd\n",
    "import numpy as np\n",
    "\n",
    "weights = [0.4, 0.55, 0.45, 0.6, 0.5]\n",
    "sum_weights = sum(weights)\n",
    "weights = pd.DataFrame(weights)\n",
    "\n",
    "\n",
    "pandas_preds1 = preds1.as_data_frame()\n",
    "pandas_preds1.rename(columns={'predict' :'1'}, inplace=True)\n",
    "pandas_preds2 = preds2.as_data_frame()\n",
    "pandas_preds2.rename(columns={'predict' :'2'}, inplace=True)\n",
    "pandas_preds3 = preds3.as_data_frame()\n",
    "pandas_preds3.rename(columns={'predict' :'3'}, inplace=True)\n",
    "pandas_preds4 = preds4.as_data_frame()\n",
    "pandas_preds4.rename(columns={'predict' :'4'}, inplace=True)\n",
    "pandas_preds5 = preds5.as_data_frame()\n",
    "pandas_preds5.rename(columns={'predict' :'5'}, inplace=True)\n",
    "\n",
    "pandas_preds = pandas_preds1.join(pandas_preds2).join(pandas_preds3).join(pandas_preds4).join(pandas_preds5)\n",
    "pandas_preds['predicted'] = pandas_preds.dot(weights)/sum_weights\n",
    "\n",
    "\n",
    "#pandas_preds.rename(columns={'predict' :'predicted'}, inplace=True)\n",
    "pandas_preds['predicted'] = np.expm1(pandas_preds['predicted'])\n",
    "\n",
    "def save_submission(pred):\n",
    "    predicted = pd.DataFrame(pred, columns = ['predicted'])\n",
    "    output = pd.concat([ids,predicted],axis=1)\n",
    "    output.to_csv('h2o.csv', index=False)\n",
    "    \n",
    "save_submission(pandas_preds)\n",
    "\n"
   ]
  },
  {
   "cell_type": "code",
   "execution_count": null,
   "metadata": {},
   "outputs": [],
   "source": [
    "#aml.explain(frame = train_data)"
   ]
  }
 ],
 "metadata": {
  "kernelspec": {
   "display_name": "Python 3.8.10 64-bit",
   "language": "python",
   "name": "python3"
  },
  "language_info": {
   "codemirror_mode": {
    "name": "ipython",
    "version": 3
   },
   "file_extension": ".py",
   "mimetype": "text/x-python",
   "name": "python",
   "nbconvert_exporter": "python",
   "pygments_lexer": "ipython3",
   "version": "3.8.10"
  },
  "orig_nbformat": 4,
  "vscode": {
   "interpreter": {
    "hash": "916dbcbb3f70747c44a77c7bcd40155683ae19c65e1c03b4aa3499c5328201f1"
   }
  }
 },
 "nbformat": 4,
 "nbformat_minor": 2
}
