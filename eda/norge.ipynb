{
 "cells": [
  {
   "cell_type": "code",
   "execution_count": null,
   "metadata": {},
   "outputs": [],
   "source": [
    "import math\n",
    "import geopy.distance\n",
    "from dis import dis\n",
    "import math\n",
    "import geopandas as gpd\n",
    "import numpy\n",
    "from shapely import wkt\n",
    "from shapely import wkb\n",
    "import numpy as np\n",
    "import pandas as pd\n",
    "import matplotlib.pyplot as plt\n",
    "import seaborn as sns\n",
    "from geopy.geocoders import Nominatim\n",
    "from shapely.geometry import Point\n",
    "%matplotlib inline\n",
    "\n",
    "\n",
    "stores_train = pd.read_csv('../data//stores_train.csv')\n",
    "busstops = pd.read_csv('../data//busstops_norway.csv')\n",
    "grunnkrets_age = pd.read_csv('../data//grunnkrets_age_distribution.csv')\n",
    "grunnkrets_households = pd.read_csv('../data//grunnkrets_households_num_persons.csv')\n",
    "grunnkrets_income = pd.read_csv('../data//grunnkrets_income_households.csv')\n",
    "grunnkrets_stripped = pd.read_csv('../data//grunnkrets_norway_stripped.csv')\n",
    "plaace_hierarchy = pd.read_csv('../data//plaace_hierarchy.csv')\n",
    "\n",
    "geometry = [Point(xy) for xy in zip(stores_train['lon'], stores_train['lat'])]\n",
    "\n",
    "gedata = gpd.GeoDataFrame(stores_train, geometry = geometry)\n",
    "gedata.crs = \"EPSG:4326\"\n",
    "\n",
    "gedata.explore('revenue')\n"
   ]
  }
 ],
 "metadata": {
  "kernelspec": {
   "display_name": "Python 3.8.10 64-bit",
   "language": "python",
   "name": "python3"
  },
  "language_info": {
   "codemirror_mode": {
    "name": "ipython",
    "version": 3
   },
   "file_extension": ".py",
   "mimetype": "text/x-python",
   "name": "python",
   "nbconvert_exporter": "python",
   "pygments_lexer": "ipython3",
   "version": "3.8.10"
  },
  "orig_nbformat": 4,
  "vscode": {
   "interpreter": {
    "hash": "916dbcbb3f70747c44a77c7bcd40155683ae19c65e1c03b4aa3499c5328201f1"
   }
  }
 },
 "nbformat": 4,
 "nbformat_minor": 2
}
