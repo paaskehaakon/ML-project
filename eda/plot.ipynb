{
 "cells": [
  {
   "cell_type": "code",
   "execution_count": null,
   "metadata": {},
   "outputs": [],
   "source": [
    "import pandas as pd\n",
    "import geopandas as gpd\n",
    "import matplotlib.pyplot as plt\n",
    "from shapely import wkt\n",
    "from shapely.ops import cascaded_union\n",
    "\n",
    "\n",
    "import matplotlib.pyplot as plt\n",
    "import geopandas as gpd\n",
    "import pysal as ps\n",
    "\n",
    "#plot map of grunnkrets\n",
    "def plot_gk():\n",
    "    df = pd.read_csv('../data//grunnkrets_norway_stripped.csv')\n",
    "    df = gpd.GeoDataFrame(df)\n",
    "    df['geometry'] = gpd.GeoSeries.from_wkt(df['geometry'])\n",
    "    df = gpd.GeoDataFrame(df, geometry='geometry')\n",
    "    df.plot(figsize=(20, 20))\n",
    "    plt.show()\n",
    "\n",
    "    #plot map of busstops\n",
    "    df = pd.read_csv('../data//busstops_norway.csv')\n",
    "    df = gpd.GeoDataFrame(df)\n",
    "    df['geometry'] = gpd.GeoSeries.from_wkt(df['geometry'])\n",
    "    df = gpd.GeoDataFrame(df, geometry='geometry')\n",
    "    df.plot(figsize=(20, 20))\n",
    "    plt.show()\n",
    "\n",
    "\n",
    "\n",
    "train_data = pd.read_csv('../data//stores_train.csv', nrows= 1000)\n",
    "place = pd.read_csv('../data//plaace_hierarchy.csv', nrows= 1000)\n",
    "train_data = pd.merge(train_data, place[['plaace_hierarchy_id', 'lv1', 'lv2', 'lv3']], on='plaace_hierarchy_id', how='outer')\n",
    "train_data.head()"
   ]
  }
 ],
 "metadata": {
  "kernelspec": {
   "display_name": "Python 3.8.10 64-bit",
   "language": "python",
   "name": "python3"
  },
  "language_info": {
   "name": "python",
   "version": "3.8.10"
  },
  "orig_nbformat": 4,
  "vscode": {
   "interpreter": {
    "hash": "916dbcbb3f70747c44a77c7bcd40155683ae19c65e1c03b4aa3499c5328201f1"
   }
  }
 },
 "nbformat": 4,
 "nbformat_minor": 2
}
