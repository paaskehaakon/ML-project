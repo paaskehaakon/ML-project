{
 "cells": [
  {
   "cell_type": "code",
   "execution_count": null,
   "metadata": {},
   "outputs": [],
   "source": [
    "import pandas as pd\n",
    "import geopandas as gpd\n",
    "import matplotlib.pyplot as plt\n",
    "from shapely import wkt\n",
    "from shapely.ops import cascaded_union\n",
    "\n",
    "\n",
    "import matplotlib.pyplot as plt\n",
    "import geopandas as gpd\n",
    "import pysal as ps\n",
    "\n",
    "\"\"\" #plot map of grunnkrets\n",
    "df = pd.read_csv('data/grunnkrets_norway_stripped.csv')\n",
    "df = gpd.GeoDataFrame(df)\n",
    "df['geometry'] = gpd.GeoSeries.from_wkt(df['geometry'])\n",
    "df = gpd.GeoDataFrame(df, geometry='geometry')\n",
    "df.plot(figsize=(20, 20))\n",
    "plt.show()\n",
    "\n",
    "#plot map of busstops\n",
    "df = pd.read_csv('data/busstops_norway.csv')\n",
    "df = gpd.GeoDataFrame(df)\n",
    "df['geometry'] = gpd.GeoSeries.from_wkt(df['geometry'])\n",
    "df = gpd.GeoDataFrame(df, geometry='geometry')\n",
    "df.plot(figsize=(20, 20))\n",
    "plt.show()\n",
    "\n",
    "\n",
    " \"\"\"\n",
    "train_data = pd.read_csv('data/stores_train.csv', nrows= 1000)\n",
    "place = pd.read_csv('data/plaace_hierarchy.csv', nrows= 1000)\n",
    "train_data = pd.merge(train_data, place[['plaace_hierarchy_id', 'lv1', 'lv2', 'lv3']], on='plaace_hierarchy_id', how='outer')\n",
    "train_data.head()\n"
   ]
  },
  {
   "cell_type": "code",
   "execution_count": null,
   "metadata": {},
   "outputs": [],
   "source": []
  },
  {
   "cell_type": "code",
   "execution_count": null,
   "metadata": {},
   "outputs": [],
   "source": [
    "#number of stores within x radius\n",
    "import math\n",
    "import geopy.distance\n",
    "\n",
    "df = train_data\n",
    "df=df.loc[:,['store_id','lat','lon', 'lv2']]\n",
    "\n",
    "df['num_stores_within_distance'] = 0\n",
    "def stores_within_distance(distance):\n",
    "    for index in range(len(df)):\n",
    "        lvl1 = df._get_value(index, 'lv2')\n",
    "        lat1 = df._get_value(index,'lat')\n",
    "        lon1 = df._get_value(index,'lon')\n",
    "        count = 0\n",
    "        for inx in range(len(df)):\n",
    "            lvl2 = df._get_value(inx, 'lv2')\n",
    "            lat2 = df._get_value(inx,'lat')\n",
    "            lon2 = df._get_value(inx,'lon')\n",
    "            try:\n",
    "                dist = geopy.distance.geodesic((lat1, lon1), (lat2, lon2)).km #some values have nan in them. must be fixed. \n",
    "                print(lat1, lat2, lon1, lon2)\n",
    "            except:\n",
    "                print(lat1, lat2, lon1, lon2)\n",
    "\n",
    "            if dist < distance and lvl1 == lvl2:\n",
    "                count += 1\n",
    "        df._set_value(index, 'num_stores_within_distance', count- 1)\n",
    "\n",
    "\n",
    "stores_within_distance(0.1)\n",
    "\n",
    "\n",
    "\n",
    "df.head(20)\n"
   ]
  },
  {
   "cell_type": "code",
   "execution_count": null,
   "metadata": {},
   "outputs": [],
   "source": [
    "#number of people x distance from grunnkrets\n",
    "import math\n",
    "\n",
    "gk = train_data\n",
    "def num_people_within_grunnkrets(distance):\n",
    "    df['people_wintin_distance_from_gk'] = 0\n",
    "    for index in range(len(df)):\n",
    "\n",
    "\n",
    "\n"
   ]
  }
 ],
 "metadata": {
  "kernelspec": {
   "display_name": "Python 3.8.10 64-bit",
   "language": "python",
   "name": "python3"
  },
  "language_info": {
   "codemirror_mode": {
    "name": "ipython",
    "version": 3
   },
   "file_extension": ".py",
   "mimetype": "text/x-python",
   "name": "python",
   "nbconvert_exporter": "python",
   "pygments_lexer": "ipython3",
   "version": "3.8.10"
  },
  "orig_nbformat": 4,
  "vscode": {
   "interpreter": {
    "hash": "916dbcbb3f70747c44a77c7bcd40155683ae19c65e1c03b4aa3499c5328201f1"
   }
  }
 },
 "nbformat": 4,
 "nbformat_minor": 2
}
