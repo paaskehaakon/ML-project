{
 "cells": [
  {
   "cell_type": "code",
   "execution_count": null,
   "metadata": {},
   "outputs": [],
   "source": [
    "# Random forest regressor, according to https://www.geeksforgeeks.org/random-forest-regression-in-python/\n",
    "\n",
    "import numpy as np\n",
    "import matplotlib.pyplot as plt\n",
    "import pandas as pd\n",
    "\n",
    "# Select all rows and column 1 from dataset to x and all rows and column 2 as y \n",
    "x= df.iloc [:, : -1] # ” : ” means it will select all rows,    “: -1 ” means that it will ignore last column\n",
    "y= df.iloc [:, -1 :] # ” : ” means it will select all rows,    “-1 : ” means that it will ignore all columns except the last one\n",
    "\n",
    "\n",
    "# import the regressor\n",
    "from sklearn.ensemble import RandomForestRegressor\n",
    "  \n",
    " # create regressor object\n",
    "regressor = RandomForestRegressor(n_estimators = 100, random_state = 0)\n",
    "\n",
    "# fit the regressor with x and y data\n",
    "regressor.fit(x, y)\n",
    "\n",
    "Y_pred = regressor.predict(np.array([6.5]).reshape(1, 1))  # test the output by changing values\n",
    "\n",
    "# Visualising the Random Forest Regression results\n",
    "  \n",
    "# arrange for creating a range of values\n",
    "# from min value of x to max \n",
    "# value of x with a difference of 0.01 \n",
    "# between two consecutive values\n",
    "X_grid = np.arrange(min(x), max(x), 0.01) \n",
    "  \n",
    "# reshape for reshaping the data into a len(X_grid)*1 array, \n",
    "# i.e. to make a column out of the X_grid value                  \n",
    "X_grid = X_grid.reshape((len(X_grid), 1))\n",
    "  \n",
    "# Scatter plot for original data\n",
    "plt.scatter(x, y, color = 'blue')  \n",
    "  \n",
    "# plot predicted data\n",
    "plt.plot(X_grid, regressor.predict(X_grid), \n",
    "         color = 'green') \n",
    "plt.title('Random Forest Regression')\n",
    "plt.xlabel('Position level')\n",
    "plt.ylabel('Salary')\n",
    "plt.show()\n"
   ]
  }
 ],
 "metadata": {
  "language_info": {
   "name": "python"
  },
  "orig_nbformat": 4
 },
 "nbformat": 4,
 "nbformat_minor": 2
}
