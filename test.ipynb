{
 "cells": [
  {
   "cell_type": "code",
   "execution_count": null,
   "metadata": {},
   "outputs": [],
   "source": [
    "from sklearn.neighbors import NearestNeighbors\n",
    "import numpy as np\n",
    "\n",
    "X = np.array([[-1, -1], [-2, -1], [-3, -2], [1, 1], [2, 1], [3, 2]])\n",
    "nbrs = NearestNeighbors(n_neighbors=2, algorithm='ball_tree').fit(X)\n",
    "distances, indices = nbrs.kneighbors(X)\n",
    "indices"
   ]
  },
  {
   "cell_type": "code",
   "execution_count": null,
   "metadata": {},
   "outputs": [],
   "source": [
    "import numpy as np  #for later code\n",
    "from scipy.spatial import cKDTree\n",
    "import pandas as pd\n",
    "\n",
    "df = pd.read_csv('data/busstops_norway.csv')\n",
    "liste = np.empty()\n",
    "for index in range(len(df)):\n",
    "    lvl1 = df._get_value(index,'lv2')\n",
    "    lat1 = df._get_value(index,'lat')\n",
    "    lon1 = df._get_value(index,'lon')\n",
    "    liste.append(\n",
    "\n",
    "\n",
    "\n",
    "kdtree = cKDTree(liste)\n",
    "NN_dists = np.zeros(numPoints)  #pre-allocate an array to store distances\n",
    "for i in range(numPoints):\n",
    "    point = xyzData[i]\n",
    "\n",
    "    NN_dist, NN_idx = kdtree.query(point,k=[1])\n",
    "\n",
    "    #Note: 'k' specifies the kth neighbor distance to compute, \n",
    "    #so set k=2 if you end up finding the point as its own \"neighbor\":\n",
    "    if NN_dist == 0:\n",
    "        NN_dist, NN_idx = targetTree.query(curCoord,k=[2])\n",
    "    \n",
    "    NN_dists[i] = NN_dist\n",
    "\n",
    "\n",
    "def stores_within_distance(distance):\n",
    "    train_data['num_stores_within_distance'] = 0\n",
    "    for index in range(len(train_data)):\n",
    "        lvl1 = train_data._get_value(index,'lv2')\n",
    "        lat1 = train_data._get_value(index,'lat')\n",
    "        lon1 = train_data._get_value(index,'lon')\n",
    "        count = 0\n",
    "        for inx in range(len(train_data)):\n",
    "            lvl2 = train_data._get_value(inx,'lv2')\n",
    "            lat2 = train_data._get_value(inx,'lat')\n",
    "            lon2 = train_data._get_value(inx,'lon')\n",
    "            try:\n",
    "                dist = geopy.distance.geodesic((lat1, lon1), (lat2, lon2)).km #some values have nan in them. must be fixed. \n",
    "                print(lat1, lat2, lon1, lon2)\n",
    "            except:\n",
    "                print(lat1, lat2, lon1, lon2)\n",
    "\n",
    "            if dist < distance and lvl1 == lvl2:\n",
    "                count += 1\n",
    "        train_data._set_value(index, 'num_stores_within_distance', count- 1)"
   ]
  }
 ],
 "metadata": {
  "kernelspec": {
   "display_name": "Python 3.8.10 64-bit",
   "language": "python",
   "name": "python3"
  },
  "language_info": {
   "name": "python",
   "version": "3.8.10"
  },
  "orig_nbformat": 4,
  "vscode": {
   "interpreter": {
    "hash": "916dbcbb3f70747c44a77c7bcd40155683ae19c65e1c03b4aa3499c5328201f1"
   }
  }
 },
 "nbformat": 4,
 "nbformat_minor": 2
}
