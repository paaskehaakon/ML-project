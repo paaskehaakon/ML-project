{
 "cells": [
  {
   "cell_type": "code",
   "execution_count": null,
   "metadata": {},
   "outputs": [],
   "source": [
    "#Haakon\n",
    "import lightgbm as lgb  # standard alias\n",
    "import numpy as np \n",
    "import pandas as pd \n",
    "import matplotlib.pyplot as plt \n",
    "import seaborn as sns \n",
    "from scipy.stats import norm\n",
    "from sklearn.model_selection import train_test_split\n",
    "import math\n",
    "\n",
    "train = pd.read_csv('modified_data.csv')\n",
    "test = pd.read_csv('stores_test.csv')\n",
    "train_data = pd.read_csv('stores_train.csv')\n",
    "\n",
    "import re\n",
    "train = train.rename(columns = lambda x:re.sub('[^A-Za-z0-9_]+', '', x))\n",
    "\n",
    "y = train['revenue']\n",
    "train = train.iloc[: , :-1]\n",
    "\n",
    "# For working\n",
    "X_train, X_test, y_train, y_test = train_test_split(train, y, test_size=0.2, random_state=42)\n",
    "\n",
    "# # For Kaggle\n",
    "# X_train = train\n",
    "# X_test = train\n",
    "# y_train = y\n",
    "# y_test = y\n",
    "\n",
    "#Hyper parameters\n",
    "hyper_params = {\n",
    "    'task': 'train',\n",
    "    'boosting_type': 'gbdt',\n",
    "    'objective': 'regression',\n",
    "    'metric': ['l1','l2'],\n",
    "    'learning_rate': 0.005,\n",
    "    'feature_fraction': 0.9,\n",
    "    'bagging_fraction': 0.7,\n",
    "    'bagging_freq': 10,\n",
    "    'verbose': 0,\n",
    "    \"max_depth\": 8,\n",
    "    \"num_leaves\": 128,  \n",
    "    \"max_bin\": 512,\n",
    "    \"num_iterations\": 10\n",
    "}\n",
    "\n",
    "#fit the model takes some time\n",
    "gbm = lgb.LGBMRegressor(**hyper_params)\n",
    "\n",
    "gbm.fit(X_train, y_train)\n",
    "#predict\n",
    "y_pred = gbm.predict(X_test, num_iteration=gbm.best_iteration_)\n",
    "\n",
    "#generate csv file of id and prediction\n",
    "id = X_test['store_id']\n",
    "predicted = pd.DataFrame(y_pred, columns = ['predicted'])\n",
    "output = pd.concat([id,predicted],axis=1)\n",
    "output.to_csv('output_for_submission.csv')\n",
    "\n",
    "# #calc rmse\n",
    "# #MSE = np.square(np.subtract(y_train, y_pred)).mean() \n",
    "# #RMSE = math.sqrt(MSE)\n",
    "# #print(RMSE)"
   ]
  },
  {
   "cell_type": "code",
   "execution_count": null,
   "metadata": {},
   "outputs": [],
   "source": []
  },
  {
   "cell_type": "code",
   "execution_count": null,
   "metadata": {},
   "outputs": [],
   "source": []
  },
  {
   "cell_type": "code",
   "execution_count": null,
   "metadata": {},
   "outputs": [],
   "source": []
  },
  {
   "cell_type": "code",
   "execution_count": null,
   "metadata": {},
   "outputs": [],
   "source": []
  }
 ],
 "metadata": {
  "kernelspec": {
   "display_name": "Python 3.9.5 64-bit",
   "language": "python",
   "name": "python3"
  },
  "language_info": {
   "codemirror_mode": {
    "name": "ipython",
    "version": 3
   },
   "file_extension": ".py",
   "mimetype": "text/x-python",
   "name": "python",
   "nbconvert_exporter": "python",
   "pygments_lexer": "ipython3",
   "version": "3.9.5"
  },
  "orig_nbformat": 4,
  "vscode": {
   "interpreter": {
    "hash": "aee8b7b246df8f9039afb4144a1f6fd8d2ca17a180786b69acc140d282b71a49"
   }
  }
 },
 "nbformat": 4,
 "nbformat_minor": 2
}
