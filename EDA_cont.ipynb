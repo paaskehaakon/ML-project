{
 "cells": [
  {
   "cell_type": "code",
   "execution_count": 756,
   "metadata": {},
   "outputs": [],
   "source": [
    "# EDA enligt https://www.kaggle.com/code/ayushikaushik/eda-regression-analysis#Preprocessing-the-data"
   ]
  },
  {
   "cell_type": "code",
   "execution_count": 757,
   "metadata": {},
   "outputs": [
    {
     "name": "stdout",
     "output_type": "stream",
     "text": [
      "Shape of training data: (12859, 12)\n",
      "Features available: Index(['store_id', 'year', 'store_name', 'plaace_hierarchy_id',\n",
      "       'sales_channel_name', 'grunnkrets_id', 'address', 'lat', 'lon',\n",
      "       'chain_name', 'mall_name', 'revenue'],\n",
      "      dtype='object')\n"
     ]
    }
   ],
   "source": [
    "import numpy as np\n",
    "import pandas as pd\n",
    "import matplotlib.pyplot as plt\n",
    "import seaborn as sns\n",
    "%matplotlib inline\n",
    "\n",
    "train_data = pd.read_csv('data/stores_train.csv')\n",
    "busstops = pd.read_csv('data/busstops_norway.csv')\n",
    "grunnkrets_age = pd.read_csv('data/grunnkrets_age_distribution.csv')\n",
    "grunnkrets_households = pd.read_csv('data/grunnkrets_households_num_persons.csv')\n",
    "grunnkrets_income = pd.read_csv('data/grunnkrets_income_households.csv')\n",
    "grunnkrets_stripped = pd.read_csv('data/grunnkrets_norway_stripped.csv')\n",
    "plaace_hierarchy = pd.read_csv('data/plaace_hierarchy.csv')\n",
    "\n",
    "print(f\"Shape of training data: {train_data.shape}\\nFeatures available: {train_data.columns}\")"
   ]
  },
  {
   "cell_type": "code",
   "execution_count": 758,
   "metadata": {},
   "outputs": [
    {
     "data": {
      "text/html": [
       "<div>\n",
       "<style scoped>\n",
       "    .dataframe tbody tr th:only-of-type {\n",
       "        vertical-align: middle;\n",
       "    }\n",
       "\n",
       "    .dataframe tbody tr th {\n",
       "        vertical-align: top;\n",
       "    }\n",
       "\n",
       "    .dataframe thead th {\n",
       "        text-align: right;\n",
       "    }\n",
       "</style>\n",
       "<table border=\"1\" class=\"dataframe\">\n",
       "  <thead>\n",
       "    <tr style=\"text-align: right;\">\n",
       "      <th></th>\n",
       "      <th>store_id</th>\n",
       "      <th>year</th>\n",
       "      <th>store_name</th>\n",
       "      <th>plaace_hierarchy_id</th>\n",
       "      <th>sales_channel_name</th>\n",
       "      <th>grunnkrets_id</th>\n",
       "      <th>address</th>\n",
       "      <th>lat</th>\n",
       "      <th>lon</th>\n",
       "      <th>chain_name</th>\n",
       "      <th>mall_name</th>\n",
       "      <th>revenue</th>\n",
       "    </tr>\n",
       "  </thead>\n",
       "  <tbody>\n",
       "    <tr>\n",
       "      <th>0</th>\n",
       "      <td>983540538-974187930-44774</td>\n",
       "      <td>2016</td>\n",
       "      <td>MCDONALD'S BRAGERNES TORG MAGASINET</td>\n",
       "      <td>1.1.1.0</td>\n",
       "      <td>Hamburger restaurants</td>\n",
       "      <td>6020303</td>\n",
       "      <td>BRAGERNES TORG 13</td>\n",
       "      <td>59.743104</td>\n",
       "      <td>10.204928</td>\n",
       "      <td>MCDONALDS</td>\n",
       "      <td>Magasinet Drammen</td>\n",
       "      <td>17.998</td>\n",
       "    </tr>\n",
       "    <tr>\n",
       "      <th>1</th>\n",
       "      <td>987074191-973117734-44755</td>\n",
       "      <td>2016</td>\n",
       "      <td>MCDONALD'S KLINGENBERGGATA</td>\n",
       "      <td>1.1.1.0</td>\n",
       "      <td>Hamburger restaurants</td>\n",
       "      <td>3010306</td>\n",
       "      <td>NaN</td>\n",
       "      <td>59.913759</td>\n",
       "      <td>10.734031</td>\n",
       "      <td>MCDONALDS</td>\n",
       "      <td>NaN</td>\n",
       "      <td>23.828</td>\n",
       "    </tr>\n",
       "    <tr>\n",
       "      <th>2</th>\n",
       "      <td>984890265-981157303-64491</td>\n",
       "      <td>2016</td>\n",
       "      <td>BURGER KING HØNEFOSS</td>\n",
       "      <td>1.1.1.0</td>\n",
       "      <td>Hamburger restaurants</td>\n",
       "      <td>6050102</td>\n",
       "      <td>KONG RINGS GATE 1</td>\n",
       "      <td>60.164751</td>\n",
       "      <td>10.254656</td>\n",
       "      <td>BURGER KING</td>\n",
       "      <td>Kuben Hønefoss</td>\n",
       "      <td>16.099</td>\n",
       "    </tr>\n",
       "    <tr>\n",
       "      <th>3</th>\n",
       "      <td>914057442-992924179-126912</td>\n",
       "      <td>2016</td>\n",
       "      <td>BURGER KING GLASSHUSPASSASJEN</td>\n",
       "      <td>1.1.1.0</td>\n",
       "      <td>Hamburger restaurants</td>\n",
       "      <td>18040102</td>\n",
       "      <td>STORGATA 12</td>\n",
       "      <td>67.283669</td>\n",
       "      <td>14.379796</td>\n",
       "      <td>BURGER KING</td>\n",
       "      <td>Glasshuspassasjen</td>\n",
       "      <td>9.296</td>\n",
       "    </tr>\n",
       "    <tr>\n",
       "      <th>4</th>\n",
       "      <td>913018583-913063538-668469</td>\n",
       "      <td>2016</td>\n",
       "      <td>BURGER KING TILLERTORGET</td>\n",
       "      <td>1.1.1.0</td>\n",
       "      <td>Hamburger restaurants</td>\n",
       "      <td>16017414</td>\n",
       "      <td>NaN</td>\n",
       "      <td>63.358068</td>\n",
       "      <td>10.374832</td>\n",
       "      <td>BURGER KING</td>\n",
       "      <td>Tillertorget</td>\n",
       "      <td>4.528</td>\n",
       "    </tr>\n",
       "  </tbody>\n",
       "</table>\n",
       "</div>"
      ],
      "text/plain": [
       "                     store_id  year                           store_name  \\\n",
       "0   983540538-974187930-44774  2016  MCDONALD'S BRAGERNES TORG MAGASINET   \n",
       "1   987074191-973117734-44755  2016           MCDONALD'S KLINGENBERGGATA   \n",
       "2   984890265-981157303-64491  2016                 BURGER KING HØNEFOSS   \n",
       "3  914057442-992924179-126912  2016        BURGER KING GLASSHUSPASSASJEN   \n",
       "4  913018583-913063538-668469  2016             BURGER KING TILLERTORGET   \n",
       "\n",
       "  plaace_hierarchy_id     sales_channel_name  grunnkrets_id  \\\n",
       "0             1.1.1.0  Hamburger restaurants        6020303   \n",
       "1             1.1.1.0  Hamburger restaurants        3010306   \n",
       "2             1.1.1.0  Hamburger restaurants        6050102   \n",
       "3             1.1.1.0  Hamburger restaurants       18040102   \n",
       "4             1.1.1.0  Hamburger restaurants       16017414   \n",
       "\n",
       "             address        lat        lon   chain_name          mall_name  \\\n",
       "0  BRAGERNES TORG 13  59.743104  10.204928    MCDONALDS  Magasinet Drammen   \n",
       "1                NaN  59.913759  10.734031    MCDONALDS                NaN   \n",
       "2  KONG RINGS GATE 1  60.164751  10.254656  BURGER KING     Kuben Hønefoss   \n",
       "3        STORGATA 12  67.283669  14.379796  BURGER KING  Glasshuspassasjen   \n",
       "4                NaN  63.358068  10.374832  BURGER KING       Tillertorget   \n",
       "\n",
       "   revenue  \n",
       "0   17.998  \n",
       "1   23.828  \n",
       "2   16.099  \n",
       "3    9.296  \n",
       "4    4.528  "
      ]
     },
     "execution_count": 758,
     "metadata": {},
     "output_type": "execute_result"
    }
   ],
   "source": [
    "# To see all the columns in output this can be done.\n",
    "pd.options.display.max_columns=None\n",
    "# To see all rows change max_columns with max_rows\n",
    "\n",
    "train_data.head()"
   ]
  },
  {
   "cell_type": "code",
   "execution_count": 759,
   "metadata": {},
   "outputs": [
    {
     "data": {
      "text/plain": [
       "True"
      ]
     },
     "execution_count": 759,
     "metadata": {},
     "output_type": "execute_result"
    }
   ],
   "source": [
    "# Check if there are missing values => true, so there are\n",
    "train_data.isnull().sum().any()"
   ]
  },
  {
   "cell_type": "code",
   "execution_count": 760,
   "metadata": {},
   "outputs": [],
   "source": [
    "# Replace NaN in mall_name column with 'No mall'\n",
    "train_data.mall_name = train_data.mall_name.fillna('No mall')\n",
    "train_data.address = train_data.address.fillna('No address')\n",
    "train_data.chain_name = train_data.chain_name.fillna('No chain')"
   ]
  },
  {
   "cell_type": "code",
   "execution_count": 761,
   "metadata": {},
   "outputs": [
    {
     "data": {
      "text/html": [
       "<div>\n",
       "<style scoped>\n",
       "    .dataframe tbody tr th:only-of-type {\n",
       "        vertical-align: middle;\n",
       "    }\n",
       "\n",
       "    .dataframe tbody tr th {\n",
       "        vertical-align: top;\n",
       "    }\n",
       "\n",
       "    .dataframe thead th {\n",
       "        text-align: right;\n",
       "    }\n",
       "</style>\n",
       "<table border=\"1\" class=\"dataframe\">\n",
       "  <thead>\n",
       "    <tr style=\"text-align: right;\">\n",
       "      <th></th>\n",
       "      <th>store_id</th>\n",
       "      <th>year</th>\n",
       "      <th>store_name</th>\n",
       "      <th>plaace_hierarchy_id</th>\n",
       "      <th>sales_channel_name</th>\n",
       "      <th>grunnkrets_id</th>\n",
       "      <th>address</th>\n",
       "      <th>lat</th>\n",
       "      <th>lon</th>\n",
       "      <th>chain_name</th>\n",
       "      <th>mall_name</th>\n",
       "      <th>revenue</th>\n",
       "    </tr>\n",
       "  </thead>\n",
       "  <tbody>\n",
       "    <tr>\n",
       "      <th>0</th>\n",
       "      <td>983540538-974187930-44774</td>\n",
       "      <td>2016</td>\n",
       "      <td>MCDONALD'S BRAGERNES TORG MAGASINET</td>\n",
       "      <td>1.1.1.0</td>\n",
       "      <td>Hamburger restaurants</td>\n",
       "      <td>6020303</td>\n",
       "      <td>BRAGERNES TORG 13</td>\n",
       "      <td>59.743104</td>\n",
       "      <td>10.204928</td>\n",
       "      <td>MCDONALDS</td>\n",
       "      <td>Magasinet Drammen</td>\n",
       "      <td>17.998</td>\n",
       "    </tr>\n",
       "    <tr>\n",
       "      <th>1</th>\n",
       "      <td>987074191-973117734-44755</td>\n",
       "      <td>2016</td>\n",
       "      <td>MCDONALD'S KLINGENBERGGATA</td>\n",
       "      <td>1.1.1.0</td>\n",
       "      <td>Hamburger restaurants</td>\n",
       "      <td>3010306</td>\n",
       "      <td>No address</td>\n",
       "      <td>59.913759</td>\n",
       "      <td>10.734031</td>\n",
       "      <td>MCDONALDS</td>\n",
       "      <td>No mall</td>\n",
       "      <td>23.828</td>\n",
       "    </tr>\n",
       "    <tr>\n",
       "      <th>2</th>\n",
       "      <td>984890265-981157303-64491</td>\n",
       "      <td>2016</td>\n",
       "      <td>BURGER KING HØNEFOSS</td>\n",
       "      <td>1.1.1.0</td>\n",
       "      <td>Hamburger restaurants</td>\n",
       "      <td>6050102</td>\n",
       "      <td>KONG RINGS GATE 1</td>\n",
       "      <td>60.164751</td>\n",
       "      <td>10.254656</td>\n",
       "      <td>BURGER KING</td>\n",
       "      <td>Kuben Hønefoss</td>\n",
       "      <td>16.099</td>\n",
       "    </tr>\n",
       "    <tr>\n",
       "      <th>3</th>\n",
       "      <td>914057442-992924179-126912</td>\n",
       "      <td>2016</td>\n",
       "      <td>BURGER KING GLASSHUSPASSASJEN</td>\n",
       "      <td>1.1.1.0</td>\n",
       "      <td>Hamburger restaurants</td>\n",
       "      <td>18040102</td>\n",
       "      <td>STORGATA 12</td>\n",
       "      <td>67.283669</td>\n",
       "      <td>14.379796</td>\n",
       "      <td>BURGER KING</td>\n",
       "      <td>Glasshuspassasjen</td>\n",
       "      <td>9.296</td>\n",
       "    </tr>\n",
       "    <tr>\n",
       "      <th>4</th>\n",
       "      <td>913018583-913063538-668469</td>\n",
       "      <td>2016</td>\n",
       "      <td>BURGER KING TILLERTORGET</td>\n",
       "      <td>1.1.1.0</td>\n",
       "      <td>Hamburger restaurants</td>\n",
       "      <td>16017414</td>\n",
       "      <td>No address</td>\n",
       "      <td>63.358068</td>\n",
       "      <td>10.374832</td>\n",
       "      <td>BURGER KING</td>\n",
       "      <td>Tillertorget</td>\n",
       "      <td>4.528</td>\n",
       "    </tr>\n",
       "  </tbody>\n",
       "</table>\n",
       "</div>"
      ],
      "text/plain": [
       "                     store_id  year                           store_name  \\\n",
       "0   983540538-974187930-44774  2016  MCDONALD'S BRAGERNES TORG MAGASINET   \n",
       "1   987074191-973117734-44755  2016           MCDONALD'S KLINGENBERGGATA   \n",
       "2   984890265-981157303-64491  2016                 BURGER KING HØNEFOSS   \n",
       "3  914057442-992924179-126912  2016        BURGER KING GLASSHUSPASSASJEN   \n",
       "4  913018583-913063538-668469  2016             BURGER KING TILLERTORGET   \n",
       "\n",
       "  plaace_hierarchy_id     sales_channel_name  grunnkrets_id  \\\n",
       "0             1.1.1.0  Hamburger restaurants        6020303   \n",
       "1             1.1.1.0  Hamburger restaurants        3010306   \n",
       "2             1.1.1.0  Hamburger restaurants        6050102   \n",
       "3             1.1.1.0  Hamburger restaurants       18040102   \n",
       "4             1.1.1.0  Hamburger restaurants       16017414   \n",
       "\n",
       "             address        lat        lon   chain_name          mall_name  \\\n",
       "0  BRAGERNES TORG 13  59.743104  10.204928    MCDONALDS  Magasinet Drammen   \n",
       "1         No address  59.913759  10.734031    MCDONALDS            No mall   \n",
       "2  KONG RINGS GATE 1  60.164751  10.254656  BURGER KING     Kuben Hønefoss   \n",
       "3        STORGATA 12  67.283669  14.379796  BURGER KING  Glasshuspassasjen   \n",
       "4         No address  63.358068  10.374832  BURGER KING       Tillertorget   \n",
       "\n",
       "   revenue  \n",
       "0   17.998  \n",
       "1   23.828  \n",
       "2   16.099  \n",
       "3    9.296  \n",
       "4    4.528  "
      ]
     },
     "execution_count": 761,
     "metadata": {},
     "output_type": "execute_result"
    }
   ],
   "source": [
    "train_data.head()"
   ]
  },
  {
   "cell_type": "code",
   "execution_count": 762,
   "metadata": {},
   "outputs": [
    {
     "data": {
      "text/plain": [
       "False"
      ]
     },
     "execution_count": 762,
     "metadata": {},
     "output_type": "execute_result"
    }
   ],
   "source": [
    "# Check if there are missing values => false, so there aren't anymore :)\n",
    "train_data.isnull().sum().any()"
   ]
  },
  {
   "cell_type": "code",
   "execution_count": 763,
   "metadata": {},
   "outputs": [],
   "source": [
    "# 'store_name', 'year', 'sales_channel_name', 'address' columns are redundant, remove them\n",
    "train_data = train_data.drop('store_name',axis=1)\n",
    "train_data = train_data.drop('year',axis=1)\n",
    "train_data = train_data.drop('sales_channel_name',axis=1)\n",
    "train_data = train_data.drop('address',axis=1)"
   ]
  },
  {
   "cell_type": "code",
   "execution_count": 764,
   "metadata": {},
   "outputs": [
    {
     "data": {
      "text/html": [
       "<div>\n",
       "<style scoped>\n",
       "    .dataframe tbody tr th:only-of-type {\n",
       "        vertical-align: middle;\n",
       "    }\n",
       "\n",
       "    .dataframe tbody tr th {\n",
       "        vertical-align: top;\n",
       "    }\n",
       "\n",
       "    .dataframe thead th {\n",
       "        text-align: right;\n",
       "    }\n",
       "</style>\n",
       "<table border=\"1\" class=\"dataframe\">\n",
       "  <thead>\n",
       "    <tr style=\"text-align: right;\">\n",
       "      <th></th>\n",
       "      <th>store_id</th>\n",
       "      <th>plaace_hierarchy_id</th>\n",
       "      <th>grunnkrets_id</th>\n",
       "      <th>lat</th>\n",
       "      <th>lon</th>\n",
       "      <th>chain_name</th>\n",
       "      <th>mall_name</th>\n",
       "      <th>revenue</th>\n",
       "    </tr>\n",
       "  </thead>\n",
       "  <tbody>\n",
       "    <tr>\n",
       "      <th>0</th>\n",
       "      <td>983540538-974187930-44774</td>\n",
       "      <td>1.1.1.0</td>\n",
       "      <td>6020303</td>\n",
       "      <td>59.743104</td>\n",
       "      <td>10.204928</td>\n",
       "      <td>MCDONALDS</td>\n",
       "      <td>Magasinet Drammen</td>\n",
       "      <td>17.998</td>\n",
       "    </tr>\n",
       "    <tr>\n",
       "      <th>1</th>\n",
       "      <td>987074191-973117734-44755</td>\n",
       "      <td>1.1.1.0</td>\n",
       "      <td>3010306</td>\n",
       "      <td>59.913759</td>\n",
       "      <td>10.734031</td>\n",
       "      <td>MCDONALDS</td>\n",
       "      <td>No mall</td>\n",
       "      <td>23.828</td>\n",
       "    </tr>\n",
       "    <tr>\n",
       "      <th>2</th>\n",
       "      <td>984890265-981157303-64491</td>\n",
       "      <td>1.1.1.0</td>\n",
       "      <td>6050102</td>\n",
       "      <td>60.164751</td>\n",
       "      <td>10.254656</td>\n",
       "      <td>BURGER KING</td>\n",
       "      <td>Kuben Hønefoss</td>\n",
       "      <td>16.099</td>\n",
       "    </tr>\n",
       "    <tr>\n",
       "      <th>3</th>\n",
       "      <td>914057442-992924179-126912</td>\n",
       "      <td>1.1.1.0</td>\n",
       "      <td>18040102</td>\n",
       "      <td>67.283669</td>\n",
       "      <td>14.379796</td>\n",
       "      <td>BURGER KING</td>\n",
       "      <td>Glasshuspassasjen</td>\n",
       "      <td>9.296</td>\n",
       "    </tr>\n",
       "    <tr>\n",
       "      <th>4</th>\n",
       "      <td>913018583-913063538-668469</td>\n",
       "      <td>1.1.1.0</td>\n",
       "      <td>16017414</td>\n",
       "      <td>63.358068</td>\n",
       "      <td>10.374832</td>\n",
       "      <td>BURGER KING</td>\n",
       "      <td>Tillertorget</td>\n",
       "      <td>4.528</td>\n",
       "    </tr>\n",
       "  </tbody>\n",
       "</table>\n",
       "</div>"
      ],
      "text/plain": [
       "                     store_id plaace_hierarchy_id  grunnkrets_id        lat  \\\n",
       "0   983540538-974187930-44774             1.1.1.0        6020303  59.743104   \n",
       "1   987074191-973117734-44755             1.1.1.0        3010306  59.913759   \n",
       "2   984890265-981157303-64491             1.1.1.0        6050102  60.164751   \n",
       "3  914057442-992924179-126912             1.1.1.0       18040102  67.283669   \n",
       "4  913018583-913063538-668469             1.1.1.0       16017414  63.358068   \n",
       "\n",
       "         lon   chain_name          mall_name  revenue  \n",
       "0  10.204928    MCDONALDS  Magasinet Drammen   17.998  \n",
       "1  10.734031    MCDONALDS            No mall   23.828  \n",
       "2  10.254656  BURGER KING     Kuben Hønefoss   16.099  \n",
       "3  14.379796  BURGER KING  Glasshuspassasjen    9.296  \n",
       "4  10.374832  BURGER KING       Tillertorget    4.528  "
      ]
     },
     "execution_count": 764,
     "metadata": {},
     "output_type": "execute_result"
    }
   ],
   "source": [
    "train_data.head()"
   ]
  },
  {
   "cell_type": "code",
   "execution_count": 765,
   "metadata": {},
   "outputs": [],
   "source": [
    "#train_data['store_name'] = pd.factorize(train_data['store_name'])[0]"
   ]
  },
  {
   "cell_type": "code",
   "execution_count": 766,
   "metadata": {},
   "outputs": [
    {
     "name": "stderr",
     "output_type": "stream",
     "text": [
      "/var/folders/v4/l760qmd51vl3yg0k0ly6n5fw0000gn/T/ipykernel_4439/1393849137.py:1: UserWarning: \n",
      "\n",
      "`distplot` is a deprecated function and will be removed in seaborn v0.14.0.\n",
      "\n",
      "Please adapt your code to use either `displot` (a figure-level function with\n",
      "similar flexibility) or `kdeplot` (an axes-level function for kernel density plots).\n",
      "\n",
      "For a guide to updating your code to use the new functions, please see\n",
      "https://gist.github.com/mwaskom/de44147ed2974457ad6372750bbe5751\n",
      "\n",
      "  sns.distplot(train_data['revenue'],hist=False)\n"
     ]
    },
    {
     "data": {
      "image/png": "[encoded data removed]",
      "text/plain": [
       "<Figure size 640x480 with 1 Axes>"
      ]
     },
     "metadata": {},
     "output_type": "display_data"
    }
   ],
   "source": [
    "sns.distplot(train_data['revenue'],hist=False)\n",
    "plt.title('Distribution of Target variable')\n",
    "sns.despine() # removes top and right border from the figure"
   ]
  },
  {
   "cell_type": "code",
   "execution_count": 767,
   "metadata": {},
   "outputs": [
    {
     "name": "stderr",
     "output_type": "stream",
     "text": [
      "/Library/Frameworks/Python.framework/Versions/3.9/lib/python3.9/site-packages/pandas/core/arraylike.py:405: RuntimeWarning: divide by zero encountered in log\n",
      "  result = getattr(ufunc, method)(*inputs, **kwargs)\n",
      "/var/folders/v4/l760qmd51vl3yg0k0ly6n5fw0000gn/T/ipykernel_4439/3849053235.py:1: UserWarning: \n",
      "\n",
      "`distplot` is a deprecated function and will be removed in seaborn v0.14.0.\n",
      "\n",
      "Please adapt your code to use either `displot` (a figure-level function with\n",
      "similar flexibility) or `kdeplot` (an axes-level function for kernel density plots).\n",
      "\n",
      "For a guide to updating your code to use the new functions, please see\n",
      "https://gist.github.com/mwaskom/de44147ed2974457ad6372750bbe5751\n",
      "\n",
      "  sns.distplot(np.log(train_data['revenue']),hist=False)\n"
     ]
    },
    {
     "data": {
      "text/plain": [
       "Text(0.5, 1.0, 'Distribution of Target variable')"
      ]
     },
     "execution_count": 767,
     "metadata": {},
     "output_type": "execute_result"
    },
    {
     "data": {
      "image/png": "[encoded data removed]",
      "text/plain": [
       "<Figure size 640x480 with 1 Axes>"
      ]
     },
     "metadata": {},
     "output_type": "display_data"
    }
   ],
   "source": [
    "sns.distplot(np.log(train_data['revenue']),hist=False)\n",
    "plt.title('Distribution of Target variable')"
   ]
  },
  {
   "cell_type": "code",
   "execution_count": 768,
   "metadata": {},
   "outputs": [],
   "source": [
    "# The data is ≈ normally distributed when plotted in log"
   ]
  },
  {
   "cell_type": "code",
   "execution_count": 769,
   "metadata": {},
   "outputs": [
    {
     "data": {
      "text/plain": [
       "126"
      ]
     },
     "execution_count": 769,
     "metadata": {},
     "output_type": "execute_result"
    }
   ],
   "source": [
    "# Make new column for less specified plaace hierarchy to group data together\n",
    "train_data.isnull().sum().sum()\n",
    "train_data = pd.merge(train_data, plaace_hierarchy[['plaace_hierarchy_id', 'lv1', 'lv2', 'lv3']], on='plaace_hierarchy_id', how='outer')\n",
    "train_data.isnull().sum().sum()"
   ]
  },
  {
   "cell_type": "code",
   "execution_count": 770,
   "metadata": {},
   "outputs": [
    {
     "data": {
      "text/plain": [
       "<AxesSubplot: xlabel='lv2', ylabel='count'>"
      ]
     },
     "execution_count": 770,
     "metadata": {},
     "output_type": "execute_result"
    },
    {
     "data": {
      "image/png": "[encoded data removed]",
      "text/plain": [
       "<Figure size 640x480 with 1 Axes>"
      ]
     },
     "metadata": {},
     "output_type": "display_data"
    }
   ],
   "source": [
    "sns.countplot(x=train_data[\"lv2\"])"
   ]
  },
  {
   "cell_type": "code",
   "execution_count": 771,
   "metadata": {},
   "outputs": [
    {
     "data": {
      "text/plain": [
       "1.1    2453\n",
       "3.2    2138\n",
       "2.8    1516\n",
       "2.4    1143\n",
       "2.9    1001\n",
       "2.7     781\n",
       "3.3     667\n",
       "2.6     637\n",
       "2.1     553\n",
       "1.2     451\n",
       "2.2     364\n",
       "2.3     344\n",
       "3.6     318\n",
       "1.3     239\n",
       "3.4     152\n",
       "2.5      95\n",
       "1.4      13\n",
       "3.5       5\n",
       "3.1       4\n",
       "1.5       3\n",
       "Name: lv2, dtype: int64"
      ]
     },
     "execution_count": 771,
     "metadata": {},
     "output_type": "execute_result"
    }
   ],
   "source": [
    "train_data['lv2'].value_counts()"
   ]
  },
  {
   "cell_type": "code",
   "execution_count": 772,
   "metadata": {},
   "outputs": [
    {
     "data": {
      "text/plain": [
       "lv2\n",
       "1.1     5.838152\n",
       "1.2     4.927947\n",
       "1.3     5.898410\n",
       "1.4     3.952769\n",
       "1.5          NaN\n",
       "2.1    12.202720\n",
       "2.2    16.096934\n",
       "2.3     9.210148\n",
       "2.4     4.996741\n",
       "2.5     3.844558\n",
       "2.6     7.839873\n",
       "2.7     6.620996\n",
       "2.8    25.573357\n",
       "2.9     7.614967\n",
       "3.1          NaN\n",
       "3.2     2.281237\n",
       "3.3     4.441008\n",
       "3.4     2.092629\n",
       "3.5     0.000000\n",
       "3.6     3.812314\n",
       "Name: revenue, dtype: float64"
      ]
     },
     "execution_count": 772,
     "metadata": {},
     "output_type": "execute_result"
    }
   ],
   "source": [
    "train_data.groupby('lv2')['revenue'].mean()\n",
    "# hierarchy seems to affect the revenue\n",
    "# Problem: why NaN on 1.5 and 3.1?"
   ]
  },
  {
   "cell_type": "code",
   "execution_count": 773,
   "metadata": {},
   "outputs": [
    {
     "data": {
      "text/plain": [
       "1.1    2453\n",
       "3.2    2138\n",
       "2.8    1516\n",
       "2.4    1143\n",
       "2.9    1001\n",
       "2.7     781\n",
       "3.3     667\n",
       "2.6     637\n",
       "2.1     553\n",
       "1.2     451\n",
       "2.2     364\n",
       "2.3     344\n",
       "3.6     318\n",
       "1.3     239\n",
       "3.4     152\n",
       "2.5      95\n",
       "1.4      13\n",
       "3.5       5\n",
       "3.1       4\n",
       "1.5       3\n",
       "Name: lv2, dtype: int64"
      ]
     },
     "execution_count": 773,
     "metadata": {},
     "output_type": "execute_result"
    }
   ],
   "source": [
    "train_data['lv2'].value_counts()"
   ]
  },
  {
   "cell_type": "code",
   "execution_count": 774,
   "metadata": {},
   "outputs": [
    {
     "data": {
      "text/plain": [
       "No chain                9122\n",
       "REMA FRANCHISE NORGE     273\n",
       "JOKER                    164\n",
       "MIX                      121\n",
       "CIRCLE K DETALJIST       116\n",
       "                        ... \n",
       "SVANE KJØKKEN              1\n",
       "COMFORT                    1\n",
       "PREGO 4701                 1\n",
       "HUSFLIDEN                  1\n",
       "SDR NORWAY                 1\n",
       "Name: chain_name, Length: 307, dtype: int64"
      ]
     },
     "execution_count": 774,
     "metadata": {},
     "output_type": "execute_result"
    }
   ],
   "source": [
    "train_data['chain_name'].value_counts()\n",
    "# 307 different ones, create dummy variables will give too many columns"
   ]
  },
  {
   "cell_type": "code",
   "execution_count": 775,
   "metadata": {},
   "outputs": [
    {
     "data": {
      "text/plain": [
       "10010802.0    86\n",
       "3010306.0     75\n",
       "3010205.0     64\n",
       "16011204.0    61\n",
       "2310803.0     54\n",
       "              ..\n",
       "12460203.0     1\n",
       "18680203.0     1\n",
       "12240104.0     1\n",
       "2191506.0      1\n",
       "19021302.0     1\n",
       "Name: grunnkrets_id, Length: 3817, dtype: int64"
      ]
     },
     "execution_count": 775,
     "metadata": {},
     "output_type": "execute_result"
    }
   ],
   "source": [
    "train_data['grunnkrets_id'].value_counts()\n",
    "# 3817 different ones, group together somehow? Municipality?"
   ]
  },
  {
   "cell_type": "code",
   "execution_count": 776,
   "metadata": {},
   "outputs": [
    {
     "data": {
      "text/plain": [
       "No mall                   10579\n",
       "Strømmen Storsenter          39\n",
       "Sandvika Storsenter          26\n",
       "Amfi Moa                     26\n",
       "Kvadrat                      21\n",
       "                          ...  \n",
       "Farsund Senter                1\n",
       "Sigdalsenteret                1\n",
       "Centrum Varehus               1\n",
       "Dalsenteret                   1\n",
       "Rosenlund Bydelssenter        1\n",
       "Name: mall_name, Length: 488, dtype: int64"
      ]
     },
     "execution_count": 776,
     "metadata": {},
     "output_type": "execute_result"
    }
   ],
   "source": [
    "train_data['mall_name'].value_counts()\n",
    "# 488 different ones, but 10579 of the stores are not in a mall\n",
    "# => make dummy variable: one column with 1 for mall and 0 for no mall"
   ]
  },
  {
   "cell_type": "code",
   "execution_count": 777,
   "metadata": {},
   "outputs": [],
   "source": [
    "# Dummy variable for mall or no mall\n",
    "\n",
    "# This makes dummy variables for each mall with 1 and 0\n",
    "# mall_dummy = pd.get_dummies(train_data['mall_name'],drop_first=True)\n",
    "# train_data = pd.concat([train_data,mall_dummy],axis=1)\n",
    "# train_data.drop(['mall_name'],axis=1, inplace=True)\n",
    "\n",
    "train_data.loc[train_data['mall_name'].str.contains(\"No mall\", na=False),'mall_dummy'] = 0\n",
    "train_data.loc[~(train_data['mall_name'].str.contains(\"No mall\", na=False)),'mall_dummy'] = 1\n",
    "train_data.drop(['mall_name'],axis=1, inplace=True)\n"
   ]
  },
  {
   "cell_type": "code",
   "execution_count": 778,
   "metadata": {},
   "outputs": [
    {
     "name": "stderr",
     "output_type": "stream",
     "text": [
      "/var/folders/v4/l760qmd51vl3yg0k0ly6n5fw0000gn/T/ipykernel_4439/799129080.py:6: FutureWarning: Dropping of nuisance columns in DataFrame reductions (with 'numeric_only=None') is deprecated; in a future version this will raise TypeError.  Select only valid columns before calling the reduction.\n",
      "  grunnkrets_age['total_nbr_people'] = grunnkrets_age.sum(axis=1) # total number of inhabitants\n"
     ]
    }
   ],
   "source": [
    "# Sum together the number of people in each grunnkrets\n",
    "grunnkrets_age = grunnkrets_age.drop_duplicates(subset=['grunnkrets_id'], keep='last') # if there is value for 2016 we keep it, otherwise 2015\n",
    "grunnkrets_age = grunnkrets_age.fillna(0)\n",
    "grunnkrets_age = grunnkrets_age.drop('year',axis=1)\n",
    "grunnkrets_age['grunnkrets_id'] = grunnkrets_age['grunnkrets_id'].astype(str)\n",
    "grunnkrets_age['total_nbr_people'] = grunnkrets_age.sum(axis=1) # total number of inhabitants\n",
    "grunnkrets_age['group1'] = grunnkrets_age.iloc[:,1:11].sum(axis=1) # 0-9 years old\n",
    "grunnkrets_age['group2'] = grunnkrets_age.iloc[:,11:21].sum(axis=1) # 10-19 years old etc\n",
    "grunnkrets_age['group3'] = grunnkrets_age.iloc[:,21:31].sum(axis=1)\n",
    "grunnkrets_age['group4'] = grunnkrets_age.iloc[:,31:41].sum(axis=1)\n",
    "grunnkrets_age['group5'] = grunnkrets_age.iloc[:,41:51].sum(axis=1)\n",
    "grunnkrets_age['group6'] = grunnkrets_age.iloc[:,51:61].sum(axis=1)\n",
    "grunnkrets_age['group7'] = grunnkrets_age.iloc[:,61:71].sum(axis=1)\n",
    "grunnkrets_age['group8'] = grunnkrets_age.iloc[:,71:81].sum(axis=1)\n",
    "grunnkrets_age['group9'] = grunnkrets_age.iloc[:,81:92].sum(axis=1) # 80-90 years old\n",
    "grunnkrets_age['grunnkrets_id'] = grunnkrets_age['grunnkrets_id'].astype(int)\n",
    "\n",
    "train_data = pd.merge(train_data, grunnkrets_age[['grunnkrets_id', 'total_nbr_people', 'group1', 'group2', 'group3', 'group4', 'group5', 'group6', 'group7', 'group8', 'group9']], on='grunnkrets_id', how='left')\n",
    "# print(train_data.isnull().sum().sum())\n",
    "# Problem: We get lots of NaN"
   ]
  },
  {
   "cell_type": "code",
   "execution_count": 779,
   "metadata": {},
   "outputs": [],
   "source": [
    "# Number of people per store type (lv2) and grunnkrets\n",
    "\n",
    "# In dataframe grunnkrets_stripped, add column for number of stores total\n",
    "number_stores = train_data['grunnkrets_id'].value_counts().rename_axis('grunnkrets_id').reset_index(name='store_counts_total') # Not including NaN (stores without a grunnkrets_id)\n",
    "grunnkrets_stripped = pd.merge(grunnkrets_stripped, number_stores[['grunnkrets_id', 'store_counts_total']], on='grunnkrets_id', how='left')\n",
    "grunnkrets_stripped.store_counts_total = grunnkrets_stripped.store_counts_total.fillna(0)\n",
    "\n",
    "# Different way to do the above, same result\n",
    "# grunnkrets_stripped['number_stores_total'] = 0\n",
    "# for i in range(len(number_stores)):\n",
    "#     id = number_stores._get_value(i,'grunnkrets_id')\n",
    "#     nbr = number_stores._get_value(i,'counts')\n",
    "#     grunnkrets_stripped['number_stores_total'].mask(grunnkrets_stripped['grunnkrets_id'] == id, nbr, inplace=True)\n",
    "\n",
    "# In dataframe grunnkrets_stripped, add column for number of people in the grunnkrets\n",
    "grunnkrets_stripped = pd.merge(grunnkrets_stripped, grunnkrets_age[['grunnkrets_id', 'total_nbr_people']], on='grunnkrets_id', how='left')\n",
    "\n",
    "# In dataframe grunnkrets_stripped, add column for number of people per store in total\n",
    "grunnkrets_stripped['nbr_people_per_store_in_grunnkrets'] = grunnkrets_stripped['total_nbr_people']/grunnkrets_stripped['store_counts_total']\n",
    "\n",
    "# In dataframe train_data, add column for number of people per store in total\n",
    "train_data = pd.merge(train_data, grunnkrets_stripped[['grunnkrets_id', 'nbr_people_per_store_in_grunnkrets']], on='grunnkrets_id', how='left')\n",
    "\n",
    "\n",
    "# In dataframe grunnkrets_stripped, add column for number of stores in each category in lv2\n",
    "# In dataframe grunnkrets_stripped, add column for number of people per store in each category in lv2\n",
    "# In dataframe train_data, add column for number of people per store in each category in lv2 in each grunnkrets\n"
   ]
  },
  {
   "cell_type": "code",
   "execution_count": 780,
   "metadata": {},
   "outputs": [
    {
     "data": {
      "text/html": [
       "<div>\n",
       "<style scoped>\n",
       "    .dataframe tbody tr th:only-of-type {\n",
       "        vertical-align: middle;\n",
       "    }\n",
       "\n",
       "    .dataframe tbody tr th {\n",
       "        vertical-align: top;\n",
       "    }\n",
       "\n",
       "    .dataframe thead th {\n",
       "        text-align: right;\n",
       "    }\n",
       "</style>\n",
       "<table border=\"1\" class=\"dataframe\">\n",
       "  <thead>\n",
       "    <tr style=\"text-align: right;\">\n",
       "      <th></th>\n",
       "      <th>store_id</th>\n",
       "      <th>plaace_hierarchy_id</th>\n",
       "      <th>grunnkrets_id</th>\n",
       "      <th>lat</th>\n",
       "      <th>lon</th>\n",
       "      <th>chain_name</th>\n",
       "      <th>revenue</th>\n",
       "      <th>lv1</th>\n",
       "      <th>lv2</th>\n",
       "      <th>lv3</th>\n",
       "      <th>mall_dummy</th>\n",
       "      <th>total_nbr_people</th>\n",
       "      <th>group1</th>\n",
       "      <th>group2</th>\n",
       "      <th>group3</th>\n",
       "      <th>group4</th>\n",
       "      <th>group5</th>\n",
       "      <th>group6</th>\n",
       "      <th>group7</th>\n",
       "      <th>group8</th>\n",
       "      <th>group9</th>\n",
       "      <th>nbr_people_per_store_in_grunnkrets</th>\n",
       "    </tr>\n",
       "  </thead>\n",
       "  <tbody>\n",
       "    <tr>\n",
       "      <th>0</th>\n",
       "      <td>983540538-974187930-44774</td>\n",
       "      <td>1.1.1.0</td>\n",
       "      <td>6020303.0</td>\n",
       "      <td>59.743104</td>\n",
       "      <td>10.204928</td>\n",
       "      <td>MCDONALDS</td>\n",
       "      <td>17.998</td>\n",
       "      <td>1</td>\n",
       "      <td>1.1</td>\n",
       "      <td>1.1.1</td>\n",
       "      <td>1.0</td>\n",
       "      <td>157.0</td>\n",
       "      <td>13.0</td>\n",
       "      <td>14.0</td>\n",
       "      <td>39.0</td>\n",
       "      <td>30.0</td>\n",
       "      <td>24.0</td>\n",
       "      <td>14.0</td>\n",
       "      <td>10.0</td>\n",
       "      <td>10.0</td>\n",
       "      <td>3.0</td>\n",
       "      <td>3.140000</td>\n",
       "    </tr>\n",
       "    <tr>\n",
       "      <th>1</th>\n",
       "      <td>983540538-974187930-44774</td>\n",
       "      <td>1.1.1.0</td>\n",
       "      <td>6020303.0</td>\n",
       "      <td>59.743104</td>\n",
       "      <td>10.204928</td>\n",
       "      <td>MCDONALDS</td>\n",
       "      <td>17.998</td>\n",
       "      <td>1</td>\n",
       "      <td>1.1</td>\n",
       "      <td>1.1.1</td>\n",
       "      <td>1.0</td>\n",
       "      <td>157.0</td>\n",
       "      <td>13.0</td>\n",
       "      <td>14.0</td>\n",
       "      <td>39.0</td>\n",
       "      <td>30.0</td>\n",
       "      <td>24.0</td>\n",
       "      <td>14.0</td>\n",
       "      <td>10.0</td>\n",
       "      <td>10.0</td>\n",
       "      <td>3.0</td>\n",
       "      <td>3.140000</td>\n",
       "    </tr>\n",
       "    <tr>\n",
       "      <th>2</th>\n",
       "      <td>987074191-973117734-44755</td>\n",
       "      <td>1.1.1.0</td>\n",
       "      <td>3010306.0</td>\n",
       "      <td>59.913759</td>\n",
       "      <td>10.734031</td>\n",
       "      <td>MCDONALDS</td>\n",
       "      <td>23.828</td>\n",
       "      <td>1</td>\n",
       "      <td>1.1</td>\n",
       "      <td>1.1.1</td>\n",
       "      <td>0.0</td>\n",
       "      <td>NaN</td>\n",
       "      <td>NaN</td>\n",
       "      <td>NaN</td>\n",
       "      <td>NaN</td>\n",
       "      <td>NaN</td>\n",
       "      <td>NaN</td>\n",
       "      <td>NaN</td>\n",
       "      <td>NaN</td>\n",
       "      <td>NaN</td>\n",
       "      <td>NaN</td>\n",
       "      <td>NaN</td>\n",
       "    </tr>\n",
       "    <tr>\n",
       "      <th>3</th>\n",
       "      <td>987074191-973117734-44755</td>\n",
       "      <td>1.1.1.0</td>\n",
       "      <td>3010306.0</td>\n",
       "      <td>59.913759</td>\n",
       "      <td>10.734031</td>\n",
       "      <td>MCDONALDS</td>\n",
       "      <td>23.828</td>\n",
       "      <td>1</td>\n",
       "      <td>1.1</td>\n",
       "      <td>1.1.1</td>\n",
       "      <td>0.0</td>\n",
       "      <td>NaN</td>\n",
       "      <td>NaN</td>\n",
       "      <td>NaN</td>\n",
       "      <td>NaN</td>\n",
       "      <td>NaN</td>\n",
       "      <td>NaN</td>\n",
       "      <td>NaN</td>\n",
       "      <td>NaN</td>\n",
       "      <td>NaN</td>\n",
       "      <td>NaN</td>\n",
       "      <td>NaN</td>\n",
       "    </tr>\n",
       "    <tr>\n",
       "      <th>4</th>\n",
       "      <td>984890265-981157303-64491</td>\n",
       "      <td>1.1.1.0</td>\n",
       "      <td>6050102.0</td>\n",
       "      <td>60.164751</td>\n",
       "      <td>10.254656</td>\n",
       "      <td>BURGER KING</td>\n",
       "      <td>16.099</td>\n",
       "      <td>1</td>\n",
       "      <td>1.1</td>\n",
       "      <td>1.1.1</td>\n",
       "      <td>1.0</td>\n",
       "      <td>372.0</td>\n",
       "      <td>39.0</td>\n",
       "      <td>33.0</td>\n",
       "      <td>89.0</td>\n",
       "      <td>65.0</td>\n",
       "      <td>32.0</td>\n",
       "      <td>30.0</td>\n",
       "      <td>44.0</td>\n",
       "      <td>29.0</td>\n",
       "      <td>11.0</td>\n",
       "      <td>26.571429</td>\n",
       "    </tr>\n",
       "  </tbody>\n",
       "</table>\n",
       "</div>"
      ],
      "text/plain": [
       "                    store_id plaace_hierarchy_id  grunnkrets_id        lat  \\\n",
       "0  983540538-974187930-44774             1.1.1.0      6020303.0  59.743104   \n",
       "1  983540538-974187930-44774             1.1.1.0      6020303.0  59.743104   \n",
       "2  987074191-973117734-44755             1.1.1.0      3010306.0  59.913759   \n",
       "3  987074191-973117734-44755             1.1.1.0      3010306.0  59.913759   \n",
       "4  984890265-981157303-64491             1.1.1.0      6050102.0  60.164751   \n",
       "\n",
       "         lon   chain_name  revenue  lv1  lv2    lv3  mall_dummy  \\\n",
       "0  10.204928    MCDONALDS   17.998    1  1.1  1.1.1         1.0   \n",
       "1  10.204928    MCDONALDS   17.998    1  1.1  1.1.1         1.0   \n",
       "2  10.734031    MCDONALDS   23.828    1  1.1  1.1.1         0.0   \n",
       "3  10.734031    MCDONALDS   23.828    1  1.1  1.1.1         0.0   \n",
       "4  10.254656  BURGER KING   16.099    1  1.1  1.1.1         1.0   \n",
       "\n",
       "   total_nbr_people  group1  group2  group3  group4  group5  group6  group7  \\\n",
       "0             157.0    13.0    14.0    39.0    30.0    24.0    14.0    10.0   \n",
       "1             157.0    13.0    14.0    39.0    30.0    24.0    14.0    10.0   \n",
       "2               NaN     NaN     NaN     NaN     NaN     NaN     NaN     NaN   \n",
       "3               NaN     NaN     NaN     NaN     NaN     NaN     NaN     NaN   \n",
       "4             372.0    39.0    33.0    89.0    65.0    32.0    30.0    44.0   \n",
       "\n",
       "   group8  group9  nbr_people_per_store_in_grunnkrets  \n",
       "0    10.0     3.0                            3.140000  \n",
       "1    10.0     3.0                            3.140000  \n",
       "2     NaN     NaN                                 NaN  \n",
       "3     NaN     NaN                                 NaN  \n",
       "4    29.0    11.0                           26.571429  "
      ]
     },
     "execution_count": 780,
     "metadata": {},
     "output_type": "execute_result"
    }
   ],
   "source": [
    "train_data.head()"
   ]
  },
  {
   "cell_type": "code",
   "execution_count": 781,
   "metadata": {},
   "outputs": [],
   "source": [
    "# Now we work with the geographical features"
   ]
  },
  {
   "cell_type": "code",
   "execution_count": 782,
   "metadata": {},
   "outputs": [],
   "source": [
    "# A way to get the zipcode from the lat and lon, based on https://www.geeksforgeeks.org/get-the-city-state-and-country-names-from-latitude-and-longitude-using-python/\n",
    "# and https://gis.stackexchange.com/questions/352961/convert-lat-lon-to-zip-postal-code-using-python\n",
    "# # requires pip install geopy in terminal first\n",
    "\n",
    "import geopy\n",
    "geolocator = geopy.Nominatim(user_agent=\"geoapiExercises\")\n",
    "\n",
    "# FIRST ATTEMPT\n",
    "# train_data.insert(len(train_data.columns),'zipcode', 0)\n",
    "# # go through the whole columns of lat and lon pairs\n",
    "# for i in range(train_data.shape[0]):\n",
    "#     latitude = str(train_data.loc[i]['lat'])\n",
    "#     longitude = str(train_data.loc[i]['lon'])\n",
    "#     location = geolocator.reverse(latitude+\",\"+longitude)\n",
    "#     address = location.raw['address']\n",
    "#     train_data.loc[i]['zipcode'] = address.get('postcode')\n",
    "# # now we should have the dataframe with an extra column for zipcodes\n",
    "\n",
    "# # SECOND ATTEMPT\n",
    "# def get_zipcode(df, geolocator, lat_field, lon_field):\n",
    "#     location = geolocator.reverse((df[lat_field], df[lon_field]))\n",
    "#     return location.raw['address']['postcode']\n",
    "\n",
    "# zipcodes = train_data.apply(get_zipcode, axis=1, geolocator=geolocator, lat_field='lat', lon_field='lon')\n",
    "# train_data.insert(len(train_data.columns),'zipcode', zipcodes)\n",
    "# # Now we should have the dataframe train_data with a new column for zipcodes\n",
    "\n"
   ]
  },
  {
   "cell_type": "code",
   "execution_count": 783,
   "metadata": {},
   "outputs": [],
   "source": [
    "# IDEAS/TO DO\n",
    "\n",
    "# Convert categorical columns to numeric\n",
    "# Split into train and test data set\n",
    "# Make new column for distance to nearest busstop based on coordinates and busstops_norway.csv\n",
    "# Make categories for income and age distribution for different grunnkretser, add as columns\n",
    "# Try the sklearn ML models used in the EDA link from Kaggle"
   ]
  },
  {
   "cell_type": "code",
   "execution_count": 784,
   "metadata": {},
   "outputs": [],
   "source": [
    "# Buffer"
   ]
  },
  {
   "cell_type": "code",
   "execution_count": null,
   "metadata": {},
   "outputs": [],
   "source": []
  }
 ],
 "metadata": {
  "kernelspec": {
   "display_name": "Python 3.9.5 64-bit",
   "language": "python",
   "name": "python3"
  },
  "language_info": {
   "codemirror_mode": {
    "name": "ipython",
    "version": 3
   },
   "file_extension": ".py",
   "mimetype": "text/x-python",
   "name": "python",
   "nbconvert_exporter": "python",
   "pygments_lexer": "ipython3",
   "version": "3.9.5"
  },
  "orig_nbformat": 4,
  "vscode": {
   "interpreter": {
    "hash": "aee8b7b246df8f9039afb4144a1f6fd8d2ca17a180786b69acc140d282b71a49"
   }
  }
 },
 "nbformat": 4,
 "nbformat_minor": 2
}
