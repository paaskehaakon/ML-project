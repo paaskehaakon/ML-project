{
 "cells": [
  {
   "cell_type": "code",
   "execution_count": 70,
   "metadata": {},
   "outputs": [],
   "source": [
    "# EDA enligt https://www.kaggle.com/code/ayushikaushik/eda-regression-analysis#Preprocessing-the-data"
   ]
  },
  {
   "cell_type": "code",
   "execution_count": 71,
   "metadata": {},
   "outputs": [
    {
     "name": "stdout",
     "output_type": "stream",
     "text": [
      "Shape of training data: (12859, 12)\n",
      "Features available: Index(['store_id', 'year', 'store_name', 'plaace_hierarchy_id',\n",
      "       'sales_channel_name', 'grunnkrets_id', 'address', 'lat', 'lon',\n",
      "       'chain_name', 'mall_name', 'revenue'],\n",
      "      dtype='object')\n"
     ]
    }
   ],
   "source": [
    "import numpy as np\n",
    "import pandas as pd\n",
    "import matplotlib.pyplot as plt\n",
    "import seaborn as sns\n",
    "%matplotlib inline\n",
    "\n",
    "train_data = pd.read_csv('data/stores_train.csv')\n",
    "\n",
    "print(f\"Shape of training data: {train_data.shape}\\nFeatures available: {train_data.columns}\")"
   ]
  },
  {
   "cell_type": "code",
   "execution_count": 72,
   "metadata": {},
   "outputs": [
    {
     "data": {
      "text/html": [
       "<div>\n",
       "<style scoped>\n",
       "    .dataframe tbody tr th:only-of-type {\n",
       "        vertical-align: middle;\n",
       "    }\n",
       "\n",
       "    .dataframe tbody tr th {\n",
       "        vertical-align: top;\n",
       "    }\n",
       "\n",
       "    .dataframe thead th {\n",
       "        text-align: right;\n",
       "    }\n",
       "</style>\n",
       "<table border=\"1\" class=\"dataframe\">\n",
       "  <thead>\n",
       "    <tr style=\"text-align: right;\">\n",
       "      <th></th>\n",
       "      <th>store_id</th>\n",
       "      <th>year</th>\n",
       "      <th>store_name</th>\n",
       "      <th>plaace_hierarchy_id</th>\n",
       "      <th>sales_channel_name</th>\n",
       "      <th>grunnkrets_id</th>\n",
       "      <th>address</th>\n",
       "      <th>lat</th>\n",
       "      <th>lon</th>\n",
       "      <th>chain_name</th>\n",
       "      <th>mall_name</th>\n",
       "      <th>revenue</th>\n",
       "    </tr>\n",
       "  </thead>\n",
       "  <tbody>\n",
       "    <tr>\n",
       "      <th>0</th>\n",
       "      <td>983540538-974187930-44774</td>\n",
       "      <td>2016</td>\n",
       "      <td>MCDONALD'S BRAGERNES TORG MAGASINET</td>\n",
       "      <td>1.1.1.0</td>\n",
       "      <td>Hamburger restaurants</td>\n",
       "      <td>6020303</td>\n",
       "      <td>BRAGERNES TORG 13</td>\n",
       "      <td>59.743104</td>\n",
       "      <td>10.204928</td>\n",
       "      <td>MCDONALDS</td>\n",
       "      <td>Magasinet Drammen</td>\n",
       "      <td>17.998</td>\n",
       "    </tr>\n",
       "    <tr>\n",
       "      <th>1</th>\n",
       "      <td>987074191-973117734-44755</td>\n",
       "      <td>2016</td>\n",
       "      <td>MCDONALD'S KLINGENBERGGATA</td>\n",
       "      <td>1.1.1.0</td>\n",
       "      <td>Hamburger restaurants</td>\n",
       "      <td>3010306</td>\n",
       "      <td>NaN</td>\n",
       "      <td>59.913759</td>\n",
       "      <td>10.734031</td>\n",
       "      <td>MCDONALDS</td>\n",
       "      <td>NaN</td>\n",
       "      <td>23.828</td>\n",
       "    </tr>\n",
       "    <tr>\n",
       "      <th>2</th>\n",
       "      <td>984890265-981157303-64491</td>\n",
       "      <td>2016</td>\n",
       "      <td>BURGER KING HØNEFOSS</td>\n",
       "      <td>1.1.1.0</td>\n",
       "      <td>Hamburger restaurants</td>\n",
       "      <td>6050102</td>\n",
       "      <td>KONG RINGS GATE 1</td>\n",
       "      <td>60.164751</td>\n",
       "      <td>10.254656</td>\n",
       "      <td>BURGER KING</td>\n",
       "      <td>Kuben Hønefoss</td>\n",
       "      <td>16.099</td>\n",
       "    </tr>\n",
       "    <tr>\n",
       "      <th>3</th>\n",
       "      <td>914057442-992924179-126912</td>\n",
       "      <td>2016</td>\n",
       "      <td>BURGER KING GLASSHUSPASSASJEN</td>\n",
       "      <td>1.1.1.0</td>\n",
       "      <td>Hamburger restaurants</td>\n",
       "      <td>18040102</td>\n",
       "      <td>STORGATA 12</td>\n",
       "      <td>67.283669</td>\n",
       "      <td>14.379796</td>\n",
       "      <td>BURGER KING</td>\n",
       "      <td>Glasshuspassasjen</td>\n",
       "      <td>9.296</td>\n",
       "    </tr>\n",
       "    <tr>\n",
       "      <th>4</th>\n",
       "      <td>913018583-913063538-668469</td>\n",
       "      <td>2016</td>\n",
       "      <td>BURGER KING TILLERTORGET</td>\n",
       "      <td>1.1.1.0</td>\n",
       "      <td>Hamburger restaurants</td>\n",
       "      <td>16017414</td>\n",
       "      <td>NaN</td>\n",
       "      <td>63.358068</td>\n",
       "      <td>10.374832</td>\n",
       "      <td>BURGER KING</td>\n",
       "      <td>Tillertorget</td>\n",
       "      <td>4.528</td>\n",
       "    </tr>\n",
       "  </tbody>\n",
       "</table>\n",
       "</div>"
      ],
      "text/plain": [
       "                     store_id  year                           store_name  \\\n",
       "0   983540538-974187930-44774  2016  MCDONALD'S BRAGERNES TORG MAGASINET   \n",
       "1   987074191-973117734-44755  2016           MCDONALD'S KLINGENBERGGATA   \n",
       "2   984890265-981157303-64491  2016                 BURGER KING HØNEFOSS   \n",
       "3  914057442-992924179-126912  2016        BURGER KING GLASSHUSPASSASJEN   \n",
       "4  913018583-913063538-668469  2016             BURGER KING TILLERTORGET   \n",
       "\n",
       "  plaace_hierarchy_id     sales_channel_name  grunnkrets_id  \\\n",
       "0             1.1.1.0  Hamburger restaurants        6020303   \n",
       "1             1.1.1.0  Hamburger restaurants        3010306   \n",
       "2             1.1.1.0  Hamburger restaurants        6050102   \n",
       "3             1.1.1.0  Hamburger restaurants       18040102   \n",
       "4             1.1.1.0  Hamburger restaurants       16017414   \n",
       "\n",
       "             address        lat        lon   chain_name          mall_name  \\\n",
       "0  BRAGERNES TORG 13  59.743104  10.204928    MCDONALDS  Magasinet Drammen   \n",
       "1                NaN  59.913759  10.734031    MCDONALDS                NaN   \n",
       "2  KONG RINGS GATE 1  60.164751  10.254656  BURGER KING     Kuben Hønefoss   \n",
       "3        STORGATA 12  67.283669  14.379796  BURGER KING  Glasshuspassasjen   \n",
       "4                NaN  63.358068  10.374832  BURGER KING       Tillertorget   \n",
       "\n",
       "   revenue  \n",
       "0   17.998  \n",
       "1   23.828  \n",
       "2   16.099  \n",
       "3    9.296  \n",
       "4    4.528  "
      ]
     },
     "execution_count": 72,
     "metadata": {},
     "output_type": "execute_result"
    }
   ],
   "source": [
    "# To see all the columns in output this can be done.\n",
    "pd.options.display.max_columns=None\n",
    "# To see all rows change max_columns with max_rows\n",
    "\n",
    "train_data.head()"
   ]
  },
  {
   "cell_type": "code",
   "execution_count": 73,
   "metadata": {},
   "outputs": [
    {
     "data": {
      "text/plain": [
       "True"
      ]
     },
     "execution_count": 73,
     "metadata": {},
     "output_type": "execute_result"
    }
   ],
   "source": [
    "# Check if there are missing values => true, so there are\n",
    "train_data.isnull().sum().any()"
   ]
  },
  {
   "cell_type": "code",
   "execution_count": 74,
   "metadata": {},
   "outputs": [],
   "source": [
    "# Replace NaN in mall_name column with 'No mall'\n",
    "train_data.mall_name = train_data.mall_name.fillna('No mall')\n",
    "train_data.address = train_data.address.fillna('No address')\n",
    "train_data.chain_name = train_data.chain_name.fillna('No chain')"
   ]
  },
  {
   "cell_type": "code",
   "execution_count": 75,
   "metadata": {},
   "outputs": [
    {
     "data": {
      "text/html": [
       "<div>\n",
       "<style scoped>\n",
       "    .dataframe tbody tr th:only-of-type {\n",
       "        vertical-align: middle;\n",
       "    }\n",
       "\n",
       "    .dataframe tbody tr th {\n",
       "        vertical-align: top;\n",
       "    }\n",
       "\n",
       "    .dataframe thead th {\n",
       "        text-align: right;\n",
       "    }\n",
       "</style>\n",
       "<table border=\"1\" class=\"dataframe\">\n",
       "  <thead>\n",
       "    <tr style=\"text-align: right;\">\n",
       "      <th></th>\n",
       "      <th>store_id</th>\n",
       "      <th>year</th>\n",
       "      <th>store_name</th>\n",
       "      <th>plaace_hierarchy_id</th>\n",
       "      <th>sales_channel_name</th>\n",
       "      <th>grunnkrets_id</th>\n",
       "      <th>address</th>\n",
       "      <th>lat</th>\n",
       "      <th>lon</th>\n",
       "      <th>chain_name</th>\n",
       "      <th>mall_name</th>\n",
       "      <th>revenue</th>\n",
       "    </tr>\n",
       "  </thead>\n",
       "  <tbody>\n",
       "    <tr>\n",
       "      <th>0</th>\n",
       "      <td>983540538-974187930-44774</td>\n",
       "      <td>2016</td>\n",
       "      <td>MCDONALD'S BRAGERNES TORG MAGASINET</td>\n",
       "      <td>1.1.1.0</td>\n",
       "      <td>Hamburger restaurants</td>\n",
       "      <td>6020303</td>\n",
       "      <td>BRAGERNES TORG 13</td>\n",
       "      <td>59.743104</td>\n",
       "      <td>10.204928</td>\n",
       "      <td>MCDONALDS</td>\n",
       "      <td>Magasinet Drammen</td>\n",
       "      <td>17.998</td>\n",
       "    </tr>\n",
       "    <tr>\n",
       "      <th>1</th>\n",
       "      <td>987074191-973117734-44755</td>\n",
       "      <td>2016</td>\n",
       "      <td>MCDONALD'S KLINGENBERGGATA</td>\n",
       "      <td>1.1.1.0</td>\n",
       "      <td>Hamburger restaurants</td>\n",
       "      <td>3010306</td>\n",
       "      <td>No address</td>\n",
       "      <td>59.913759</td>\n",
       "      <td>10.734031</td>\n",
       "      <td>MCDONALDS</td>\n",
       "      <td>No mall</td>\n",
       "      <td>23.828</td>\n",
       "    </tr>\n",
       "    <tr>\n",
       "      <th>2</th>\n",
       "      <td>984890265-981157303-64491</td>\n",
       "      <td>2016</td>\n",
       "      <td>BURGER KING HØNEFOSS</td>\n",
       "      <td>1.1.1.0</td>\n",
       "      <td>Hamburger restaurants</td>\n",
       "      <td>6050102</td>\n",
       "      <td>KONG RINGS GATE 1</td>\n",
       "      <td>60.164751</td>\n",
       "      <td>10.254656</td>\n",
       "      <td>BURGER KING</td>\n",
       "      <td>Kuben Hønefoss</td>\n",
       "      <td>16.099</td>\n",
       "    </tr>\n",
       "    <tr>\n",
       "      <th>3</th>\n",
       "      <td>914057442-992924179-126912</td>\n",
       "      <td>2016</td>\n",
       "      <td>BURGER KING GLASSHUSPASSASJEN</td>\n",
       "      <td>1.1.1.0</td>\n",
       "      <td>Hamburger restaurants</td>\n",
       "      <td>18040102</td>\n",
       "      <td>STORGATA 12</td>\n",
       "      <td>67.283669</td>\n",
       "      <td>14.379796</td>\n",
       "      <td>BURGER KING</td>\n",
       "      <td>Glasshuspassasjen</td>\n",
       "      <td>9.296</td>\n",
       "    </tr>\n",
       "    <tr>\n",
       "      <th>4</th>\n",
       "      <td>913018583-913063538-668469</td>\n",
       "      <td>2016</td>\n",
       "      <td>BURGER KING TILLERTORGET</td>\n",
       "      <td>1.1.1.0</td>\n",
       "      <td>Hamburger restaurants</td>\n",
       "      <td>16017414</td>\n",
       "      <td>No address</td>\n",
       "      <td>63.358068</td>\n",
       "      <td>10.374832</td>\n",
       "      <td>BURGER KING</td>\n",
       "      <td>Tillertorget</td>\n",
       "      <td>4.528</td>\n",
       "    </tr>\n",
       "  </tbody>\n",
       "</table>\n",
       "</div>"
      ],
      "text/plain": [
       "                     store_id  year                           store_name  \\\n",
       "0   983540538-974187930-44774  2016  MCDONALD'S BRAGERNES TORG MAGASINET   \n",
       "1   987074191-973117734-44755  2016           MCDONALD'S KLINGENBERGGATA   \n",
       "2   984890265-981157303-64491  2016                 BURGER KING HØNEFOSS   \n",
       "3  914057442-992924179-126912  2016        BURGER KING GLASSHUSPASSASJEN   \n",
       "4  913018583-913063538-668469  2016             BURGER KING TILLERTORGET   \n",
       "\n",
       "  plaace_hierarchy_id     sales_channel_name  grunnkrets_id  \\\n",
       "0             1.1.1.0  Hamburger restaurants        6020303   \n",
       "1             1.1.1.0  Hamburger restaurants        3010306   \n",
       "2             1.1.1.0  Hamburger restaurants        6050102   \n",
       "3             1.1.1.0  Hamburger restaurants       18040102   \n",
       "4             1.1.1.0  Hamburger restaurants       16017414   \n",
       "\n",
       "             address        lat        lon   chain_name          mall_name  \\\n",
       "0  BRAGERNES TORG 13  59.743104  10.204928    MCDONALDS  Magasinet Drammen   \n",
       "1         No address  59.913759  10.734031    MCDONALDS            No mall   \n",
       "2  KONG RINGS GATE 1  60.164751  10.254656  BURGER KING     Kuben Hønefoss   \n",
       "3        STORGATA 12  67.283669  14.379796  BURGER KING  Glasshuspassasjen   \n",
       "4         No address  63.358068  10.374832  BURGER KING       Tillertorget   \n",
       "\n",
       "   revenue  \n",
       "0   17.998  \n",
       "1   23.828  \n",
       "2   16.099  \n",
       "3    9.296  \n",
       "4    4.528  "
      ]
     },
     "execution_count": 75,
     "metadata": {},
     "output_type": "execute_result"
    }
   ],
   "source": [
    "train_data.head()"
   ]
  },
  {
   "cell_type": "code",
   "execution_count": 84,
   "metadata": {},
   "outputs": [
    {
     "data": {
      "text/plain": [
       "False"
      ]
     },
     "execution_count": 84,
     "metadata": {},
     "output_type": "execute_result"
    }
   ],
   "source": [
    "# Check if there are missing values => false, so there aren't anymore :)\n",
    "train_data.isnull().sum().any()"
   ]
  },
  {
   "cell_type": "code",
   "execution_count": 77,
   "metadata": {},
   "outputs": [],
   "source": [
    "# 'year' column is redundant, remove it\n",
    "train_data = train_data.drop('year',axis=1)"
   ]
  },
  {
   "cell_type": "code",
   "execution_count": 78,
   "metadata": {},
   "outputs": [
    {
     "data": {
      "text/html": [
       "<div>\n",
       "<style scoped>\n",
       "    .dataframe tbody tr th:only-of-type {\n",
       "        vertical-align: middle;\n",
       "    }\n",
       "\n",
       "    .dataframe tbody tr th {\n",
       "        vertical-align: top;\n",
       "    }\n",
       "\n",
       "    .dataframe thead th {\n",
       "        text-align: right;\n",
       "    }\n",
       "</style>\n",
       "<table border=\"1\" class=\"dataframe\">\n",
       "  <thead>\n",
       "    <tr style=\"text-align: right;\">\n",
       "      <th></th>\n",
       "      <th>store_id</th>\n",
       "      <th>store_name</th>\n",
       "      <th>plaace_hierarchy_id</th>\n",
       "      <th>sales_channel_name</th>\n",
       "      <th>grunnkrets_id</th>\n",
       "      <th>address</th>\n",
       "      <th>lat</th>\n",
       "      <th>lon</th>\n",
       "      <th>chain_name</th>\n",
       "      <th>mall_name</th>\n",
       "      <th>revenue</th>\n",
       "    </tr>\n",
       "  </thead>\n",
       "  <tbody>\n",
       "    <tr>\n",
       "      <th>0</th>\n",
       "      <td>983540538-974187930-44774</td>\n",
       "      <td>MCDONALD'S BRAGERNES TORG MAGASINET</td>\n",
       "      <td>1.1.1.0</td>\n",
       "      <td>Hamburger restaurants</td>\n",
       "      <td>6020303</td>\n",
       "      <td>BRAGERNES TORG 13</td>\n",
       "      <td>59.743104</td>\n",
       "      <td>10.204928</td>\n",
       "      <td>MCDONALDS</td>\n",
       "      <td>Magasinet Drammen</td>\n",
       "      <td>17.998</td>\n",
       "    </tr>\n",
       "    <tr>\n",
       "      <th>1</th>\n",
       "      <td>987074191-973117734-44755</td>\n",
       "      <td>MCDONALD'S KLINGENBERGGATA</td>\n",
       "      <td>1.1.1.0</td>\n",
       "      <td>Hamburger restaurants</td>\n",
       "      <td>3010306</td>\n",
       "      <td>No address</td>\n",
       "      <td>59.913759</td>\n",
       "      <td>10.734031</td>\n",
       "      <td>MCDONALDS</td>\n",
       "      <td>No mall</td>\n",
       "      <td>23.828</td>\n",
       "    </tr>\n",
       "    <tr>\n",
       "      <th>2</th>\n",
       "      <td>984890265-981157303-64491</td>\n",
       "      <td>BURGER KING HØNEFOSS</td>\n",
       "      <td>1.1.1.0</td>\n",
       "      <td>Hamburger restaurants</td>\n",
       "      <td>6050102</td>\n",
       "      <td>KONG RINGS GATE 1</td>\n",
       "      <td>60.164751</td>\n",
       "      <td>10.254656</td>\n",
       "      <td>BURGER KING</td>\n",
       "      <td>Kuben Hønefoss</td>\n",
       "      <td>16.099</td>\n",
       "    </tr>\n",
       "    <tr>\n",
       "      <th>3</th>\n",
       "      <td>914057442-992924179-126912</td>\n",
       "      <td>BURGER KING GLASSHUSPASSASJEN</td>\n",
       "      <td>1.1.1.0</td>\n",
       "      <td>Hamburger restaurants</td>\n",
       "      <td>18040102</td>\n",
       "      <td>STORGATA 12</td>\n",
       "      <td>67.283669</td>\n",
       "      <td>14.379796</td>\n",
       "      <td>BURGER KING</td>\n",
       "      <td>Glasshuspassasjen</td>\n",
       "      <td>9.296</td>\n",
       "    </tr>\n",
       "    <tr>\n",
       "      <th>4</th>\n",
       "      <td>913018583-913063538-668469</td>\n",
       "      <td>BURGER KING TILLERTORGET</td>\n",
       "      <td>1.1.1.0</td>\n",
       "      <td>Hamburger restaurants</td>\n",
       "      <td>16017414</td>\n",
       "      <td>No address</td>\n",
       "      <td>63.358068</td>\n",
       "      <td>10.374832</td>\n",
       "      <td>BURGER KING</td>\n",
       "      <td>Tillertorget</td>\n",
       "      <td>4.528</td>\n",
       "    </tr>\n",
       "  </tbody>\n",
       "</table>\n",
       "</div>"
      ],
      "text/plain": [
       "                     store_id                           store_name  \\\n",
       "0   983540538-974187930-44774  MCDONALD'S BRAGERNES TORG MAGASINET   \n",
       "1   987074191-973117734-44755           MCDONALD'S KLINGENBERGGATA   \n",
       "2   984890265-981157303-64491                 BURGER KING HØNEFOSS   \n",
       "3  914057442-992924179-126912        BURGER KING GLASSHUSPASSASJEN   \n",
       "4  913018583-913063538-668469             BURGER KING TILLERTORGET   \n",
       "\n",
       "  plaace_hierarchy_id     sales_channel_name  grunnkrets_id  \\\n",
       "0             1.1.1.0  Hamburger restaurants        6020303   \n",
       "1             1.1.1.0  Hamburger restaurants        3010306   \n",
       "2             1.1.1.0  Hamburger restaurants        6050102   \n",
       "3             1.1.1.0  Hamburger restaurants       18040102   \n",
       "4             1.1.1.0  Hamburger restaurants       16017414   \n",
       "\n",
       "             address        lat        lon   chain_name          mall_name  \\\n",
       "0  BRAGERNES TORG 13  59.743104  10.204928    MCDONALDS  Magasinet Drammen   \n",
       "1         No address  59.913759  10.734031    MCDONALDS            No mall   \n",
       "2  KONG RINGS GATE 1  60.164751  10.254656  BURGER KING     Kuben Hønefoss   \n",
       "3        STORGATA 12  67.283669  14.379796  BURGER KING  Glasshuspassasjen   \n",
       "4         No address  63.358068  10.374832  BURGER KING       Tillertorget   \n",
       "\n",
       "   revenue  \n",
       "0   17.998  \n",
       "1   23.828  \n",
       "2   16.099  \n",
       "3    9.296  \n",
       "4    4.528  "
      ]
     },
     "execution_count": 78,
     "metadata": {},
     "output_type": "execute_result"
    }
   ],
   "source": [
    "train_data.head()"
   ]
  },
  {
   "cell_type": "code",
   "execution_count": 79,
   "metadata": {},
   "outputs": [],
   "source": [
    "#train_data['store_name'] = pd.factorize(train_data['store_name'])[0]"
   ]
  },
  {
   "cell_type": "code",
   "execution_count": 80,
   "metadata": {},
   "outputs": [],
   "source": [
    "#train_data.head()"
   ]
  },
  {
   "cell_type": "code",
   "execution_count": 81,
   "metadata": {},
   "outputs": [
    {
     "name": "stderr",
     "output_type": "stream",
     "text": [
      "/var/folders/v4/l760qmd51vl3yg0k0ly6n5fw0000gn/T/ipykernel_24626/1393849137.py:1: UserWarning: \n",
      "\n",
      "`distplot` is a deprecated function and will be removed in seaborn v0.14.0.\n",
      "\n",
      "Please adapt your code to use either `displot` (a figure-level function with\n",
      "similar flexibility) or `kdeplot` (an axes-level function for kernel density plots).\n",
      "\n",
      "For a guide to updating your code to use the new functions, please see\n",
      "https://gist.github.com/mwaskom/de44147ed2974457ad6372750bbe5751\n",
      "\n",
      "  sns.distplot(train_data['revenue'],hist=False)\n"
     ]
    },
    {
     "data": {
      "image/png": "[encoded data removed]",
      "text/plain": [
       "<Figure size 640x480 with 1 Axes>"
      ]
     },
     "metadata": {},
     "output_type": "display_data"
    }
   ],
   "source": [
    "sns.distplot(train_data['revenue'],hist=False)\n",
    "plt.title('Distribution of Target variable')\n",
    "sns.despine() # removes top and right border from the figure"
   ]
  },
  {
   "cell_type": "code",
   "execution_count": 82,
   "metadata": {},
   "outputs": [
    {
     "name": "stderr",
     "output_type": "stream",
     "text": [
      "/Library/Frameworks/Python.framework/Versions/3.9/lib/python3.9/site-packages/pandas/core/arraylike.py:405: RuntimeWarning: divide by zero encountered in log\n",
      "  result = getattr(ufunc, method)(*inputs, **kwargs)\n",
      "/var/folders/v4/l760qmd51vl3yg0k0ly6n5fw0000gn/T/ipykernel_24626/3849053235.py:1: UserWarning: \n",
      "\n",
      "`distplot` is a deprecated function and will be removed in seaborn v0.14.0.\n",
      "\n",
      "Please adapt your code to use either `displot` (a figure-level function with\n",
      "similar flexibility) or `kdeplot` (an axes-level function for kernel density plots).\n",
      "\n",
      "For a guide to updating your code to use the new functions, please see\n",
      "https://gist.github.com/mwaskom/de44147ed2974457ad6372750bbe5751\n",
      "\n",
      "  sns.distplot(np.log(train_data['revenue']),hist=False)\n"
     ]
    },
    {
     "data": {
      "text/plain": [
       "Text(0.5, 1.0, 'Distribution of Target variable')"
      ]
     },
     "execution_count": 82,
     "metadata": {},
     "output_type": "execute_result"
    },
    {
     "data": {
      "image/png": "[encoded data removed]",
      "text/plain": [
       "<Figure size 640x480 with 1 Axes>"
      ]
     },
     "metadata": {},
     "output_type": "display_data"
    }
   ],
   "source": [
    "sns.distplot(np.log(train_data['revenue']),hist=False)\n",
    "plt.title('Distribution of Target variable')"
   ]
  },
  {
   "cell_type": "code",
   "execution_count": 83,
   "metadata": {},
   "outputs": [],
   "source": [
    "# The data is ≈ normally distributed when plotted in log"
   ]
  },
  {
   "cell_type": "code",
   "execution_count": null,
   "metadata": {},
   "outputs": [],
   "source": []
  }
 ],
 "metadata": {
  "kernelspec": {
   "display_name": "Python 3.9.5 64-bit",
   "language": "python",
   "name": "python3"
  },
  "language_info": {
   "codemirror_mode": {
    "name": "ipython",
    "version": 3
   },
   "file_extension": ".py",
   "mimetype": "text/x-python",
   "name": "python",
   "nbconvert_exporter": "python",
   "pygments_lexer": "ipython3",
   "version": "3.9.5"
  },
  "orig_nbformat": 4,
  "vscode": {
   "interpreter": {
    "hash": "aee8b7b246df8f9039afb4144a1f6fd8d2ca17a180786b69acc140d282b71a49"
   }
  }
 },
 "nbformat": 4,
 "nbformat_minor": 2
}
