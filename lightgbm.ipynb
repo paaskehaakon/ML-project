{
 "cells": [
  {
   "cell_type": "code",
   "execution_count": null,
   "metadata": {},
   "outputs": [],
   "source": [
    "#julia"
   ]
  },
  {
   "cell_type": "code",
   "execution_count": null,
   "metadata": {},
   "outputs": [],
   "source": [
    "#Haakon\n",
    "import lightgbm as lgb  # standard alias\n",
    "import numpy as np \n",
    "import pandas as pd \n",
    "import matplotlib.pyplot as plt \n",
    "import seaborn as sns \n",
    "from scipy.stats import norm\n",
    "\n",
    "train = pd.read_csv('data/stores_train.csv')\n",
    "test = pd.read_csv('data/stores_test.csv')\n",
    "\n",
    "# To see all the columns in output this can be done.\n",
    "pd.options.display.max_columns=None\n",
    "train.head()\n",
    "\n",
    "#I drop a shit tonn of lables because they were too difficult to integrate into our model with dummies\n",
    "train = train.drop(\"year\", axis='columns')\n",
    "train = train.drop(\"store_name\", axis='columns')\n",
    "train = train.drop(\"plaace_hierarchy_id\", axis='columns')\n",
    "train = train.drop(\"grunnkrets_id\", axis='columns')\n",
    "train = train.drop(\"address\", axis='columns')\n",
    "train = train.drop(\"store_id\", axis='columns')\n",
    "train = pd.get_dummies(train, columns=['sales_channel_name'])\n",
    "train = pd.get_dummies(train, columns=['chain_name'])\n",
    "train = pd.get_dummies(train, columns=['mall_name'])\n"
   ]
  },
  {
   "cell_type": "code",
   "execution_count": null,
   "metadata": {},
   "outputs": [],
   "source": [
    "print(\"Shape train: %s, test: %s\" % (train.shape, test.shape)) #print number of rows and cols of each dataset\n",
    "\n",
    "pd.options.display.max_columns = None # Show all cols\n",
    "train.describe() # shows metadata of the data\n",
    "\n",
    "\n",
    "\"\"\" # plot of data in a normalized curve\n",
    "fig, ax = plt.subplots(1,2)\n",
    "width, height = fig.get_size_inches()\n",
    "fig.set_size_inches(width*2, height)\n",
    "sns.distplot(train['revenue'], ax=ax[0], fit=norm)\n",
    "sns.distplot(np.log(train[('revenue')]+1), ax=ax[1], fit= norm) \"\"\""
   ]
  },
  {
   "cell_type": "code",
   "execution_count": null,
   "metadata": {},
   "outputs": [],
   "source": [
    "#lgbm things\n",
    "from sklearn.model_selection import train_test_split\n",
    "y = train[\"revenue\"]\n",
    "y.sample(3)\n",
    "\n",
    "#split training and test data\n",
    "X_train, X_test, y_train, y_test = train_test_split(train, y, test_size=0.2, random_state=42)\n",
    "#Hyper parameters\n",
    "hyper_params = {\n",
    "    'task': 'train',\n",
    "    'boosting_type': 'gbdt',\n",
    "    'objective': 'regression',\n",
    "    'metric': ['l1','l2'],\n",
    "    'learning_rate': 0.005,\n",
    "    'feature_fraction': 0.9,\n",
    "    'bagging_fraction': 0.7,\n",
    "    'bagging_freq': 10,\n",
    "    'verbose': 0,\n",
    "    \"max_depth\": 8,\n",
    "    \"num_leaves\": 128,  \n",
    "    \"max_bin\": 512,\n",
    "    \"num_iterations\": 100000\n",
    "}\n",
    "\n",
    "#fit the model takes some time\n",
    "gbm = lgb.LGBMRegressor(**hyper_params)\n",
    "gbm.fit(X_train, y_train,\n",
    "        eval_set=[(X_test, y_test)],\n",
    "        eval_metric='l1',\n",
    "        early_stopping_rounds=)"
   ]
  },
  {
   "cell_type": "code",
   "execution_count": null,
   "metadata": {},
   "outputs": [],
   "source": [
    "\n",
    "import math\n",
    "#predict\n",
    "y_pred = gbm.predict(X_train, num_iteration=gbm.best_iteration_)\n",
    "\n",
    "#calc rmse\n",
    "MSE = np.square(np.subtract(y_train,y_pred)).mean() \n",
    "RMSE = math.sqrt(MSE)\n",
    "print(RMSE)"
   ]
  }
 ],
 "metadata": {
  "kernelspec": {
   "display_name": "Python 3.8.10 64-bit",
   "language": "python",
   "name": "python3"
  },
  "language_info": {
   "codemirror_mode": {
    "name": "ipython",
    "version": 3
   },
   "file_extension": ".py",
   "mimetype": "text/x-python",
   "name": "python",
   "nbconvert_exporter": "python",
   "pygments_lexer": "ipython3",
   "version": "3.8.10"
  },
  "orig_nbformat": 4,
  "vscode": {
   "interpreter": {
    "hash": "916dbcbb3f70747c44a77c7bcd40155683ae19c65e1c03b4aa3499c5328201f1"
   }
  }
 },
 "nbformat": 4,
 "nbformat_minor": 2
}
