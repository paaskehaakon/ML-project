{
 "cells": [
  {
   "cell_type": "code",
   "execution_count": null,
   "metadata": {},
   "outputs": [],
   "source": [
    "#julia"
   ]
  },
  {
   "cell_type": "code",
   "execution_count": null,
   "metadata": {},
   "outputs": [],
   "source": [
    "#Haakon\n",
    "import lightgbm as lgb  # standard alias\n",
    "import numpy as np \n",
    "import pandas as pd \n",
    "import matplotlib.pyplot as plt \n",
    "import seaborn as sns \n",
    "from scipy.stats import norm\n",
    "\n",
    "train = pd.read_csv('data/stores_train.csv')\n",
    "test = pd.read_csv('data/stores_test.csv')\n",
    "\n",
    "print(\"Shape train: %s, test: %s\" % (train.shape, test.shape)) #print number of rows and cols of each dataset\n",
    "\n",
    "pd.options.display.max_columns = None # Show all cols\n",
    "train.describe() # shows metadata of the data\n",
    "\n",
    "# plot of data in a normalized curve\n",
    "fig, ax = plt.subplots(1,2)\n",
    "width, height = fig.get_size_inches()\n",
    "fig.set_size_inches(width*2, height)\n",
    "sns.distplot(train['revenue'], ax=ax[0], fit=norm)\n",
    "sns.distplot(np.log(train[('revenue')]+1), ax=ax[1], fit= norm)\n",
    "\n",
    "#Hyper parameters\n",
    "hyper_params = {\n",
    "    'task': 'train',\n",
    "    'boosting_type': 'gbdt',\n",
    "    'objective': 'regression',\n",
    "    'metric': ['l1','l2'],\n",
    "    'learning_rate': 0.005,\n",
    "    'feature_fraction': 0.9,\n",
    "    'bagging_fraction': 0.7,\n",
    "    'bagging_freq': 10,\n",
    "    'verbose': 0,\n",
    "    \"max_depth\": 8,\n",
    "    \"num_leaves\": 128,  \n",
    "    \"max_bin\": 512,\n",
    "    \"num_iterations\": 100000\n",
    "}\n",
    "\n",
    "#define model\n",
    "gbm = lgb.LGBMRegressor(**hyper_params)\n",
    "\n",
    "#fir model\n",
    "gbm.fit(X_train, y_train,\n",
    "        eval_set=[(X_test, y_test)],\n",
    "        eval_metric='l1',\n",
    "        early_stopping_rounds=1000)\n",
    "\n"
   ]
  },
  {
   "cell_type": "code",
   "execution_count": null,
   "metadata": {},
   "outputs": [],
   "source": [
    "def fill_missing(df, cols, val):\n",
    "    \"\"\" Fill with the supplied val \"\"\"\n",
    "    for col in cols:\n",
    "        df[col] = df[col].fillna(val)\n",
    "\n",
    "def fill_missing_with_mode(df, cols):\n",
    "    \"\"\" Fill with the mode \"\"\"\n",
    "    for col in cols:\n",
    "        df[col] = df[col].fillna(df[col].mode()[0])\n",
    "        \n",
    "def addlogs(res, cols):\n",
    "    \"\"\" Log transform feature list\"\"\"\n",
    "    m = res.shape[1]\n",
    "    for c in cols:\n",
    "        res = res.assign(newcol=pd.Series(np.log(1.01+res[c])).values)   \n",
    "        res.columns.values[m] = c + '_log'\n",
    "        m += 1\n",
    "    return res\n",
    "\n"
   ]
  }
 ],
 "metadata": {
  "kernelspec": {
   "display_name": "Python 3.8.10 64-bit",
   "language": "python",
   "name": "python3"
  },
  "language_info": {
   "codemirror_mode": {
    "name": "ipython",
    "version": 3
   },
   "file_extension": ".py",
   "mimetype": "text/x-python",
   "name": "python",
   "nbconvert_exporter": "python",
   "pygments_lexer": "ipython3",
   "version": "3.8.10"
  },
  "orig_nbformat": 4,
  "vscode": {
   "interpreter": {
    "hash": "916dbcbb3f70747c44a77c7bcd40155683ae19c65e1c03b4aa3499c5328201f1"
   }
  }
 },
 "nbformat": 4,
 "nbformat_minor": 2
}
