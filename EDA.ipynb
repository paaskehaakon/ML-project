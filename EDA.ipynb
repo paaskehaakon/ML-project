{
 "cells": [
  {
   "cell_type": "code",
   "execution_count": null,
   "metadata": {},
   "outputs": [],
   "source": [
    "import numpy as np \n",
    "import pandas as pd \n",
    "import matplotlib.pyplot as plt \n",
    "import seaborn as sns \n",
    "\n",
    "stores_train = pd.read_csv('data/stores_train.csv')\n",
    "\n",
    "grunnkrets = stores_train[['store_id','grunnkrets_id','revenue']]\n",
    "grunnkrets.head()\n",
    "\n",
    "stores = np.arange(grunnkrets.shape[0])\n",
    "grunnkrets.shape[0]\n",
    "\n",
    "sns.scatterplot(x=stores, y='revenue', hue='grunnkrets_id', data=grunnkrets)\n",
    "plt.title(\"Revenue\")\n"
   ]
  },
  {
   "cell_type": "code",
   "execution_count": null,
   "metadata": {},
   "outputs": [],
   "source": []
  },
  {
   "cell_type": "code",
   "execution_count": null,
   "metadata": {},
   "outputs": [],
   "source": [
    "import numpy as np \n",
    "import pandas as pd \n",
    "import matplotlib.pyplot as plt \n",
    "import seaborn as sns \n",
    "import matplotlib as plt\n",
    "\n",
    "#read vsc\n",
    "df = pd.read_csv('data/stores_train.csv')\n",
    "#convert categirical names into numerical values\n",
    "\"\"\" df['store_name'] = pd.factorize(df['store_name'])[0]\n",
    "key=['plaace_hierarchy_id','revenue']\n",
    "print(df.groupby(key).mean()) \"\"\"\n",
    "column = df[\"revenue\"]\n",
    "max_value = column.max()\n",
    "print(max_value)"
   ]
  }
 ],
 "metadata": {
  "kernelspec": {
   "display_name": "Python 3.8.10 64-bit",
   "language": "python",
   "name": "python3"
  },
  "language_info": {
   "codemirror_mode": {
    "name": "ipython",
    "version": 3
   },
   "file_extension": ".py",
   "mimetype": "text/x-python",
   "name": "python",
   "nbconvert_exporter": "python",
   "pygments_lexer": "ipython3",
   "version": "3.8.10"
  },
  "orig_nbformat": 4,
  "vscode": {
   "interpreter": {
    "hash": "916dbcbb3f70747c44a77c7bcd40155683ae19c65e1c03b4aa3499c5328201f1"
   }
  }
 },
 "nbformat": 4,
 "nbformat_minor": 2
}
