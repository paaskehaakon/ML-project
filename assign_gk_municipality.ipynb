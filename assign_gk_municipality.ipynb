{
 "cells": [
  {
   "cell_type": "code",
   "execution_count": 417,
   "metadata": {},
   "outputs": [],
   "source": [
    "import math\n",
    "import geopy.distance\n",
    "from dis import dis\n",
    "import math\n",
    "import geopandas as gpd\n",
    "import numpy\n",
    "from shapely import wkt\n",
    "from shapely import wkb\n",
    "import numpy as np\n",
    "import pandas as pd\n",
    "import matplotlib.pyplot as plt\n",
    "import seaborn as sns\n",
    "from geopy.geocoders import Nominatim\n",
    "\n",
    "%matplotlib inline\n",
    "\n",
    "train_data = pd.read_csv('data/stores_train.csv')\n",
    "test_data = pd.read_csv('data/stores_test.csv')\n",
    "busstops = pd.read_csv('data/busstops_norway.csv')\n",
    "grunnkrets_age = pd.read_csv('data/grunnkrets_age_distribution.csv')\n",
    "grunnkrets_households = pd.read_csv('data/grunnkrets_households_num_persons.csv')\n",
    "grunnkrets_income = pd.read_csv('data/grunnkrets_income_households.csv')\n",
    "grunnkrets_stripped = pd.read_csv('data/grunnkrets_norway_stripped.csv')\n",
    "plaace_hierarchy = pd.read_csv('data/plaace_hierarchy.csv')"
   ]
  },
  {
   "cell_type": "code",
   "execution_count": 418,
   "metadata": {},
   "outputs": [],
   "source": [
    "# Add municipality names\n",
    "train_data = pd.merge(train_data, grunnkrets_stripped[['grunnkrets_id', 'municipality_name']], on='grunnkrets_id', how='left')\n",
    "# we get a bunch of duplicates of store_ids...? Remove them.\n",
    "train_data = train_data.drop_duplicates(subset=['store_id'], keep='first')\n",
    "\n",
    "# For test\n",
    "test_data = pd.merge(test_data, grunnkrets_stripped[['grunnkrets_id', 'municipality_name']], on='grunnkrets_id', how='left')\n",
    "# we get a bunch of duplicates of store_ids...? Remove them.\n",
    "test_data = test_data.drop_duplicates(subset=['store_id'], keep='first')"
   ]
  },
  {
   "cell_type": "code",
   "execution_count": 419,
   "metadata": {},
   "outputs": [],
   "source": [
    "def dist_to_all_km_centroids(lat, lon, df):\n",
    "\n",
    "    # coordinates in radians\n",
    "    lat1 = lat*math.pi/180\n",
    "    lon1 = lon*math.pi/180\n",
    "    lat2 = df['lat']*math.pi/180 # go through whole lat column\n",
    "    lon2 = df['lon']*math.pi/180 # go through whole lon column\n",
    "\n",
    "    # store original coordinates in new dataframe\n",
    "    distances = pd.DataFrame()\n",
    "    distances['grunnkrets_id'] = df['grunnkrets_id'].copy()\n",
    "    distances['lat'] = df['lat'].copy()\n",
    "    distances['lon'] = df['lon'].copy()\n",
    "\n",
    "    # calculate cartesian coordinates\n",
    "    R = 6371 # Earth radius in km\n",
    "    df['x'] = R*np.cos(lat2)*np.cos(lon2)\n",
    "    df['y'] = R*np.cos(lat2)*np.sin(lon2)\n",
    "    df['z'] = R*np.sin(lat2)\n",
    "    x1 = R*np.cos(lat1)*np.cos(lon1)\n",
    "    y1 = R*np.cos(lat1)*np.sin(lon1)\n",
    "    z1 = R*np.sin(lat1)\n",
    "\n",
    "    # calculate distance, store as new column in the distances dataframe\n",
    "    distances['dist'] = np.sqrt(np.square(df['x']-x1)+np.square(df['y']-y1)+np.square(df['z']-z1))\n",
    "\n",
    "    return distances['dist'].squeeze()"
   ]
  },
  {
   "cell_type": "code",
   "execution_count": 420,
   "metadata": {},
   "outputs": [
    {
     "data": {
      "text/plain": [
       "0"
      ]
     },
     "execution_count": 420,
     "metadata": {},
     "output_type": "execute_result"
    }
   ],
   "source": [
    "train_data['grunnkrets_id'].isna().sum()\n"
   ]
  },
  {
   "cell_type": "code",
   "execution_count": 421,
   "metadata": {},
   "outputs": [
    {
     "data": {
      "text/plain": [
       "30"
      ]
     },
     "execution_count": 421,
     "metadata": {},
     "output_type": "execute_result"
    }
   ],
   "source": [
    "train_data['municipality_name'].isna().sum()"
   ]
  },
  {
   "cell_type": "code",
   "execution_count": 422,
   "metadata": {},
   "outputs": [
    {
     "data": {
      "text/plain": [
       "0"
      ]
     },
     "execution_count": 422,
     "metadata": {},
     "output_type": "execute_result"
    }
   ],
   "source": [
    "test_data['grunnkrets_id'].isna().sum()"
   ]
  },
  {
   "cell_type": "code",
   "execution_count": 423,
   "metadata": {},
   "outputs": [
    {
     "data": {
      "text/plain": [
       "27"
      ]
     },
     "execution_count": 423,
     "metadata": {},
     "output_type": "execute_result"
    }
   ],
   "source": [
    "test_data['municipality_name'].isna().sum()"
   ]
  },
  {
   "cell_type": "code",
   "execution_count": 424,
   "metadata": {},
   "outputs": [],
   "source": [
    "# No missing grunnkrets_id but we have missing municipality_name"
   ]
  },
  {
   "cell_type": "code",
   "execution_count": 480,
   "metadata": {},
   "outputs": [
    {
     "name": "stdout",
     "output_type": "stream",
     "text": [
      "Empty DataFrame\n",
      "Columns: [index, grunnkrets_id, municipality_name, geometry, centroids, lon, lat]\n",
      "Index: []\n"
     ]
    }
   ],
   "source": [
    "# Get new dataframe with all grunnkrets_ids and municipality names\n",
    "\n",
    "gks_unik = train_data[\"grunnkrets_id\"].unique()\n",
    "gks = pd.DataFrame(gks_unik, columns=['grunnkrets_id'])\n",
    "gks = pd.merge(gks, grunnkrets_stripped[['grunnkrets_id', 'municipality_name', 'geometry']], on='grunnkrets_id', how='left')\n",
    "gks = gks.drop_duplicates(subset=['grunnkrets_id'], keep='first').reset_index(drop=True)\n",
    "\n",
    "gks = gks[gks['geometry'].notna()]\n",
    "\n",
    "\n",
    "#gks = gks.drop_duplicates(subset=['grunnkrets_id'], keep='first').reset_index(drop=True)\n",
    "\n",
    "#geoms = grunnkrets_stripped[[\"grunnkrets_id\",\"geometry\"]]\n",
    "\n",
    "\n",
    "#gks = pd.merge(gks, geoms[['grunnkrets_id', 'geometry']], on='grunnkrets_id', how='left')\n",
    "#gks = gks.drop_duplicates(subset=['grunnkrets_id'], keep='first').reset_index(drop=True)\n",
    "\n",
    "# Set geometry\n",
    "gks['geometry'] = gpd.GeoSeries.from_wkt(gks['geometry'])\n",
    "\n",
    "# geoseries s with the geometries for each gk\n",
    "s = gpd.GeoSeries(gks['geometry'])\n",
    "\n",
    "# Calculate centroids and extract lat and lon\n",
    "c = gpd.GeoSeries(s.centroid)\n",
    "centroids = gpd.GeoDataFrame({'centroids': c}, geometry='centroids')\n",
    "\n",
    "\n",
    "# print(centroids.iloc[:].values[0].x)\n",
    "# print(centroids.index.to_list())\n",
    "#lon_values = [centroids.iloc[i].values[0].x for i in centroids.index]\n",
    "\n",
    "#centroids = centroids.dropna()\n",
    "\n",
    "#lon_values = [centroids.iloc[i].values[0].x for i in range(len(centroids))]\n",
    "#print(len(lon_values))\n",
    "\n",
    "\n",
    "centroids['lon'] = centroids.geometry.apply(lambda x: x.x)\n",
    "centroids['lat'] = centroids.geometry.apply(lambda x: x.y)\n",
    "\n",
    "gks = gks.join(centroids)\n",
    "\n",
    "#Add centroid lat and lon to the gks dataframe\n",
    "\n",
    "#For each gk with no municipality name, check closest store outside that gk that has municipality name\n",
    "gk_nans = gks[gks['municipality_name'].isnull()].reset_index()\n",
    "\n",
    "print(gk_nans)\n",
    "\n",
    "# for index in range(len(gk_nans)):\n",
    "#     dist_to_other_gk = dist_to_all_km_centroids(gk_nans._get_value(index, 'lat'), gk_nans._get_value(index, 'lon'), gks)\n",
    "#     dist_to_other_gk = dist_to_other_gk.to_frame()\n",
    "#     dist_to_other_gk = dist_to_other_gk[dist_to_other_gk.dist == 0]\n",
    "#     index_min = dist_to_other_gk[['dist']].idxmin()\n",
    "#     closest_gk = dist_to_other_gk.get_value(index_min, 'grunnkrets_id') # extract the closest grunnkrets_id\n",
    "#     closest_munic = gks.loc[gks['grunnkrets_id'] == closest_gk, 'municipality_name'] # extract municipality name of closest gk\n",
    "#     gk_nans.at[index, 'municipality_name'] = closest_munic # set municipality name of gk to this in gk_nans\n",
    "    \n",
    "# # Merge gk_nans to gks\n",
    "# gks.combine_first(gk_nans)\n",
    "\n",
    "\n",
    "\n"
   ]
  },
  {
   "cell_type": "code",
   "execution_count": null,
   "metadata": {},
   "outputs": [],
   "source": []
  },
  {
   "cell_type": "code",
   "execution_count": null,
   "metadata": {},
   "outputs": [
    {
     "name": "stdout",
     "output_type": "stream",
     "text": [
      "       grunnkrets_id municipality_name  \\\n",
      "0            6020303           Drammen   \n",
      "2            3010306              Oslo   \n",
      "4            6050102         Ringerike   \n",
      "6           18040102              Bodø   \n",
      "8           16017414         Trondheim   \n",
      "...              ...               ...   \n",
      "25594        1052205         Sarpsborg   \n",
      "25602        2192009             Bærum   \n",
      "25668       11210203              Time   \n",
      "25672        7010802            Horten   \n",
      "25686       19021302            Tromsø   \n",
      "\n",
      "                                                geometry  \n",
      "0      POLYGON ((10.20462 59.74478, 10.20312 59.74273...  \n",
      "2      POLYGON ((10.73037 59.91072, 10.72976 59.91023...  \n",
      "4      POLYGON ((10.26540 60.16392, 10.26564 60.16396...  \n",
      "6      POLYGON ((14.38001 67.28524, 14.37985 67.28542...  \n",
      "8      POLYGON ((10.37097 63.35793, 10.37059 63.35643...  \n",
      "...                                                  ...  \n",
      "25594  MULTIPOLYGON (((11.07936 59.29347, 11.07951 59...  \n",
      "25602  POLYGON ((10.46704 59.91814, 10.46695 59.91820...  \n",
      "25668  POLYGON ((5.65176 58.73124, 5.65185 58.73085, ...  \n",
      "25672  POLYGON ((10.47172 59.40474, 10.47107 59.40445...  \n",
      "25686  POLYGON ((19.03818 69.66819, 19.04000 69.66747...  \n",
      "\n",
      "[3817 rows x 3 columns]\n"
     ]
    }
   ],
   "source": [
    "print(gks)"
   ]
  },
  {
   "cell_type": "code",
   "execution_count": null,
   "metadata": {},
   "outputs": [],
   "source": []
  }
 ],
 "metadata": {
  "kernelspec": {
   "display_name": "Python 3.9.5 64-bit",
   "language": "python",
   "name": "python3"
  },
  "language_info": {
   "codemirror_mode": {
    "name": "ipython",
    "version": 3
   },
   "file_extension": ".py",
   "mimetype": "text/x-python",
   "name": "python",
   "nbconvert_exporter": "python",
   "pygments_lexer": "ipython3",
   "version": "3.9.5"
  },
  "orig_nbformat": 4,
  "vscode": {
   "interpreter": {
    "hash": "aee8b7b246df8f9039afb4144a1f6fd8d2ca17a180786b69acc140d282b71a49"
   }
  }
 },
 "nbformat": 4,
 "nbformat_minor": 2
}
