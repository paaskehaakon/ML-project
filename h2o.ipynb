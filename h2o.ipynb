{
 "cells": [
  {
   "cell_type": "code",
   "execution_count": null,
   "metadata": {},
   "outputs": [],
   "source": [
    "# Import and init h2o lib. Running on java\n",
    "import h2o\n",
    "from h2o.automl import H2OAutoML\n",
    "import pandas as pd\n",
    "h2o.init()"
   ]
  },
  {
   "cell_type": "code",
   "execution_count": null,
   "metadata": {},
   "outputs": [],
   "source": [
    "# Reading csv to h2o dataframe \n",
    "col_types_train = {'store_id': 'enum',\n",
    " 'chain_name': 'enum',\n",
    " 'mall_name': 'enum',\n",
    " 'lv1': 'enum',\n",
    " 'lv2': 'enum',\n",
    " 'lv3': 'enum',\n",
    " 'revenue': 'int',\n",
    " 'total_nbr_people': 'int',\n",
    " 'nbr_people_per_store_in_grunnkrets': 'int',\n",
    " 'counts_gr_lv2': 'int',\n",
    " 'counts_municipality_lv2': 'int',\n",
    " 'busstops_within_50m': 'int',\n",
    " 'busstops_within_100m': 'int',\n",
    " 'busstops_within_400m': 'int',\n",
    " 'busstops_within_800m': 'int',\n",
    " 'busstops_within_1500m': 'int',\n",
    " 'num_stores_within_100m_and_same_lvl2': 'int',\n",
    " 'num_stores_within_500m_and_same_lvl2': 'int',\n",
    " 'num_stores_within_1km_and_same_lvl2': 'int',\n",
    " 'num_stores_within_5km_and_same_lvl2': 'int',\n",
    " 'num_stores_within_10km_and_same_lvl2': 'int',\n",
    " 'num_stores_within_20km_and_same_lvl2': 'int',\n",
    " 'municipality_size_group': 'enum',\n",
    " 'mean_revenue_for_municipality_size_group': 'int',\n",
    " 'median_revenue_for_municipality_size_group': 'int',\n",
    " 'st_dev_of_revenue_for_municipality_size_group': 'int',\n",
    " 'mean_revenue_for_level1': 'int',\n",
    " 'mean_revenue_for_level2': 'int',\n",
    " 'mean_revenue_for_level3': 'int',\n",
    " 'mean_revenue_chain': 'int'}\n",
    "\n",
    "col_types_test = {'store_id': 'enum',\n",
    " 'chain_name': 'enum',\n",
    " 'mall_name': 'enum',\n",
    " 'lv1': 'enum',\n",
    " 'lv2': 'enum',\n",
    " 'lv3': 'enum',\n",
    " 'total_nbr_people': 'int',\n",
    " 'nbr_people_per_store_in_grunnkrets': 'int',\n",
    " 'counts_gr_lv2': 'int',\n",
    " 'counts_municipality_lv2': 'int',\n",
    " 'busstops_within_50m': 'int',\n",
    " 'busstops_within_100m': 'int',\n",
    " 'busstops_within_400m': 'int',\n",
    " 'busstops_within_800m': 'int',\n",
    " 'busstops_within_1500m': 'int',\n",
    " 'num_stores_within_100m_and_same_lvl2': 'int',\n",
    " 'num_stores_within_500m_and_same_lvl2': 'int',\n",
    " 'num_stores_within_1km_and_same_lvl2': 'int',\n",
    " 'num_stores_within_5km_and_same_lvl2': 'int',\n",
    " 'num_stores_within_10km_and_same_lvl2': 'int',\n",
    " 'num_stores_within_20km_and_same_lvl2': 'int',\n",
    " 'municipality_size_group': 'enum',\n",
    " 'mean_revenue_for_municipality_size_group': 'int',\n",
    " 'median_revenue_for_municipality_size_group': 'int',\n",
    " 'st_dev_of_revenue_for_municipality_size_group': 'int',\n",
    " 'mean_revenue_for_level1': 'int',\n",
    " 'mean_revenue_for_level2': 'int',\n",
    " 'mean_revenue_for_level3': 'int',\n",
    " 'mean_revenue_chain': 'int'}\n",
    "\n",
    " \n",
    "train_data = h2o.import_file('feature_data/training_set_final_w_mean_rev.csv', col_types = col_types_train)\n",
    "test_data = h2o.import_file('feature_data/testing_set_final_w_mean_rev.csv', col_types = col_types_test)\n",
    "\n",
    "test = pd.read_csv('feature_data/testing_set_dropped.csv')\n",
    "\n",
    "# Save store ids, then remove this column\n",
    "store_ids = test['store_id'].to_numpy()\n",
    "ids = pd.DataFrame(store_ids)\n",
    "ids.rename(columns={0 :'id'}, inplace=True )\n",
    "\n",
    "train_data.types\n",
    "\n"
   ]
  },
  {
   "cell_type": "code",
   "execution_count": null,
   "metadata": {},
   "outputs": [],
   "source": [
    "# Removing labels from train set\n",
    "y = \"revenue\"\n",
    "x = train_data.columns\n",
    "x.remove(y)"
   ]
  },
  {
   "cell_type": "code",
   "execution_count": null,
   "metadata": {},
   "outputs": [],
   "source": [
    "# Running fit/training on train set with cross validation n=5\n",
    "aml = H2OAutoML(max_models = 10, seed = 1, stopping_metric = \"RMSE\")\n",
    "aml.train(x = x, y = y, training_frame = train_data)"
   ]
  },
  {
   "cell_type": "code",
   "execution_count": null,
   "metadata": {},
   "outputs": [],
   "source": [
    "lb = aml.leaderboard"
   ]
  },
  {
   "cell_type": "code",
   "execution_count": null,
   "metadata": {},
   "outputs": [],
   "source": [
    "# Showing best perforimg models\n",
    "lb.head()"
   ]
  },
  {
   "cell_type": "code",
   "execution_count": null,
   "metadata": {},
   "outputs": [],
   "source": [
    "preds = aml.predict(test_data)"
   ]
  },
  {
   "cell_type": "code",
   "execution_count": null,
   "metadata": {},
   "outputs": [],
   "source": [
    "#print variable importance\n",
    "aml.varimp(use_pandas = True)"
   ]
  },
  {
   "cell_type": "code",
   "execution_count": null,
   "metadata": {},
   "outputs": [],
   "source": [
    "#preds = h2o.as_list(preds)\n",
    "print(preds)"
   ]
  },
  {
   "cell_type": "code",
   "execution_count": null,
   "metadata": {},
   "outputs": [],
   "source": [
    "# Convert result to desired format\n",
    "\n",
    "import pandas as pd\n",
    "import numpy as np\n",
    "\n",
    "\n",
    "pandas_preds = preds.as_data_frame()\n",
    "pandas_preds.rename(columns={'predict' :'predicted'}, inplace=True)\n",
    "pandas_preds['predicted'] = np.expm1(pandas_preds['predicted'])\n",
    "\n",
    "def save_submission(pred):\n",
    "    predicted = pd.DataFrame(pred, columns = ['predicted'])\n",
    "    output = pd.concat([ids,predicted],axis=1)\n",
    "    output.to_csv('h2o.csv', index=False)\n",
    "    \n",
    "save_submission(pandas_preds)\n",
    "\n"
   ]
  }
 ],
 "metadata": {
  "kernelspec": {
   "display_name": "Python 3.9.5 64-bit",
   "language": "python",
   "name": "python3"
  },
  "language_info": {
   "name": "python",
   "version": "3.9.5"
  },
  "orig_nbformat": 4,
  "vscode": {
   "interpreter": {
    "hash": "aee8b7b246df8f9039afb4144a1f6fd8d2ca17a180786b69acc140d282b71a49"
   }
  }
 },
 "nbformat": 4,
 "nbformat_minor": 2
}
