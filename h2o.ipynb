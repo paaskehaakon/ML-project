{
 "cells": [
  {
   "cell_type": "code",
   "execution_count": 30,
   "metadata": {},
   "outputs": [
    {
     "name": "stdout",
     "output_type": "stream",
     "text": [
      "Checking whether there is an H2O instance running at http://localhost:54321 . connected.\n"
     ]
    },
    {
     "data": {
      "text/html": [
       "\n",
       "<style>\n",
       "\n",
       "#h2o-table-8.h2o-container {\n",
       "  overflow-x: auto;\n",
       "}\n",
       "#h2o-table-8 .h2o-table {\n",
       "  /* width: 100%; */\n",
       "  margin-top: 1em;\n",
       "  margin-bottom: 1em;\n",
       "}\n",
       "#h2o-table-8 .h2o-table caption {\n",
       "  white-space: nowrap;\n",
       "  caption-side: top;\n",
       "  text-align: left;\n",
       "  /* margin-left: 1em; */\n",
       "  margin: 0;\n",
       "  font-size: larger;\n",
       "}\n",
       "#h2o-table-8 .h2o-table thead {\n",
       "  white-space: nowrap; \n",
       "  position: sticky;\n",
       "  top: 0;\n",
       "  box-shadow: 0 -1px inset;\n",
       "}\n",
       "#h2o-table-8 .h2o-table tbody {\n",
       "  overflow: auto;\n",
       "}\n",
       "#h2o-table-8 .h2o-table th,\n",
       "#h2o-table-8 .h2o-table td {\n",
       "  text-align: right;\n",
       "  /* border: 1px solid; */\n",
       "}\n",
       "#h2o-table-8 .h2o-table tr:nth-child(even) {\n",
       "  /* background: #F5F5F5 */\n",
       "}\n",
       "\n",
       "</style>      \n",
       "<div id=\"h2o-table-8\" class=\"h2o-container\">\n",
       "  <table class=\"h2o-table\">\n",
       "    <caption></caption>\n",
       "    <thead></thead>\n",
       "    <tbody><tr><td>H2O_cluster_uptime:</td>\n",
       "<td>14 mins 49 secs</td></tr>\n",
       "<tr><td>H2O_cluster_timezone:</td>\n",
       "<td>Europe/Oslo</td></tr>\n",
       "<tr><td>H2O_data_parsing_timezone:</td>\n",
       "<td>UTC</td></tr>\n",
       "<tr><td>H2O_cluster_version:</td>\n",
       "<td>3.38.0.2</td></tr>\n",
       "<tr><td>H2O_cluster_version_age:</td>\n",
       "<td>15 days </td></tr>\n",
       "<tr><td>H2O_cluster_name:</td>\n",
       "<td>H2O_from_python_paaske_2eiu45</td></tr>\n",
       "<tr><td>H2O_cluster_total_nodes:</td>\n",
       "<td>1</td></tr>\n",
       "<tr><td>H2O_cluster_free_memory:</td>\n",
       "<td>1.639 Gb</td></tr>\n",
       "<tr><td>H2O_cluster_total_cores:</td>\n",
       "<td>8</td></tr>\n",
       "<tr><td>H2O_cluster_allowed_cores:</td>\n",
       "<td>8</td></tr>\n",
       "<tr><td>H2O_cluster_status:</td>\n",
       "<td>locked, healthy</td></tr>\n",
       "<tr><td>H2O_connection_url:</td>\n",
       "<td>http://localhost:54321</td></tr>\n",
       "<tr><td>H2O_connection_proxy:</td>\n",
       "<td>{\"http\": null, \"https\": null, \"no\": \"127.0.0.1\"}</td></tr>\n",
       "<tr><td>H2O_internal_security:</td>\n",
       "<td>False</td></tr>\n",
       "<tr><td>Python_version:</td>\n",
       "<td>3.8.10 final</td></tr></tbody>\n",
       "  </table>\n",
       "</div>\n"
      ],
      "text/plain": [
       "--------------------------  ------------------------------------------------\n",
       "H2O_cluster_uptime:         14 mins 49 secs\n",
       "H2O_cluster_timezone:       Europe/Oslo\n",
       "H2O_data_parsing_timezone:  UTC\n",
       "H2O_cluster_version:        3.38.0.2\n",
       "H2O_cluster_version_age:    15 days\n",
       "H2O_cluster_name:           H2O_from_python_paaske_2eiu45\n",
       "H2O_cluster_total_nodes:    1\n",
       "H2O_cluster_free_memory:    1.639 Gb\n",
       "H2O_cluster_total_cores:    8\n",
       "H2O_cluster_allowed_cores:  8\n",
       "H2O_cluster_status:         locked, healthy\n",
       "H2O_connection_url:         http://localhost:54321\n",
       "H2O_connection_proxy:       {\"http\": null, \"https\": null, \"no\": \"127.0.0.1\"}\n",
       "H2O_internal_security:      False\n",
       "Python_version:             3.8.10 final\n",
       "--------------------------  ------------------------------------------------"
      ]
     },
     "metadata": {},
     "output_type": "display_data"
    }
   ],
   "source": [
    "# Import and init h2o lib. Running on java\n",
    "import h2o\n",
    "from h2o.automl import H2OAutoML\n",
    "import pandas as pd\n",
    "h2o.init()"
   ]
  },
  {
   "cell_type": "code",
   "execution_count": 31,
   "metadata": {},
   "outputs": [
    {
     "ename": "KeyError",
     "evalue": "'store_id'",
     "output_type": "error",
     "traceback": [
      "\u001b[0;31m---------------------------------------------------------------------------\u001b[0m",
      "\u001b[0;31mKeyError\u001b[0m                                  Traceback (most recent call last)",
      "\u001b[0;32m~/.local/lib/python3.8/site-packages/pandas/core/indexes/base.py\u001b[0m in \u001b[0;36mget_loc\u001b[0;34m(self, key, method, tolerance)\u001b[0m\n\u001b[1;32m   3079\u001b[0m             \u001b[0;32mtry\u001b[0m\u001b[0;34m:\u001b[0m\u001b[0;34m\u001b[0m\u001b[0;34m\u001b[0m\u001b[0m\n\u001b[0;32m-> 3080\u001b[0;31m                 \u001b[0;32mreturn\u001b[0m \u001b[0mself\u001b[0m\u001b[0;34m.\u001b[0m\u001b[0m_engine\u001b[0m\u001b[0;34m.\u001b[0m\u001b[0mget_loc\u001b[0m\u001b[0;34m(\u001b[0m\u001b[0mcasted_key\u001b[0m\u001b[0;34m)\u001b[0m\u001b[0;34m\u001b[0m\u001b[0;34m\u001b[0m\u001b[0m\n\u001b[0m\u001b[1;32m   3081\u001b[0m             \u001b[0;32mexcept\u001b[0m \u001b[0mKeyError\u001b[0m \u001b[0;32mas\u001b[0m \u001b[0merr\u001b[0m\u001b[0;34m:\u001b[0m\u001b[0;34m\u001b[0m\u001b[0;34m\u001b[0m\u001b[0m\n",
      "\u001b[0;32mpandas/_libs/index.pyx\u001b[0m in \u001b[0;36mpandas._libs.index.IndexEngine.get_loc\u001b[0;34m()\u001b[0m\n",
      "\u001b[0;32mpandas/_libs/index.pyx\u001b[0m in \u001b[0;36mpandas._libs.index.IndexEngine.get_loc\u001b[0;34m()\u001b[0m\n",
      "\u001b[0;32mpandas/_libs/hashtable_class_helper.pxi\u001b[0m in \u001b[0;36mpandas._libs.hashtable.PyObjectHashTable.get_item\u001b[0;34m()\u001b[0m\n",
      "\u001b[0;32mpandas/_libs/hashtable_class_helper.pxi\u001b[0m in \u001b[0;36mpandas._libs.hashtable.PyObjectHashTable.get_item\u001b[0;34m()\u001b[0m\n",
      "\u001b[0;31mKeyError\u001b[0m: 'store_id'",
      "\nThe above exception was the direct cause of the following exception:\n",
      "\u001b[0;31mKeyError\u001b[0m                                  Traceback (most recent call last)",
      "\u001b[0;32m<ipython-input-31-7a564c4f9db0>\u001b[0m in \u001b[0;36m<module>\u001b[0;34m\u001b[0m\n\u001b[1;32m     93\u001b[0m \u001b[0;34m\u001b[0m\u001b[0m\n\u001b[1;32m     94\u001b[0m \u001b[0;31m# Save store ids, then remove this column\u001b[0m\u001b[0;34m\u001b[0m\u001b[0;34m\u001b[0m\u001b[0;34m\u001b[0m\u001b[0m\n\u001b[0;32m---> 95\u001b[0;31m \u001b[0mstore_ids\u001b[0m \u001b[0;34m=\u001b[0m \u001b[0mtest_data\u001b[0m\u001b[0;34m[\u001b[0m\u001b[0;34m'store_id'\u001b[0m\u001b[0;34m]\u001b[0m\u001b[0;34m.\u001b[0m\u001b[0mto_numpy\u001b[0m\u001b[0;34m(\u001b[0m\u001b[0;34m)\u001b[0m\u001b[0;34m\u001b[0m\u001b[0;34m\u001b[0m\u001b[0m\n\u001b[0m\u001b[1;32m     96\u001b[0m \u001b[0mids\u001b[0m \u001b[0;34m=\u001b[0m \u001b[0mpd\u001b[0m\u001b[0;34m.\u001b[0m\u001b[0mDataFrame\u001b[0m\u001b[0;34m(\u001b[0m\u001b[0mstore_ids\u001b[0m\u001b[0;34m)\u001b[0m\u001b[0;34m\u001b[0m\u001b[0;34m\u001b[0m\u001b[0m\n\u001b[1;32m     97\u001b[0m \u001b[0mids\u001b[0m\u001b[0;34m.\u001b[0m\u001b[0mrename\u001b[0m\u001b[0;34m(\u001b[0m\u001b[0mcolumns\u001b[0m\u001b[0;34m=\u001b[0m\u001b[0;34m{\u001b[0m\u001b[0;36m0\u001b[0m \u001b[0;34m:\u001b[0m\u001b[0;34m'id'\u001b[0m\u001b[0;34m}\u001b[0m\u001b[0;34m,\u001b[0m \u001b[0minplace\u001b[0m\u001b[0;34m=\u001b[0m\u001b[0;32mTrue\u001b[0m\u001b[0;34m)\u001b[0m\u001b[0;34m\u001b[0m\u001b[0;34m\u001b[0m\u001b[0m\n",
      "\u001b[0;32m~/.local/lib/python3.8/site-packages/pandas/core/frame.py\u001b[0m in \u001b[0;36m__getitem__\u001b[0;34m(self, key)\u001b[0m\n\u001b[1;32m   3022\u001b[0m             \u001b[0;32mif\u001b[0m \u001b[0mself\u001b[0m\u001b[0;34m.\u001b[0m\u001b[0mcolumns\u001b[0m\u001b[0;34m.\u001b[0m\u001b[0mnlevels\u001b[0m \u001b[0;34m>\u001b[0m \u001b[0;36m1\u001b[0m\u001b[0;34m:\u001b[0m\u001b[0;34m\u001b[0m\u001b[0;34m\u001b[0m\u001b[0m\n\u001b[1;32m   3023\u001b[0m                 \u001b[0;32mreturn\u001b[0m \u001b[0mself\u001b[0m\u001b[0;34m.\u001b[0m\u001b[0m_getitem_multilevel\u001b[0m\u001b[0;34m(\u001b[0m\u001b[0mkey\u001b[0m\u001b[0;34m)\u001b[0m\u001b[0;34m\u001b[0m\u001b[0;34m\u001b[0m\u001b[0m\n\u001b[0;32m-> 3024\u001b[0;31m             \u001b[0mindexer\u001b[0m \u001b[0;34m=\u001b[0m \u001b[0mself\u001b[0m\u001b[0;34m.\u001b[0m\u001b[0mcolumns\u001b[0m\u001b[0;34m.\u001b[0m\u001b[0mget_loc\u001b[0m\u001b[0;34m(\u001b[0m\u001b[0mkey\u001b[0m\u001b[0;34m)\u001b[0m\u001b[0;34m\u001b[0m\u001b[0;34m\u001b[0m\u001b[0m\n\u001b[0m\u001b[1;32m   3025\u001b[0m             \u001b[0;32mif\u001b[0m \u001b[0mis_integer\u001b[0m\u001b[0;34m(\u001b[0m\u001b[0mindexer\u001b[0m\u001b[0;34m)\u001b[0m\u001b[0;34m:\u001b[0m\u001b[0;34m\u001b[0m\u001b[0;34m\u001b[0m\u001b[0m\n\u001b[1;32m   3026\u001b[0m                 \u001b[0mindexer\u001b[0m \u001b[0;34m=\u001b[0m \u001b[0;34m[\u001b[0m\u001b[0mindexer\u001b[0m\u001b[0;34m]\u001b[0m\u001b[0;34m\u001b[0m\u001b[0;34m\u001b[0m\u001b[0m\n",
      "\u001b[0;32m~/.local/lib/python3.8/site-packages/pandas/core/indexes/base.py\u001b[0m in \u001b[0;36mget_loc\u001b[0;34m(self, key, method, tolerance)\u001b[0m\n\u001b[1;32m   3080\u001b[0m                 \u001b[0;32mreturn\u001b[0m \u001b[0mself\u001b[0m\u001b[0;34m.\u001b[0m\u001b[0m_engine\u001b[0m\u001b[0;34m.\u001b[0m\u001b[0mget_loc\u001b[0m\u001b[0;34m(\u001b[0m\u001b[0mcasted_key\u001b[0m\u001b[0;34m)\u001b[0m\u001b[0;34m\u001b[0m\u001b[0;34m\u001b[0m\u001b[0m\n\u001b[1;32m   3081\u001b[0m             \u001b[0;32mexcept\u001b[0m \u001b[0mKeyError\u001b[0m \u001b[0;32mas\u001b[0m \u001b[0merr\u001b[0m\u001b[0;34m:\u001b[0m\u001b[0;34m\u001b[0m\u001b[0;34m\u001b[0m\u001b[0m\n\u001b[0;32m-> 3082\u001b[0;31m                 \u001b[0;32mraise\u001b[0m \u001b[0mKeyError\u001b[0m\u001b[0;34m(\u001b[0m\u001b[0mkey\u001b[0m\u001b[0;34m)\u001b[0m \u001b[0;32mfrom\u001b[0m \u001b[0merr\u001b[0m\u001b[0;34m\u001b[0m\u001b[0;34m\u001b[0m\u001b[0m\n\u001b[0m\u001b[1;32m   3083\u001b[0m \u001b[0;34m\u001b[0m\u001b[0m\n\u001b[1;32m   3084\u001b[0m         \u001b[0;32mif\u001b[0m \u001b[0mtolerance\u001b[0m \u001b[0;32mis\u001b[0m \u001b[0;32mnot\u001b[0m \u001b[0;32mNone\u001b[0m\u001b[0;34m:\u001b[0m\u001b[0;34m\u001b[0m\u001b[0;34m\u001b[0m\u001b[0m\n",
      "\u001b[0;31mKeyError\u001b[0m: 'store_id'"
     ]
    }
   ],
   "source": [
    "# Reading csv to h2o dataframe \n",
    "col_types_train = {\n",
    " 'chain_name': 'enum',\n",
    " 'mall_name': 'enum',\n",
    " 'revenue': 'numeric',\n",
    " #'lv1': 'enum',\n",
    " 'lv2': 'enum',\n",
    " 'lv3': 'enum',\n",
    " 'total_nbr_people': 'int',\n",
    " 'nbr_people_per_store_in_grunnkrets': 'numeric',\n",
    " #'counts_gr_lv2': 'numeric',\n",
    " #'counts_municipality_lv2': 'numeric',\n",
    " #'busstops_within_50m': 'numeric',\n",
    " #'busstops_within_100m': 'numeric',\n",
    " #'busstops_within_400m': 'numeric',\n",
    " #'busstops_within_800m': 'numeric',\n",
    " 'busstops_within_1500m': 'numeric',\n",
    " #'num_stores_within_100m_and_same_lvl2': 'numeric',\n",
    " 'num_stores_within_500m_and_same_lvl2': 'numeric',\n",
    " #'num_stores_within_1km_and_same_lvl2': 'numeric',\n",
    " #'num_stores_within_5km_and_same_lvl2': 'numeric',\n",
    " #'num_stores_within_10km_and_same_lvl2': 'numeric',\n",
    " 'num_stores_within_20km_and_same_lvl2': 'numeric',\n",
    " 'closest_competitor_lv2': 'numeric',\n",
    " 'mean_revenue_lv3' : 'numeric',\n",
    " 'mean_revenue_lv2' : 'numeric',\n",
    " 'median_revenue_lv3' : 'numeric',\n",
    " 'median_revenue_lv2' : 'numeric',\n",
    " 'mean_revenue_chain' : 'numeric',\n",
    " 'median_revenue_lv4' : 'numeric',\n",
    " 'mean_revenue_lv4' : 'numeric'\n",
    " #'num_stores_within_100m_and_same_lvl3': 'numeric',\n",
    " #'num_stores_within_500m_and_same_lvl3': 'numeric',\n",
    " #'num_stores_within_1km_and_same_lvl3': 'numeric',\n",
    " #'num_stores_within_5km_and_same_lvl3': 'numeric',\n",
    " #'num_stores_within_10km_and_same_lvl3': 'numeric',\n",
    " #'num_stores_within_20km_and_same_lvl3': 'numeric',\n",
    " #'closest_competitor_lv3': 'numeric',\n",
    " #'municipality_size_group': 'enum',\n",
    " #'mean_revenue_for_municipality_size_group': 'numeric',\n",
    " #'median_revenue_for_municipality_size_group': 'numeric',\n",
    " #'st_dev_of_revenue_for_municipality_size_group': 'numeric',\n",
    " #'municipality_rev_group_lv2': 'numeric',\n",
    " #'mean_revenue_for_municipality_rev_group_lv2': 'numeric'\n",
    " }\n",
    "\n",
    "col_types_test = {\n",
    " 'chain_name': 'enum',\n",
    " 'mall_name': 'enum',\n",
    " #'lv1': 'enum',\n",
    " 'lv2': 'enum',\n",
    " 'lv3': 'enum',\n",
    " 'total_nbr_people': 'int',\n",
    " 'nbr_people_per_store_in_grunnkrets': 'numeric',\n",
    " #'counts_gr_lv2': 'numeric',\n",
    " #'counts_municipality_lv2': 'numeric',\n",
    " #'busstops_within_50m': 'numeric',\n",
    " #'busstops_within_100m': 'numeric',\n",
    " #'busstops_within_400m': 'numeric',\n",
    " #'busstops_within_800m': 'numeric',\n",
    " 'busstops_within_1500m': 'numeric',\n",
    " #'num_stores_within_100m_and_same_lvl2': 'numeric',\n",
    " 'num_stores_within_500m_and_same_lvl2': 'numeric',\n",
    " #'num_stores_within_1km_and_same_lvl2': 'numeric',\n",
    " #'num_stores_within_5km_and_same_lvl2': 'numeric',\n",
    " #'num_stores_within_10km_and_same_lvl2': 'numeric',\n",
    " 'num_stores_within_20km_and_same_lvl2': 'numeric',\n",
    " 'closest_competitor_lv2': 'numeric',\n",
    " 'mean_revenue_lv3' : 'numeric',\n",
    " 'mean_revenue_lv2' : 'numeric',\n",
    " 'median_revenue_lv3' : 'numeric',\n",
    " 'median_revenue_lv2' : 'numeric',\n",
    " 'mean_revenue_chain' : 'numeric',\n",
    " 'median_revenue_lv4' : 'numeric',\n",
    " 'mean_revenue_lv4' : 'numeric'\n",
    " #'num_stores_within_100m_and_same_lvl3': 'numeric',\n",
    " #'num_stores_within_500m_and_same_lvl3': 'numeric',\n",
    " #'num_stores_within_1km_and_same_lvl3': 'numeric',\n",
    " #'num_stores_within_5km_and_same_lvl3': 'numeric',\n",
    " #'num_stores_within_10km_and_same_lvl3': 'numeric',\n",
    " #'num_stores_within_20km_and_same_lvl3': 'numeric',\n",
    " #'closest_competitor_lv3': 'numeric',\n",
    " #'municipality_size_group': 'enum',\n",
    " #'mean_revenue_for_municipality_size_group': 'numeric',\n",
    " #'median_revenue_for_municipality_size_group': 'numeric',\n",
    " #'st_dev_of_revenue_for_municipality_size_group': 'numeric',\n",
    " #'municipality_rev_group_lv2': 'numeric',\n",
    " #'mean_revenue_for_municipality_rev_group_lv2': 'numeric'\n",
    " }\n",
    "\n",
    "train_data = pd.read_csv('old_data/feature_data/training_set_dropped_old.csv')\n",
    "test_data = pd.read_csv('old_data/feature_data/testing_set_dropped_old.csv')\n",
    "\n",
    "# Save store ids, then remove this column\n",
    "store_ids = test_data['store_id'].to_numpy()\n",
    "ids = pd.DataFrame(store_ids)\n",
    "ids.rename(columns={0 :'id'}, inplace=True)\n",
    "\n",
    "train_data = train_data.drop('store_id', axis=1)\n",
    "test_data = test_data.drop('store_id', axis=1)\n",
    "\n",
    "train_data.to_csv('feature_data/training_set_dropped.csv', index=False)\n",
    "test_data.to_csv('feature_data/testing_set_dropped.csv', index=False)\n",
    "\n",
    "train_data = h2o.import_file('feature_data/training_set_dropped.csv', col_types = col_types_train)\n",
    "test_data = h2o.import_file('feature_data/testing_set_dropped.csv', col_types = col_types_test)\n",
    "\n",
    "test_data.types\n",
    "\n",
    "\n",
    "\n"
   ]
  },
  {
   "cell_type": "code",
   "execution_count": null,
   "metadata": {},
   "outputs": [],
   "source": [
    "# Removing labels from train set\n",
    "y = \"revenue\"\n",
    "x = train_data.columns\n",
    "x.remove(y)\n",
    "test_data"
   ]
  },
  {
   "cell_type": "code",
   "execution_count": null,
   "metadata": {},
   "outputs": [],
   "source": [
    "# Running fit/training on train set with cross validation n=5\n",
    "aml = H2OAutoML(max_models = 15, seed = 2, stopping_metric = \"RMSE\", exclude_algos=[\"XGBoost\", \"DeepLearning\"])\n",
    "aml.train(x = x, y = y, training_frame = train_data)"
   ]
  },
  {
   "cell_type": "code",
   "execution_count": null,
   "metadata": {},
   "outputs": [],
   "source": [
    "lb = aml.leaderboard"
   ]
  },
  {
   "cell_type": "code",
   "execution_count": null,
   "metadata": {},
   "outputs": [],
   "source": [
    "# Showing best perforimg models\n",
    "lb.head()"
   ]
  },
  {
   "cell_type": "code",
   "execution_count": null,
   "metadata": {},
   "outputs": [],
   "source": [
    "preds = aml.predict(test_data)"
   ]
  },
  {
   "cell_type": "code",
   "execution_count": null,
   "metadata": {},
   "outputs": [],
   "source": [
    "#print variable importance\n",
    "corr = aml.varimp(use_pandas = True)\n",
    "corr['sum'] = corr.sum(axis=1)\n",
    "corr = corr.sort_values(by=['sum'])\n",
    "corr.head(30)"
   ]
  },
  {
   "cell_type": "code",
   "execution_count": null,
   "metadata": {},
   "outputs": [],
   "source": [
    "#preds = h2o.as_list(preds)\n",
    "print(preds)"
   ]
  },
  {
   "cell_type": "code",
   "execution_count": null,
   "metadata": {},
   "outputs": [],
   "source": [
    "# Convert result to desired format\n",
    "\n",
    "import pandas as pd\n",
    "import numpy as np\n",
    "\n",
    "\n",
    "pandas_preds = preds.as_data_frame()\n",
    "pandas_preds.rename(columns={'predict' :'predicted'}, inplace=True)\n",
    "pandas_preds['predicted'] = np.expm1(pandas_preds['predicted'])\n",
    "\n",
    "def save_submission(pred):\n",
    "    predicted = pd.DataFrame(pred, columns = ['predicted'])\n",
    "    output = pd.concat([ids,predicted],axis=1)\n",
    "    output.to_csv('h2o.csv', index=False)\n",
    "    \n",
    "save_submission(pandas_preds)\n",
    "\n"
   ]
  },
  {
   "cell_type": "code",
   "execution_count": null,
   "metadata": {},
   "outputs": [],
   "source": [
    "aml.explain(frame = train_data)"
   ]
  }
 ],
 "metadata": {
  "kernelspec": {
   "display_name": "Python 3.8.10 64-bit",
   "language": "python",
   "name": "python3"
  },
  "language_info": {
   "codemirror_mode": {
    "name": "ipython",
    "version": 3
   },
   "file_extension": ".py",
   "mimetype": "text/x-python",
   "name": "python",
   "nbconvert_exporter": "python",
   "pygments_lexer": "ipython3",
   "version": "3.8.10"
  },
  "orig_nbformat": 4,
  "vscode": {
   "interpreter": {
    "hash": "916dbcbb3f70747c44a77c7bcd40155683ae19c65e1c03b4aa3499c5328201f1"
   }
  }
 },
 "nbformat": 4,
 "nbformat_minor": 2
}
