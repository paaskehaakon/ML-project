{
 "cells": [
  {
   "cell_type": "code",
   "execution_count": null,
   "metadata": {},
   "outputs": [],
   "source": [
    "# Import and init h2o lib. Running on java\n",
    "import h2o\n",
    "from h2o.automl import H2OAutoML\n",
    "import pandas as pd\n",
    "h2o.init()"
   ]
  },
  {
   "cell_type": "code",
   "execution_count": null,
   "metadata": {},
   "outputs": [],
   "source": [
    "# Reading csv to h2o dataframe \n",
    "col_types_train = {'store_id': 'enum',\n",
    " 'chain_name': 'enum',\n",
    " 'mall_name': 'enum',\n",
    " 'lv1': 'enum',\n",
    " 'lv2': 'enum',\n",
    " 'lv3': 'enum',\n",
    " 'revenue': 'int',\n",
    " 'total_nbr_people': 'int',\n",
    " 'nbr_people_per_store_in_grunnkrets': 'int',\n",
    " 'counts_gr_lv2': 'int',\n",
    " 'counts_municipality_lv2': 'int',\n",
    " 'busstops_within_50m': 'int',\n",
    " 'busstops_within_100m': 'int',\n",
    " 'busstops_within_400m': 'int',\n",
    " 'busstops_within_800m': 'int',\n",
    " 'busstops_within_1500m': 'int',\n",
    " 'num_stores_within_100m_and_same_lvl2': 'int',\n",
    " 'num_stores_within_500m_and_same_lvl2': 'int',\n",
    " 'num_stores_within_1km_and_same_lvl2': 'int',\n",
    " 'num_stores_within_5km_and_same_lvl2': 'int',\n",
    " 'num_stores_within_10km_and_same_lvl2': 'int',\n",
    " 'num_stores_within_20km_and_same_lvl2': 'int',\n",
    " 'municipality_size_group': 'enum',\n",
    " 'mean_revenue_for_municipality_size_group': 'int',\n",
    " 'median_revenue_for_municipality_size_group': 'int',\n",
    " 'st_dev_of_revenue_for_municipality_size_group': 'int'}\n",
    "\n",
    "col_types_test = {'store_id': 'enum',\n",
    " 'chain_name': 'enum',\n",
    " 'mall_name': 'enum',\n",
    " 'lv1': 'enum',\n",
    " 'lv2': 'enum',\n",
    " 'lv3': 'enum',\n",
    " 'total_nbr_people': 'int',\n",
    " 'nbr_people_per_store_in_grunnkrets': 'int',\n",
    " 'counts_gr_lv2': 'int',\n",
    " 'counts_municipality_lv2': 'int',\n",
    " 'busstops_within_50m': 'int',\n",
    " 'busstops_within_100m': 'int',\n",
    " 'busstops_within_400m': 'int',\n",
    " 'busstops_within_800m': 'int',\n",
    " 'busstops_within_1500m': 'int',\n",
    " 'num_stores_within_100m_and_same_lvl2': 'int',\n",
    " 'num_stores_within_500m_and_same_lvl2': 'int',\n",
    " 'num_stores_within_1km_and_same_lvl2': 'int',\n",
    " 'num_stores_within_5km_and_same_lvl2': 'int',\n",
    " 'num_stores_within_10km_and_same_lvl2': 'int',\n",
    " 'num_stores_within_20km_and_same_lvl2': 'int',\n",
    " 'municipality_size_group': 'enum',\n",
    " 'mean_revenue_for_municipality_size_group': 'int',\n",
    " 'median_revenue_for_municipality_size_group': 'int',\n",
    " 'st_dev_of_revenue_for_municipality_size_group': 'int'}\n",
    "\n",
    " \n",
    "train_data = h2o.import_file('feature_data/training_set_dropped.csv', col_types = col_types_train)\n",
    "test_data = h2o.import_file('feature_data/testing_set_dropped.csv', col_types = col_types_test)\n",
    "\n",
    "test = pd.read_csv('feature_data/testing_set_dropped.csv')\n",
    "\n",
    "# Save store ids, then remove this column\n",
    "store_ids = test['store_id'].to_numpy()\n",
    "ids = pd.DataFrame(store_ids)\n",
    "ids.rename(columns={0 :'id'}, inplace=True )\n",
    "\n",
    "train_data.types\n",
    "\n"
   ]
  },
  {
   "cell_type": "code",
   "execution_count": null,
   "metadata": {},
   "outputs": [],
   "source": [
    "# Removing labels from train set\n",
    "y = \"revenue\"\n",
    "x = train_data.columns\n",
    "x.remove(y)"
   ]
  },
  {
   "cell_type": "code",
   "execution_count": null,
   "metadata": {},
   "outputs": [],
   "source": [
    "# Running fit/training on train set with cross validation n=5\n",
    "aml = H2OAutoML(max_models = 20, seed = 1)\n",
    "aml.train(x = x, y = y, training_frame = train_data)"
   ]
  },
  {
   "cell_type": "code",
   "execution_count": null,
   "metadata": {},
   "outputs": [],
   "source": [
    "lb = aml.leaderboard"
   ]
  },
  {
   "cell_type": "code",
   "execution_count": 110,
   "metadata": {},
   "outputs": [
    {
     "data": {
      "text/html": [
       "<table class='dataframe'>\n",
       "<thead>\n",
       "<tr><th>model_id                                               </th><th style=\"text-align: right;\">    rmse</th><th style=\"text-align: right;\">     mse</th><th style=\"text-align: right;\">     mae</th><th style=\"text-align: right;\">   rmsle</th><th style=\"text-align: right;\">  mean_residual_deviance</th></tr>\n",
       "</thead>\n",
       "<tbody>\n",
       "<tr><td>StackedEnsemble_AllModels_1_AutoML_4_20221109_120957   </td><td style=\"text-align: right;\">0.666238</td><td style=\"text-align: right;\">0.443873</td><td style=\"text-align: right;\">0.501055</td><td style=\"text-align: right;\">0.283   </td><td style=\"text-align: right;\">                0.443873</td></tr>\n",
       "<tr><td>StackedEnsemble_BestOfFamily_1_AutoML_4_20221109_120957</td><td style=\"text-align: right;\">0.666982</td><td style=\"text-align: right;\">0.444865</td><td style=\"text-align: right;\">0.50236 </td><td style=\"text-align: right;\">0.283456</td><td style=\"text-align: right;\">                0.444865</td></tr>\n",
       "<tr><td>GBM_1_AutoML_4_20221109_120957                         </td><td style=\"text-align: right;\">0.672445</td><td style=\"text-align: right;\">0.452182</td><td style=\"text-align: right;\">0.506048</td><td style=\"text-align: right;\">0.284425</td><td style=\"text-align: right;\">                0.452182</td></tr>\n",
       "<tr><td>GBM_2_AutoML_4_20221109_120957                         </td><td style=\"text-align: right;\">0.67291 </td><td style=\"text-align: right;\">0.452808</td><td style=\"text-align: right;\">0.505471</td><td style=\"text-align: right;\">0.284487</td><td style=\"text-align: right;\">                0.452808</td></tr>\n",
       "<tr><td>GBM_3_AutoML_4_20221109_120957                         </td><td style=\"text-align: right;\">0.673476</td><td style=\"text-align: right;\">0.453569</td><td style=\"text-align: right;\">0.505871</td><td style=\"text-align: right;\">0.284555</td><td style=\"text-align: right;\">                0.453569</td></tr>\n",
       "<tr><td>DRF_1_AutoML_4_20221109_120957                         </td><td style=\"text-align: right;\">0.678003</td><td style=\"text-align: right;\">0.459688</td><td style=\"text-align: right;\">0.508847</td><td style=\"text-align: right;\">0.286617</td><td style=\"text-align: right;\">                0.459688</td></tr>\n",
       "<tr><td>GBM_4_AutoML_4_20221109_120957                         </td><td style=\"text-align: right;\">0.678658</td><td style=\"text-align: right;\">0.460577</td><td style=\"text-align: right;\">0.509759</td><td style=\"text-align: right;\">0.286496</td><td style=\"text-align: right;\">                0.460577</td></tr>\n",
       "<tr><td>XGBoost_3_AutoML_4_20221109_120957                     </td><td style=\"text-align: right;\">0.710814</td><td style=\"text-align: right;\">0.505257</td><td style=\"text-align: right;\">0.54644 </td><td style=\"text-align: right;\">0.300959</td><td style=\"text-align: right;\">                0.505257</td></tr>\n",
       "<tr><td>GLM_1_AutoML_4_20221109_120957                         </td><td style=\"text-align: right;\">0.72284 </td><td style=\"text-align: right;\">0.522498</td><td style=\"text-align: right;\">0.559994</td><td style=\"text-align: right;\">0.304878</td><td style=\"text-align: right;\">                0.522498</td></tr>\n",
       "<tr><td>XRT_1_AutoML_4_20221109_120957                         </td><td style=\"text-align: right;\">0.725354</td><td style=\"text-align: right;\">0.526138</td><td style=\"text-align: right;\">0.567141</td><td style=\"text-align: right;\">0.30309 </td><td style=\"text-align: right;\">                0.526138</td></tr>\n",
       "</tbody>\n",
       "</table><pre style='font-size: smaller; margin-bottom: 1em;'>[10 rows x 6 columns]</pre>"
      ],
      "text/plain": [
       "model_id                                                     rmse       mse       mae     rmsle    mean_residual_deviance\n",
       "-------------------------------------------------------  --------  --------  --------  --------  ------------------------\n",
       "StackedEnsemble_AllModels_1_AutoML_4_20221109_120957     0.666238  0.443873  0.501055  0.283                     0.443873\n",
       "StackedEnsemble_BestOfFamily_1_AutoML_4_20221109_120957  0.666982  0.444865  0.50236   0.283456                  0.444865\n",
       "GBM_1_AutoML_4_20221109_120957                           0.672445  0.452182  0.506048  0.284425                  0.452182\n",
       "GBM_2_AutoML_4_20221109_120957                           0.67291   0.452808  0.505471  0.284487                  0.452808\n",
       "GBM_3_AutoML_4_20221109_120957                           0.673476  0.453569  0.505871  0.284555                  0.453569\n",
       "DRF_1_AutoML_4_20221109_120957                           0.678003  0.459688  0.508847  0.286617                  0.459688\n",
       "GBM_4_AutoML_4_20221109_120957                           0.678658  0.460577  0.509759  0.286496                  0.460577\n",
       "XGBoost_3_AutoML_4_20221109_120957                       0.710814  0.505257  0.54644   0.300959                  0.505257\n",
       "GLM_1_AutoML_4_20221109_120957                           0.72284   0.522498  0.559994  0.304878                  0.522498\n",
       "XRT_1_AutoML_4_20221109_120957                           0.725354  0.526138  0.567141  0.30309                   0.526138\n",
       "[10 rows x 6 columns]\n"
      ]
     },
     "execution_count": 110,
     "metadata": {},
     "output_type": "execute_result"
    }
   ],
   "source": [
    "# Showing best perforimg models\n",
    "lb.head()"
   ]
  },
  {
   "cell_type": "code",
   "execution_count": null,
   "metadata": {},
   "outputs": [],
   "source": [
    "preds = aml.predict(test_data)"
   ]
  },
  {
   "cell_type": "code",
   "execution_count": null,
   "metadata": {},
   "outputs": [],
   "source": [
    "#preds = h2o.as_list(preds)\n",
    "print(preds)"
   ]
  },
  {
   "cell_type": "code",
   "execution_count": null,
   "metadata": {},
   "outputs": [],
   "source": [
    "# Convert result to desired format\n",
    "\n",
    "import pandas as pd\n",
    "import numpy as np\n",
    "\n",
    "\n",
    "pandas_preds = preds.as_data_frame()\n",
    "pandas_preds.rename(columns={'predict' :'predicted'}, inplace=True)\n",
    "pandas_preds['predicted'] = np.expm1(pandas_preds['predicted'])\n",
    "\n",
    "def save_submission(pred):\n",
    "    predicted = pd.DataFrame(pred, columns = ['predicted'])\n",
    "    output = pd.concat([ids,predicted],axis=1)\n",
    "    output.to_csv('h2o.csv', index=False)\n",
    "    \n",
    "save_submission(pandas_preds)\n",
    "\n"
   ]
  }
 ],
 "metadata": {
  "kernelspec": {
   "display_name": "Python 3.9.5 64-bit",
   "language": "python",
   "name": "python3"
  },
  "language_info": {
   "name": "python",
   "version": "3.9.5"
  },
  "orig_nbformat": 4,
  "vscode": {
   "interpreter": {
    "hash": "aee8b7b246df8f9039afb4144a1f6fd8d2ca17a180786b69acc140d282b71a49"
   }
  }
 },
 "nbformat": 4,
 "nbformat_minor": 2
}
