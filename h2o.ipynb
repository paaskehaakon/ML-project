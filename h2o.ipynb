{
 "cells": [
  {
   "cell_type": "code",
   "execution_count": 3,
   "metadata": {},
   "outputs": [
    {
     "name": "stdout",
     "output_type": "stream",
     "text": [
      "Checking whether there is an H2O instance running at http://localhost:54321 . connected.\n"
     ]
    },
    {
     "data": {
      "text/html": [
       "\n",
       "<style>\n",
       "\n",
       "#h2o-table-2.h2o-container {\n",
       "  overflow-x: auto;\n",
       "}\n",
       "#h2o-table-2 .h2o-table {\n",
       "  /* width: 100%; */\n",
       "  margin-top: 1em;\n",
       "  margin-bottom: 1em;\n",
       "}\n",
       "#h2o-table-2 .h2o-table caption {\n",
       "  white-space: nowrap;\n",
       "  caption-side: top;\n",
       "  text-align: left;\n",
       "  /* margin-left: 1em; */\n",
       "  margin: 0;\n",
       "  font-size: larger;\n",
       "}\n",
       "#h2o-table-2 .h2o-table thead {\n",
       "  white-space: nowrap; \n",
       "  position: sticky;\n",
       "  top: 0;\n",
       "  box-shadow: 0 -1px inset;\n",
       "}\n",
       "#h2o-table-2 .h2o-table tbody {\n",
       "  overflow: auto;\n",
       "}\n",
       "#h2o-table-2 .h2o-table th,\n",
       "#h2o-table-2 .h2o-table td {\n",
       "  text-align: right;\n",
       "  /* border: 1px solid; */\n",
       "}\n",
       "#h2o-table-2 .h2o-table tr:nth-child(even) {\n",
       "  /* background: #F5F5F5 */\n",
       "}\n",
       "\n",
       "</style>      \n",
       "<div id=\"h2o-table-2\" class=\"h2o-container\">\n",
       "  <table class=\"h2o-table\">\n",
       "    <caption></caption>\n",
       "    <thead></thead>\n",
       "    <tbody><tr><td>H2O_cluster_uptime:</td>\n",
       "<td>7 mins 53 secs</td></tr>\n",
       "<tr><td>H2O_cluster_timezone:</td>\n",
       "<td>Europe/Oslo</td></tr>\n",
       "<tr><td>H2O_data_parsing_timezone:</td>\n",
       "<td>UTC</td></tr>\n",
       "<tr><td>H2O_cluster_version:</td>\n",
       "<td>3.38.0.2</td></tr>\n",
       "<tr><td>H2O_cluster_version_age:</td>\n",
       "<td>12 days </td></tr>\n",
       "<tr><td>H2O_cluster_name:</td>\n",
       "<td>H2O_from_python_julialovgren_kjm3i4</td></tr>\n",
       "<tr><td>H2O_cluster_total_nodes:</td>\n",
       "<td>1</td></tr>\n",
       "<tr><td>H2O_cluster_free_memory:</td>\n",
       "<td>1022 Mb</td></tr>\n",
       "<tr><td>H2O_cluster_total_cores:</td>\n",
       "<td>4</td></tr>\n",
       "<tr><td>H2O_cluster_allowed_cores:</td>\n",
       "<td>4</td></tr>\n",
       "<tr><td>H2O_cluster_status:</td>\n",
       "<td>locked, healthy</td></tr>\n",
       "<tr><td>H2O_connection_url:</td>\n",
       "<td>http://localhost:54321</td></tr>\n",
       "<tr><td>H2O_connection_proxy:</td>\n",
       "<td>{\"http\": null, \"https\": null}</td></tr>\n",
       "<tr><td>H2O_internal_security:</td>\n",
       "<td>False</td></tr>\n",
       "<tr><td>Python_version:</td>\n",
       "<td>3.9.5 final</td></tr></tbody>\n",
       "  </table>\n",
       "</div>\n"
      ],
      "text/plain": [
       "--------------------------  -----------------------------------\n",
       "H2O_cluster_uptime:         7 mins 53 secs\n",
       "H2O_cluster_timezone:       Europe/Oslo\n",
       "H2O_data_parsing_timezone:  UTC\n",
       "H2O_cluster_version:        3.38.0.2\n",
       "H2O_cluster_version_age:    12 days\n",
       "H2O_cluster_name:           H2O_from_python_julialovgren_kjm3i4\n",
       "H2O_cluster_total_nodes:    1\n",
       "H2O_cluster_free_memory:    1022 Mb\n",
       "H2O_cluster_total_cores:    4\n",
       "H2O_cluster_allowed_cores:  4\n",
       "H2O_cluster_status:         locked, healthy\n",
       "H2O_connection_url:         http://localhost:54321\n",
       "H2O_connection_proxy:       {\"http\": null, \"https\": null}\n",
       "H2O_internal_security:      False\n",
       "Python_version:             3.9.5 final\n",
       "--------------------------  -----------------------------------"
      ]
     },
     "metadata": {},
     "output_type": "display_data"
    }
   ],
   "source": [
    "# Import and init h2o lib. Running on java\n",
    "import h2o\n",
    "from h2o.automl import H2OAutoML\n",
    "h2o.init()"
   ]
  },
  {
   "cell_type": "code",
   "execution_count": 6,
   "metadata": {},
   "outputs": [
    {
     "name": "stdout",
     "output_type": "stream",
     "text": [
      "Parse progress: |████████████████████████████████████████████████████████████████| (done) 100%\n",
      "Parse progress: |████████████████████████████████████████████████████████████████| (done) 100%\n",
      "['store_id', 'chain_name', 'mall_name', 'revenue', 'lv1', 'lv2', 'lv3', 'total_nbr_people', 'nbr_people_per_store_in_grunnkrets', 'counts_gr_lv2', 'counts_municipality_lv2', 'busstops_within_50m', 'busstops_within_100m', 'busstops_within_400m', 'busstops_within_800m', 'busstops_within_1500m', 'num_stores_within_100m_and_same_lvl2', 'num_stores_within_500m_and_same_lvl2', 'num_stores_within_1km_and_same_lvl2', 'num_stores_within_5km_and_same_lvl2', 'num_stores_within_10km_and_same_lvl2', 'num_stores_within_20km_and_same_lvl2']\n",
      "['store_id', 'chain_name', 'mall_name', 'lv1', 'lv2', 'lv3', 'total_nbr_people', 'nbr_people_per_store_in_grunnkrets', 'counts_gr_lv2', 'counts_municipality_lv2', 'busstops_within_50m', 'busstops_within_100m', 'busstops_within_400m', 'busstops_within_800m', 'busstops_within_1500m', 'num_stores_within_100m_and_same_lvl2', 'num_stores_within_500m_and_same_lvl2', 'num_stores_within_1km_and_same_lvl2', 'num_stores_within_5km_and_same_lvl2', 'num_stores_within_10km_and_same_lvl2', 'num_stores_within_20km_and_same_lvl2']\n"
     ]
    },
    {
     "data": {
      "text/plain": [
       "{'store_id': 'string',\n",
       " 'chain_name': 'enum',\n",
       " 'mall_name': 'enum',\n",
       " 'revenue': 'real',\n",
       " 'lv1': 'int',\n",
       " 'lv2': 'real',\n",
       " 'lv3': 'time',\n",
       " 'total_nbr_people': 'int',\n",
       " 'nbr_people_per_store_in_grunnkrets': 'real',\n",
       " 'counts_gr_lv2': 'int',\n",
       " 'counts_municipality_lv2': 'int',\n",
       " 'busstops_within_50m': 'int',\n",
       " 'busstops_within_100m': 'int',\n",
       " 'busstops_within_400m': 'int',\n",
       " 'busstops_within_800m': 'int',\n",
       " 'busstops_within_1500m': 'int',\n",
       " 'num_stores_within_100m_and_same_lvl2': 'int',\n",
       " 'num_stores_within_500m_and_same_lvl2': 'int',\n",
       " 'num_stores_within_1km_and_same_lvl2': 'int',\n",
       " 'num_stores_within_5km_and_same_lvl2': 'int',\n",
       " 'num_stores_within_10km_and_same_lvl2': 'int',\n",
       " 'num_stores_within_20km_and_same_lvl2': 'int'}"
      ]
     },
     "execution_count": 6,
     "metadata": {},
     "output_type": "execute_result"
    }
   ],
   "source": [
    "# Reading csv to h2o dataframe file\n",
    "train_data = h2o.import_file('training_set_dropped.csv')\n",
    "test_data = h2o.import_file('testing_set_dropped.csv')\n",
    "\n",
    "print(list(train_data.columns))\n",
    "print(list(test_data.columns))\n",
    "\n",
    "train_data.types"
   ]
  },
  {
   "cell_type": "code",
   "execution_count": 5,
   "metadata": {},
   "outputs": [
    {
     "ename": "H2OValueError",
     "evalue": "Only 'int' or 'string' are allowed for asfactor(), got revenue:real ",
     "output_type": "error",
     "traceback": [
      "\u001b[0;31m---------------------------------------------------------------------------\u001b[0m",
      "\u001b[0;31mH2OValueError\u001b[0m                             Traceback (most recent call last)",
      "Cell \u001b[0;32mIn [5], line 5\u001b[0m\n\u001b[1;32m      3\u001b[0m train_data[\u001b[38;5;124m'\u001b[39m\u001b[38;5;124mchain_name\u001b[39m\u001b[38;5;124m'\u001b[39m] \u001b[38;5;241m=\u001b[39m train_data[\u001b[38;5;124m'\u001b[39m\u001b[38;5;124mchain_name\u001b[39m\u001b[38;5;124m'\u001b[39m]\u001b[38;5;241m.\u001b[39masfactor()\n\u001b[1;32m      4\u001b[0m train_data[\u001b[38;5;124m'\u001b[39m\u001b[38;5;124mmall_name\u001b[39m\u001b[38;5;124m'\u001b[39m] \u001b[38;5;241m=\u001b[39m train_data[\u001b[38;5;124m'\u001b[39m\u001b[38;5;124mmall_name\u001b[39m\u001b[38;5;124m'\u001b[39m]\u001b[38;5;241m.\u001b[39masfactor()\n\u001b[0;32m----> 5\u001b[0m train_data[\u001b[38;5;124m'\u001b[39m\u001b[38;5;124mrevenue\u001b[39m\u001b[38;5;124m'\u001b[39m] \u001b[38;5;241m=\u001b[39m train_data[\u001b[38;5;124m'\u001b[39m\u001b[38;5;124mrevenue\u001b[39m\u001b[38;5;124m'\u001b[39m]\u001b[38;5;241m.\u001b[39masfactor()\n\u001b[1;32m      6\u001b[0m train_data[\u001b[38;5;124m'\u001b[39m\u001b[38;5;124mlv1\u001b[39m\u001b[38;5;124m'\u001b[39m] \u001b[38;5;241m=\u001b[39m train_data[\u001b[38;5;124m'\u001b[39m\u001b[38;5;124mlv1\u001b[39m\u001b[38;5;124m'\u001b[39m]\u001b[38;5;241m.\u001b[39masfactor()\n\u001b[1;32m      7\u001b[0m train_data[\u001b[38;5;124m'\u001b[39m\u001b[38;5;124mlv2\u001b[39m\u001b[38;5;124m'\u001b[39m] \u001b[38;5;241m=\u001b[39m train_data[\u001b[38;5;124m'\u001b[39m\u001b[38;5;124mlv2\u001b[39m\u001b[38;5;124m'\u001b[39m]\u001b[38;5;241m.\u001b[39masfactor()\n",
      "File \u001b[0;32m/Library/Frameworks/Python.framework/Versions/3.9/lib/python3.9/site-packages/h2o/frame.py:3275\u001b[0m, in \u001b[0;36mH2OFrame.asfactor\u001b[0;34m(self)\u001b[0m\n\u001b[1;32m   3273\u001b[0m     t \u001b[39m=\u001b[39m \u001b[39mself\u001b[39m\u001b[39m.\u001b[39mtypes[colname]\n\u001b[1;32m   3274\u001b[0m     \u001b[39mif\u001b[39;00m t \u001b[39mnot\u001b[39;00m \u001b[39min\u001b[39;00m {\u001b[39m\"\u001b[39m\u001b[39mbool\u001b[39m\u001b[39m\"\u001b[39m, \u001b[39m\"\u001b[39m\u001b[39mint\u001b[39m\u001b[39m\"\u001b[39m, \u001b[39m\"\u001b[39m\u001b[39mstring\u001b[39m\u001b[39m\"\u001b[39m, \u001b[39m\"\u001b[39m\u001b[39menum\u001b[39m\u001b[39m\"\u001b[39m}:\n\u001b[0;32m-> 3275\u001b[0m         \u001b[39mraise\u001b[39;00m H2OValueError(\u001b[39m\"\u001b[39m\u001b[39mOnly \u001b[39m\u001b[39m'\u001b[39m\u001b[39mint\u001b[39m\u001b[39m'\u001b[39m\u001b[39m or \u001b[39m\u001b[39m'\u001b[39m\u001b[39mstring\u001b[39m\u001b[39m'\u001b[39m\u001b[39m are allowed for \u001b[39m\u001b[39m\"\u001b[39m\n\u001b[1;32m   3276\u001b[0m                             \u001b[39m\"\u001b[39m\u001b[39masfactor(), got \u001b[39m\u001b[39m%s\u001b[39;00m\u001b[39m:\u001b[39m\u001b[39m%s\u001b[39;00m\u001b[39m \u001b[39m\u001b[39m\"\u001b[39m \u001b[39m%\u001b[39m (colname, t))\n\u001b[1;32m   3277\u001b[0m fr \u001b[39m=\u001b[39m H2OFrame\u001b[39m.\u001b[39m_expr(expr\u001b[39m=\u001b[39mExprNode(\u001b[39m\"\u001b[39m\u001b[39mas.factor\u001b[39m\u001b[39m\"\u001b[39m, \u001b[39mself\u001b[39m), cache\u001b[39m=\u001b[39m\u001b[39mself\u001b[39m\u001b[39m.\u001b[39m_ex\u001b[39m.\u001b[39m_cache)\n\u001b[1;32m   3278\u001b[0m \u001b[39mif\u001b[39;00m fr\u001b[39m.\u001b[39m_ex\u001b[39m.\u001b[39m_cache\u001b[39m.\u001b[39mtypes_valid():\n",
      "\u001b[0;31mH2OValueError\u001b[0m: Only 'int' or 'string' are allowed for asfactor(), got revenue:real "
     ]
    }
   ],
   "source": [
    "# Setting features as factor\n",
    "train_data['store_id'] = train_data['store_id'].asfactor()\n",
    "train_data['chain_name'] = train_data['chain_name'].asfactor()\n",
    "train_data['mall_name'] = train_data['mall_name'].asfactor()\n",
    "train_data['revenue'] = train_data['revenue'].asfactor()\n",
    "train_data['lv1'] = train_data['lv1'].asfactor()\n",
    "train_data['lv2'] = train_data['lv2'].asfactor()\n",
    "train_data['lv3'] = train_data['lv3'].asfactor()\n",
    "train_data['total_nbr_people'] = train_data['total_nbr_people'].asfactor()\n",
    "train_data['nbr_people_per_store_in_grunnkrets'] = train_data['nbr_people_per_store_in_grunnkrets'].asfactor()\n",
    "train_data['counts_gr_lv2'] = train_data['counts_gr_lv2'].asfactor()\n",
    "train_data['counts_municipality_lv2'] = train_data['counts_municipality_lv2'].asfactor()\n",
    "train_data['busstops_within_50m'] = train_data['busstops_within_50m'].asfactor()\n",
    "train_data['busstops_within_100m'] = train_data['busstops_within_100m'].asfactor()\n",
    "train_data['busstops_within_400m'] = train_data['busstops_within_400m'].asfactor()\n",
    "train_data['busstops_within_800m'] = train_data['busstops_within_800m'].asfactor()\n",
    "train_data['busstops_within_1500m'] = train_data['busstops_within_1500m'].asfactor()\n",
    "train_data['num_stores_within_100m_and_same_lvl2'] = train_data['num_stores_within_100m_and_same_lvl2'].asfactor()\n",
    "train_data['num_stores_within_500m_and_same_lvl2'] = train_data['num_stores_within_500m_and_same_lvl2'].asfactor()\n",
    "train_data['num_stores_within_1km_and_same_lvl2'] = train_data['num_stores_within_1km_and_same_lvl2'].asfactor()\n",
    "train_data['num_stores_within_5km_and_same_lvl2'] = train_data['num_stores_within_5km_and_same_lvl2'].asfactor()\n",
    "train_data['num_stores_within_10km_and_same_lvl2'] = train_data['num_stores_within_10km_and_same_lvl2'].asfactor()\n",
    "train_data['num_stores_within_20km_and_same_lvl2'] = train_data['num_stores_within_20km_and_same_lvl2'].asfactor()"
   ]
  },
  {
   "cell_type": "code",
   "execution_count": null,
   "metadata": {},
   "outputs": [],
   "source": [
    "test_data['store_id'] = test_data['store_id'].asfactor()\n",
    "test_data['chain_name'] = test_data['chain_name'].asfactor()\n",
    "test_data['mall_name'] = test_data['mall_name'].asfactor()\n",
    "test_data['lv1'] = test_data['lv1'].asfactor()\n",
    "test_data['lv2'] = test_data['lv2'].asfactor()\n",
    "test_data['lv3'] = test_data['lv3'].asfactor()\n",
    "test_data['total_nbr_people'] = test_data['total_nbr_people'].asfactor()\n",
    "test_data['nbr_people_per_store_in_grunnkrets'] = test_data['nbr_people_per_store_in_grunnkrets'].asfactor()\n",
    "test_data['counts_gr_lv2'] = test_data['counts_gr_lv2'].asfactor()\n",
    "test_data['counts_municipality_lv2'] = test_data['counts_municipality_lv2'].asfactor()\n",
    "test_data['busstops_within_50m'] = test_data['busstops_within_50m'].asfactor()\n",
    "test_data['busstops_within_100m'] = test_data['busstops_within_100m'].asfactor()\n",
    "test_data['busstops_within_400m'] = test_data['busstops_within_400m'].asfactor()\n",
    "test_data['busstops_within_800m'] = test_data['busstops_within_800m'].asfactor()\n",
    "test_data['busstops_within_1500m'] = test_data['busstops_within_1500m'].asfactor()\n",
    "test_data['num_stores_within_100m_and_same_lvl2'] = test_data['num_stores_within_100m_and_same_lvl2'].asfactor()\n",
    "test_data['num_stores_within_500m_and_same_lvl2'] = test_data['num_stores_within_500m_and_same_lvl2'].asfactor()\n",
    "test_data['num_stores_within_1km_and_same_lvl2'] = test_data['num_stores_within_1km_and_same_lvl2'].asfactor()\n",
    "test_data['num_stores_within_5km_and_same_lvl2'] = test_data['num_stores_within_5km_and_same_lvl2'].asfactor()\n",
    "test_data['num_stores_within_10km_and_same_lvl2'] = test_data['num_stores_within_10km_and_same_lvl2'].asfactor()\n",
    "test_data['num_stores_within_20km_and_same_lvl2'] = test_data['num_stores_within_20km_and_same_lvl2'].asfactor()"
   ]
  },
  {
   "cell_type": "code",
   "execution_count": null,
   "metadata": {},
   "outputs": [],
   "source": [
    "# Removing labels from train set\n",
    "y = \"revenue\"\n",
    "x = train_data.columns\n",
    "x.remove(y)"
   ]
  },
  {
   "cell_type": "code",
   "execution_count": null,
   "metadata": {},
   "outputs": [],
   "source": [
    "# Running fit/training on train set with cross validation n=5\n",
    "aml = H2OAutoML(max_models = 10, seed = 1)\n",
    "aml.train(x = x, y = y, training_frame = train_data)"
   ]
  },
  {
   "cell_type": "code",
   "execution_count": null,
   "metadata": {},
   "outputs": [],
   "source": [
    "lb = aml.leaderboard"
   ]
  },
  {
   "cell_type": "code",
   "execution_count": null,
   "metadata": {},
   "outputs": [],
   "source": [
    "# Showing best perforimg models\n",
    "lb.head()"
   ]
  },
  {
   "cell_type": "code",
   "execution_count": null,
   "metadata": {},
   "outputs": [],
   "source": [
    "preds = aml.predict(test_data)"
   ]
  },
  {
   "cell_type": "code",
   "execution_count": null,
   "metadata": {},
   "outputs": [],
   "source": [
    "preds = h2o.as_list(preds)"
   ]
  },
  {
   "cell_type": "code",
   "execution_count": null,
   "metadata": {},
   "outputs": [],
   "source": [
    "# Convert result to desired format\n",
    "\n",
    "import pandas as pd\n",
    "predictions = preds\n",
    "\n",
    "predictions[\"sample_id\"] = predictions.index + 50000\n",
    "predictions[\"prediction_in_probability\"] = predictions[\"p1\"]\n",
    "predictions[[\"sample_id\", \"prediction_in_probability\"]].to_csv(\"predictions.txt\", index=False)"
   ]
  }
 ],
 "metadata": {
  "kernelspec": {
   "display_name": "Python 3.9.5 64-bit",
   "language": "python",
   "name": "python3"
  },
  "language_info": {
   "codemirror_mode": {
    "name": "ipython",
    "version": 3
   },
   "file_extension": ".py",
   "mimetype": "text/x-python",
   "name": "python",
   "nbconvert_exporter": "python",
   "pygments_lexer": "ipython3",
   "version": "3.9.5"
  },
  "orig_nbformat": 4,
  "vscode": {
   "interpreter": {
    "hash": "aee8b7b246df8f9039afb4144a1f6fd8d2ca17a180786b69acc140d282b71a49"
   }
  }
 },
 "nbformat": 4,
 "nbformat_minor": 2
}
