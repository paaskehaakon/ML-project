{
 "cells": [
  {
   "cell_type": "code",
   "execution_count": 43,
   "metadata": {},
   "outputs": [
    {
     "name": "stdout",
     "output_type": "stream",
     "text": [
      "Checking whether there is an H2O instance running at http://localhost:54321 . connected.\n"
     ]
    },
    {
     "data": {
      "text/html": [
       "\n",
       "<style>\n",
       "\n",
       "#h2o-table-12.h2o-container {\n",
       "  overflow-x: auto;\n",
       "}\n",
       "#h2o-table-12 .h2o-table {\n",
       "  /* width: 100%; */\n",
       "  margin-top: 1em;\n",
       "  margin-bottom: 1em;\n",
       "}\n",
       "#h2o-table-12 .h2o-table caption {\n",
       "  white-space: nowrap;\n",
       "  caption-side: top;\n",
       "  text-align: left;\n",
       "  /* margin-left: 1em; */\n",
       "  margin: 0;\n",
       "  font-size: larger;\n",
       "}\n",
       "#h2o-table-12 .h2o-table thead {\n",
       "  white-space: nowrap; \n",
       "  position: sticky;\n",
       "  top: 0;\n",
       "  box-shadow: 0 -1px inset;\n",
       "}\n",
       "#h2o-table-12 .h2o-table tbody {\n",
       "  overflow: auto;\n",
       "}\n",
       "#h2o-table-12 .h2o-table th,\n",
       "#h2o-table-12 .h2o-table td {\n",
       "  text-align: right;\n",
       "  /* border: 1px solid; */\n",
       "}\n",
       "#h2o-table-12 .h2o-table tr:nth-child(even) {\n",
       "  /* background: #F5F5F5 */\n",
       "}\n",
       "\n",
       "</style>      \n",
       "<div id=\"h2o-table-12\" class=\"h2o-container\">\n",
       "  <table class=\"h2o-table\">\n",
       "    <caption></caption>\n",
       "    <thead></thead>\n",
       "    <tbody><tr><td>H2O_cluster_uptime:</td>\n",
       "<td>17 hours 42 mins</td></tr>\n",
       "<tr><td>H2O_cluster_timezone:</td>\n",
       "<td>Europe/Oslo</td></tr>\n",
       "<tr><td>H2O_data_parsing_timezone:</td>\n",
       "<td>UTC</td></tr>\n",
       "<tr><td>H2O_cluster_version:</td>\n",
       "<td>3.38.0.2</td></tr>\n",
       "<tr><td>H2O_cluster_version_age:</td>\n",
       "<td>12 days </td></tr>\n",
       "<tr><td>H2O_cluster_name:</td>\n",
       "<td>H2O_from_python_paaske_rcki3a</td></tr>\n",
       "<tr><td>H2O_cluster_total_nodes:</td>\n",
       "<td>1</td></tr>\n",
       "<tr><td>H2O_cluster_free_memory:</td>\n",
       "<td>1.881 Gb</td></tr>\n",
       "<tr><td>H2O_cluster_total_cores:</td>\n",
       "<td>8</td></tr>\n",
       "<tr><td>H2O_cluster_allowed_cores:</td>\n",
       "<td>8</td></tr>\n",
       "<tr><td>H2O_cluster_status:</td>\n",
       "<td>locked, healthy</td></tr>\n",
       "<tr><td>H2O_connection_url:</td>\n",
       "<td>http://localhost:54321</td></tr>\n",
       "<tr><td>H2O_connection_proxy:</td>\n",
       "<td>{\"http\": null, \"https\": null, \"no\": \"127.0.0.1\"}</td></tr>\n",
       "<tr><td>H2O_internal_security:</td>\n",
       "<td>False</td></tr>\n",
       "<tr><td>Python_version:</td>\n",
       "<td>3.8.10 final</td></tr></tbody>\n",
       "  </table>\n",
       "</div>\n"
      ],
      "text/plain": [
       "--------------------------  ------------------------------------------------\n",
       "H2O_cluster_uptime:         17 hours 42 mins\n",
       "H2O_cluster_timezone:       Europe/Oslo\n",
       "H2O_data_parsing_timezone:  UTC\n",
       "H2O_cluster_version:        3.38.0.2\n",
       "H2O_cluster_version_age:    12 days\n",
       "H2O_cluster_name:           H2O_from_python_paaske_rcki3a\n",
       "H2O_cluster_total_nodes:    1\n",
       "H2O_cluster_free_memory:    1.881 Gb\n",
       "H2O_cluster_total_cores:    8\n",
       "H2O_cluster_allowed_cores:  8\n",
       "H2O_cluster_status:         locked, healthy\n",
       "H2O_connection_url:         http://localhost:54321\n",
       "H2O_connection_proxy:       {\"http\": null, \"https\": null, \"no\": \"127.0.0.1\"}\n",
       "H2O_internal_security:      False\n",
       "Python_version:             3.8.10 final\n",
       "--------------------------  ------------------------------------------------"
      ]
     },
     "metadata": {},
     "output_type": "display_data"
    }
   ],
   "source": [
    "# Import and init h2o lib. Running on java\n",
    "import h2o\n",
    "from h2o.automl import H2OAutoML\n",
    "import pandas as pd\n",
    "h2o.init()"
   ]
  },
  {
   "cell_type": "code",
   "execution_count": 45,
   "metadata": {},
   "outputs": [
    {
     "name": "stdout",
     "output_type": "stream",
     "text": [
      "Parse progress: |████████████████████████████████████████████████████████████████| (done) 100%\n",
      "Parse progress: |████████████████████████████████████████████████████████████████| (done) 100%\n"
     ]
    },
    {
     "data": {
      "text/plain": [
       "{'store_id': 'string',\n",
       " 'chain_name': 'string',\n",
       " 'mall_name': 'string',\n",
       " 'lv1': 'string',\n",
       " 'lv2': 'string',\n",
       " 'lv3': 'string',\n",
       " 'total_nbr_people': 'int',\n",
       " 'nbr_people_per_store_in_grunnkrets': 'real',\n",
       " 'counts_gr_lv2': 'int',\n",
       " 'counts_municipality_lv2': 'int',\n",
       " 'busstops_within_50m': 'int',\n",
       " 'busstops_within_100m': 'int',\n",
       " 'busstops_within_400m': 'int',\n",
       " 'busstops_within_800m': 'int',\n",
       " 'busstops_within_1500m': 'int',\n",
       " 'num_stores_within_100m_and_same_lvl2': 'int',\n",
       " 'num_stores_within_500m_and_same_lvl2': 'int',\n",
       " 'num_stores_within_1km_and_same_lvl2': 'int',\n",
       " 'num_stores_within_5km_and_same_lvl2': 'int',\n",
       " 'num_stores_within_10km_and_same_lvl2': 'int',\n",
       " 'num_stores_within_20km_and_same_lvl2': 'int'}"
      ]
     },
     "execution_count": 45,
     "metadata": {},
     "output_type": "execute_result"
    }
   ],
   "source": [
    "# Reading csv to h2o dataframe \n",
    "col_types_train = {'store_id': 'enum',\n",
    " 'chain_name': 'enum',\n",
    " 'mall_name': 'enum',\n",
    " 'lv1': 'enum',\n",
    " 'lv2': 'enum',\n",
    " 'lv3': 'enum',\n",
    " 'revenue': 'int',\n",
    " 'total_nbr_people': 'int',\n",
    " 'nbr_people_per_store_in_grunnkrets': 'int',\n",
    " 'counts_gr_lv2': 'int',\n",
    " 'counts_municipality_lv2': 'int',\n",
    " 'busstops_within_50m': 'int',\n",
    " 'busstops_within_100m': 'int',\n",
    " 'busstops_within_400m': 'int',\n",
    " 'busstops_within_800m': 'int',\n",
    " 'busstops_within_1500m': 'int',\n",
    " 'num_stores_within_100m_and_same_lvl2': 'int',\n",
    " 'num_stores_within_500m_and_same_lvl2': 'int',\n",
    " 'num_stores_within_1km_and_same_lvl2': 'int',\n",
    " 'num_stores_within_5km_and_same_lvl2': 'int',\n",
    " 'num_stores_within_10km_and_same_lvl2': 'int',\n",
    " 'num_stores_within_20km_and_same_lvl2': 'int'}\n",
    "\n",
    "col_types_test = {'store_id': 'enum',\n",
    " 'chain_name': 'enum',\n",
    " 'mall_name': 'enum',\n",
    " 'lv1': 'enum',\n",
    " 'lv2': 'enum',\n",
    " 'lv3': 'enum',\n",
    " 'total_nbr_people': 'int',\n",
    " 'nbr_people_per_store_in_grunnkrets': 'int',\n",
    " 'counts_gr_lv2': 'int',\n",
    " 'counts_municipality_lv2': 'int',\n",
    " 'busstops_within_50m': 'int',\n",
    " 'busstops_within_100m': 'int',\n",
    " 'busstops_within_400m': 'int',\n",
    " 'busstops_within_800m': 'int',\n",
    " 'busstops_within_1500m': 'int',\n",
    " 'num_stores_within_100m_and_same_lvl2': 'int',\n",
    " 'num_stores_within_500m_and_same_lvl2': 'int',\n",
    " 'num_stores_within_1km_and_same_lvl2': 'int',\n",
    " 'num_stores_within_5km_and_same_lvl2': 'int',\n",
    " 'num_stores_within_10km_and_same_lvl2': 'int',\n",
    " 'num_stores_within_20km_and_same_lvl2': 'int'}\n",
    "\n",
    " \n",
    "train_data = h2o.import_file('feature_data/training_set_dropped.csv', col_types = col_types_train)\n",
    "test_data = h2o.import_file('feature_data/testing_set_dropped.csv', col_types = col_types_test)\n",
    "\n",
    "train_data.types\n",
    "test_data.types"
   ]
  },
  {
   "cell_type": "code",
   "execution_count": 46,
   "metadata": {},
   "outputs": [
    {
     "ename": "H2OValueError",
     "evalue": "Only 'int' or 'string' are allowed for asfactor(), got revenue:real ",
     "output_type": "error",
     "traceback": [
      "\u001b[0;31m---------------------------------------------------------------------------\u001b[0m",
      "\u001b[0;31mH2OValueError\u001b[0m                             Traceback (most recent call last)",
      "\u001b[0;32m<ipython-input-46-20fd2ac073f2>\u001b[0m in \u001b[0;36m<module>\u001b[0;34m\u001b[0m\n\u001b[1;32m      3\u001b[0m \u001b[0mtrain_data\u001b[0m\u001b[0;34m[\u001b[0m\u001b[0;34m'chain_name'\u001b[0m\u001b[0;34m]\u001b[0m \u001b[0;34m=\u001b[0m \u001b[0mtrain_data\u001b[0m\u001b[0;34m[\u001b[0m\u001b[0;34m'chain_name'\u001b[0m\u001b[0;34m]\u001b[0m\u001b[0;34m.\u001b[0m\u001b[0masfactor\u001b[0m\u001b[0;34m(\u001b[0m\u001b[0;34m)\u001b[0m\u001b[0;34m\u001b[0m\u001b[0;34m\u001b[0m\u001b[0m\n\u001b[1;32m      4\u001b[0m \u001b[0mtrain_data\u001b[0m\u001b[0;34m[\u001b[0m\u001b[0;34m'mall_name'\u001b[0m\u001b[0;34m]\u001b[0m \u001b[0;34m=\u001b[0m \u001b[0mtrain_data\u001b[0m\u001b[0;34m[\u001b[0m\u001b[0;34m'mall_name'\u001b[0m\u001b[0;34m]\u001b[0m\u001b[0;34m.\u001b[0m\u001b[0masfactor\u001b[0m\u001b[0;34m(\u001b[0m\u001b[0;34m)\u001b[0m\u001b[0;34m\u001b[0m\u001b[0;34m\u001b[0m\u001b[0m\n\u001b[0;32m----> 5\u001b[0;31m \u001b[0mtrain_data\u001b[0m\u001b[0;34m[\u001b[0m\u001b[0;34m'revenue'\u001b[0m\u001b[0;34m]\u001b[0m \u001b[0;34m=\u001b[0m \u001b[0mtrain_data\u001b[0m\u001b[0;34m[\u001b[0m\u001b[0;34m'revenue'\u001b[0m\u001b[0;34m]\u001b[0m\u001b[0;34m.\u001b[0m\u001b[0masfactor\u001b[0m\u001b[0;34m(\u001b[0m\u001b[0;34m)\u001b[0m\u001b[0;34m\u001b[0m\u001b[0;34m\u001b[0m\u001b[0m\n\u001b[0m\u001b[1;32m      6\u001b[0m \u001b[0mtrain_data\u001b[0m\u001b[0;34m[\u001b[0m\u001b[0;34m'lv1'\u001b[0m\u001b[0;34m]\u001b[0m \u001b[0;34m=\u001b[0m \u001b[0mtrain_data\u001b[0m\u001b[0;34m[\u001b[0m\u001b[0;34m'lv1'\u001b[0m\u001b[0;34m]\u001b[0m\u001b[0;34m.\u001b[0m\u001b[0masfactor\u001b[0m\u001b[0;34m(\u001b[0m\u001b[0;34m)\u001b[0m\u001b[0;34m\u001b[0m\u001b[0;34m\u001b[0m\u001b[0m\n\u001b[1;32m      7\u001b[0m \u001b[0mtrain_data\u001b[0m\u001b[0;34m[\u001b[0m\u001b[0;34m'lv2'\u001b[0m\u001b[0;34m]\u001b[0m \u001b[0;34m=\u001b[0m \u001b[0mtrain_data\u001b[0m\u001b[0;34m[\u001b[0m\u001b[0;34m'lv2'\u001b[0m\u001b[0;34m]\u001b[0m\u001b[0;34m.\u001b[0m\u001b[0masfactor\u001b[0m\u001b[0;34m(\u001b[0m\u001b[0;34m)\u001b[0m\u001b[0;34m\u001b[0m\u001b[0;34m\u001b[0m\u001b[0m\n",
      "\u001b[0;32m~/.local/lib/python3.8/site-packages/h2o/frame.py\u001b[0m in \u001b[0;36masfactor\u001b[0;34m(self)\u001b[0m\n\u001b[1;32m   3273\u001b[0m             \u001b[0mt\u001b[0m \u001b[0;34m=\u001b[0m \u001b[0mself\u001b[0m\u001b[0;34m.\u001b[0m\u001b[0mtypes\u001b[0m\u001b[0;34m[\u001b[0m\u001b[0mcolname\u001b[0m\u001b[0;34m]\u001b[0m\u001b[0;34m\u001b[0m\u001b[0;34m\u001b[0m\u001b[0m\n\u001b[1;32m   3274\u001b[0m             \u001b[0;32mif\u001b[0m \u001b[0mt\u001b[0m \u001b[0;32mnot\u001b[0m \u001b[0;32min\u001b[0m \u001b[0;34m{\u001b[0m\u001b[0;34m\"bool\"\u001b[0m\u001b[0;34m,\u001b[0m \u001b[0;34m\"int\"\u001b[0m\u001b[0;34m,\u001b[0m \u001b[0;34m\"string\"\u001b[0m\u001b[0;34m,\u001b[0m \u001b[0;34m\"enum\"\u001b[0m\u001b[0;34m}\u001b[0m\u001b[0;34m:\u001b[0m\u001b[0;34m\u001b[0m\u001b[0;34m\u001b[0m\u001b[0m\n\u001b[0;32m-> 3275\u001b[0;31m                 raise H2OValueError(\"Only 'int' or 'string' are allowed for \"\n\u001b[0m\u001b[1;32m   3276\u001b[0m                                     \"asfactor(), got %s:%s \" % (colname, t))\n\u001b[1;32m   3277\u001b[0m         \u001b[0mfr\u001b[0m \u001b[0;34m=\u001b[0m \u001b[0mH2OFrame\u001b[0m\u001b[0;34m.\u001b[0m\u001b[0m_expr\u001b[0m\u001b[0;34m(\u001b[0m\u001b[0mexpr\u001b[0m\u001b[0;34m=\u001b[0m\u001b[0mExprNode\u001b[0m\u001b[0;34m(\u001b[0m\u001b[0;34m\"as.factor\"\u001b[0m\u001b[0;34m,\u001b[0m \u001b[0mself\u001b[0m\u001b[0;34m)\u001b[0m\u001b[0;34m,\u001b[0m \u001b[0mcache\u001b[0m\u001b[0;34m=\u001b[0m\u001b[0mself\u001b[0m\u001b[0;34m.\u001b[0m\u001b[0m_ex\u001b[0m\u001b[0;34m.\u001b[0m\u001b[0m_cache\u001b[0m\u001b[0;34m)\u001b[0m\u001b[0;34m\u001b[0m\u001b[0;34m\u001b[0m\u001b[0m\n",
      "\u001b[0;31mH2OValueError\u001b[0m: Only 'int' or 'string' are allowed for asfactor(), got revenue:real "
     ]
    }
   ],
   "source": [
    "# Setting features as factor\n",
    "\"\"\" train_data['store_id'] = train_data['store_id'].asfactor()\n",
    "train_data['chain_name'] = train_data['chain_name'].asfactor()\n",
    "train_data['mall_name'] = train_data['mall_name'].asfactor()\n",
    "train_data['revenue'] = train_data['revenue'].asfactor()\n",
    "train_data['lv1'] = train_data['lv1'].asfactor()\n",
    "train_data['lv2'] = train_data['lv2'].asfactor()\n",
    "train_data['lv3'] = train_data['lv3'].asfactor()\n",
    "train_data['total_nbr_people'] = train_data['total_nbr_people'].asfactor()\n",
    "train_data['nbr_people_per_store_in_grunnkrets'] = train_data['nbr_people_per_store_in_grunnkrets'].asfactor()\n",
    "train_data['counts_gr_lv2'] = train_data['counts_gr_lv2'].asfactor()\n",
    "train_data['counts_municipality_lv2'] = train_data['counts_municipality_lv2'].asfactor()\n",
    "train_data['busstops_within_50m'] = train_data['busstops_within_50m'].asfactor()\n",
    "train_data['busstops_within_100m'] = train_data['busstops_within_100m'].asfactor()\n",
    "train_data['busstops_within_400m'] = train_data['busstops_within_400m'].asfactor()\n",
    "train_data['busstops_within_800m'] = train_data['busstops_within_800m'].asfactor()\n",
    "train_data['busstops_within_1500m'] = train_data['busstops_within_1500m'].asfactor()\n",
    "train_data['num_stores_within_100m_and_same_lvl2'] = train_data['num_stores_within_100m_and_same_lvl2'].asfactor()\n",
    "train_data['num_stores_within_500m_and_same_lvl2'] = train_data['num_stores_within_500m_and_same_lvl2'].asfactor()\n",
    "train_data['num_stores_within_1km_and_same_lvl2'] = train_data['num_stores_within_1km_and_same_lvl2'].asfactor()\n",
    "train_data['num_stores_within_5km_and_same_lvl2'] = train_data['num_stores_within_5km_and_same_lvl2'].asfactor()\n",
    "train_data['num_stores_within_10km_and_same_lvl2'] = train_data['num_stores_within_10km_and_same_lvl2'].asfactor()\n",
    "train_data['num_stores_within_20km_and_same_lvl2'] = train_data['num_stores_within_20km_and_same_lvl2'].asfactor() \"\"\""
   ]
  },
  {
   "cell_type": "code",
   "execution_count": null,
   "metadata": {},
   "outputs": [],
   "source": [
    "#test_data['revenue'] = test_data['revenue'].asfactor()\n",
    "\"\"\" test_data['store_id'] = test_data['store_id'].asfactor()\n",
    "test_data['chain_name'] = test_data['chain_name'].asfactor()\n",
    "test_data['mall_name'] = test_data['mall_name'].asfactor()\n",
    "test_data['lv1'] = test_data['lv1'].asfactor()\n",
    "test_data['lv2'] = test_data['lv2'].asfactor()\n",
    "test_data['lv3'] = test_data['lv3'].asfactor()\n",
    "test_data['total_nbr_people'] = test_data['total_nbr_people'].asfactor()\n",
    "test_data['nbr_people_per_store_in_grunnkrets'] = test_data['nbr_people_per_store_in_grunnkrets'].asfactor()\n",
    "test_data['counts_gr_lv2'] = test_data['counts_gr_lv2'].asfactor()\n",
    "test_data['counts_municipality_lv2'] = test_data['counts_municipality_lv2'].asfactor()\n",
    "test_data['busstops_within_50m'] = test_data['busstops_within_50m'].asfactor()\n",
    "test_data['busstops_within_100m'] = test_data['busstops_within_100m'].asfactor()\n",
    "test_data['busstops_within_400m'] = test_data['busstops_within_400m'].asfactor()\n",
    "test_data['busstops_within_800m'] = test_data['busstops_within_800m'].asfactor()\n",
    "test_data['busstops_within_1500m'] = test_data['busstops_within_1500m'].asfactor()\n",
    "test_data['num_stores_within_100m_and_same_lvl2'] = test_data['num_stores_within_100m_and_same_lvl2'].asfactor()\n",
    "test_data['num_stores_within_500m_and_same_lvl2'] = test_data['num_stores_within_500m_and_same_lvl2'].asfactor()\n",
    "test_data['num_stores_within_1km_and_same_lvl2'] = test_data['num_stores_within_1km_and_same_lvl2'].asfactor()\n",
    "test_data['num_stores_within_5km_and_same_lvl2'] = test_data['num_stores_within_5km_and_same_lvl2'].asfactor()\n",
    "test_data['num_stores_within_10km_and_same_lvl2'] = test_data['num_stores_within_10km_and_same_lvl2'].asfactor()\n",
    "test_data['num_stores_within_20km_and_same_lvl2'] = test_data['num_stores_within_20km_and_same_lvl2'].asfactor() \"\"\""
   ]
  },
  {
   "cell_type": "code",
   "execution_count": null,
   "metadata": {},
   "outputs": [],
   "source": [
    "# Removing labels from train set\n",
    "y = \"revenue\"\n",
    "x = train_data.columns\n",
    "x.remove(y)"
   ]
  },
  {
   "cell_type": "code",
   "execution_count": null,
   "metadata": {},
   "outputs": [],
   "source": [
    "# Running fit/training on train set with cross validation n=5\n",
    "aml = H2OAutoML(max_models = 10, seed = 1)\n",
    "aml.train(x = x, y = y, training_frame = train_data)"
   ]
  },
  {
   "cell_type": "code",
   "execution_count": null,
   "metadata": {},
   "outputs": [],
   "source": [
    "lb = aml.leaderboard"
   ]
  },
  {
   "cell_type": "code",
   "execution_count": null,
   "metadata": {},
   "outputs": [],
   "source": [
    "# Showing best perforimg models\n",
    "lb.head()"
   ]
  },
  {
   "cell_type": "code",
   "execution_count": null,
   "metadata": {},
   "outputs": [],
   "source": [
    "preds = aml.predict(test_data)"
   ]
  },
  {
   "cell_type": "code",
   "execution_count": null,
   "metadata": {},
   "outputs": [],
   "source": [
    "preds = h2o.as_list(preds)"
   ]
  },
  {
   "cell_type": "code",
   "execution_count": null,
   "metadata": {},
   "outputs": [],
   "source": [
    "# Convert result to desired format\n",
    "\n",
    "import pandas as pd\n",
    "predictions = preds\n",
    "\n",
    "predictions[\"sample_id\"] = predictions.index + 50000\n",
    "predictions[\"prediction_in_probability\"] = predictions[\"p1\"]\n",
    "predictions[[\"sample_id\", \"prediction_in_probability\"]].to_csv(\"predictions.txt\", index=False)"
   ]
  }
 ],
 "metadata": {
  "kernelspec": {
   "display_name": "Python 3.9.5 64-bit",
   "language": "python",
   "name": "python3"
  },
  "language_info": {
   "name": "python",
   "version": "3.9.5"
  },
  "orig_nbformat": 4,
  "vscode": {
   "interpreter": {
    "hash": "aee8b7b246df8f9039afb4144a1f6fd8d2ca17a180786b69acc140d282b71a49"
   }
  }
 },
 "nbformat": 4,
 "nbformat_minor": 2
}
