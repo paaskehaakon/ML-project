{
 "cells": [
  {
   "cell_type": "code",
   "execution_count": null,
   "metadata": {},
   "outputs": [],
   "source": [
    "# Import and init h2o lib. Running on java\n",
    "import h2o\n",
    "from h2o.automl import H2OAutoML\n",
    "h2o.init()"
   ]
  },
  {
   "cell_type": "code",
   "execution_count": null,
   "metadata": {},
   "outputs": [],
   "source": [
    "# Reading csv to h2o dataframe file\n",
    "df = h2o.import_file('challenge1/challenge1_train.csv')\n",
    "df_test = h2o.import_file('challenge1/challenge1_test.csv')"
   ]
  },
  {
   "cell_type": "code",
   "execution_count": null,
   "metadata": {},
   "outputs": [],
   "source": [
    "# Setting features as factor\n",
    "df['target'] = df['target'].asfactor()\n",
    "df['f0'] = df['f0'].asfactor()\n",
    "df['f7'] = df['f7'].asfactor()\n",
    "df['f14'] = df['f14'].asfactor()\n",
    "df['f15'] = df['f15'].asfactor()\n",
    "df['f23'] = df['f23'].asfactor()\n",
    "df['f24'] = df['f24'].asfactor()"
   ]
  },
  {
   "cell_type": "code",
   "execution_count": null,
   "metadata": {},
   "outputs": [],
   "source": [
    "df_test['f0'] = df_test['f0'].asfactor()\n",
    "df_test['f7'] = df_test['f7'].asfactor()\n",
    "df_test['f14'] = df_test['f14'].asfactor()\n",
    "df_test['f15'] = df_test['f15'].asfactor()\n",
    "df_test['f23'] = df_test['f23'].asfactor()\n",
    "df_test['f24'] = df_test['f24'].asfactor()"
   ]
  },
  {
   "cell_type": "code",
   "execution_count": null,
   "metadata": {},
   "outputs": [],
   "source": [
    "# Removing labels from train set\n",
    "y = \"target\"\n",
    "x = df.columns\n",
    "x.remove(y)"
   ]
  },
  {
   "cell_type": "code",
   "execution_count": null,
   "metadata": {},
   "outputs": [],
   "source": [
    "# Running fit/training on train set with cross validation n=5\n",
    "aml = H2OAutoML(max_models = 10, seed = 1)\n",
    "aml.train(x = x, y = y, training_frame = df)"
   ]
  },
  {
   "cell_type": "code",
   "execution_count": null,
   "metadata": {},
   "outputs": [],
   "source": [
    "lb = aml.leaderboard"
   ]
  },
  {
   "cell_type": "code",
   "execution_count": null,
   "metadata": {},
   "outputs": [],
   "source": [
    "# Showing best perforimg models\n",
    "lb.head()"
   ]
  },
  {
   "cell_type": "code",
   "execution_count": null,
   "metadata": {},
   "outputs": [],
   "source": [
    "preds = aml.predict(df_test)"
   ]
  },
  {
   "cell_type": "code",
   "execution_count": null,
   "metadata": {},
   "outputs": [],
   "source": [
    "preds = h2o.as_list(preds)"
   ]
  },
  {
   "cell_type": "code",
   "execution_count": null,
   "metadata": {},
   "outputs": [],
   "source": [
    "# Convert result to desired format\n",
    "\n",
    "import pandas as pd\n",
    "predictions = preds\n",
    "\n",
    "predictions[\"sample_id\"] = predictions.index + 50000\n",
    "predictions[\"prediction_in_probability\"] = predictions[\"p1\"]\n",
    "predictions[[\"sample_id\", \"prediction_in_probability\"]].to_csv(\"predictions.txt\", index=False)"
   ]
  }
 ],
 "metadata": {
  "kernelspec": {
   "display_name": "Python 3.9.5 64-bit",
   "language": "python",
   "name": "python3"
  },
  "language_info": {
   "name": "python",
   "version": "3.9.5"
  },
  "orig_nbformat": 4,
  "vscode": {
   "interpreter": {
    "hash": "aee8b7b246df8f9039afb4144a1f6fd8d2ca17a180786b69acc140d282b71a49"
   }
  }
 },
 "nbformat": 4,
 "nbformat_minor": 2
}
