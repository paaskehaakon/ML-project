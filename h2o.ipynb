{
 "cells": [
  {
   "cell_type": "code",
   "execution_count": null,
   "metadata": {},
   "outputs": [],
   "source": [
    "# Import and init h2o lib. Running on java\n",
    "import h2o\n",
    "from h2o.automl import H2OAutoML\n",
    "import pandas as pd\n",
    "h2o.init()"
   ]
  },
  {
   "cell_type": "code",
   "execution_count": null,
   "metadata": {},
   "outputs": [],
   "source": [
    "# Reading csv to h2o dataframe \n",
    "col_types_train = {\n",
    " 'chain_name': 'enum',\n",
    " 'mall_name': 'enum',\n",
    " 'revenue': 'numeric',\n",
    " 'lv1': 'enum',\n",
    " 'lv2': 'enum',\n",
    " 'lv3': 'enum',\n",
    " 'total_nbr_people': 'int',\n",
    " 'nbr_people_per_store_in_grunnkrets': 'numeric',\n",
    " 'counts_gr_lv2': 'numeric',\n",
    " 'counts_municipality_lv2': 'numeric',\n",
    " #'busstops_within_50m': 'numeric',\n",
    " #'busstops_within_100m': 'numeric',\n",
    " 'busstops_within_400m': 'numeric',\n",
    " 'busstops_within_800m': 'numeric',\n",
    " 'busstops_within_1500m': 'numeric',\n",
    " #'num_stores_within_100m_and_same_lvl2': 'numeric',\n",
    " 'num_stores_within_500m_and_same_lvl2': 'numeric',\n",
    " 'num_stores_within_1km_and_same_lvl2': 'numeric',\n",
    " 'num_stores_within_5km_and_same_lvl2': 'numeric',\n",
    " 'num_stores_within_10km_and_same_lvl2': 'numeric',\n",
    " 'num_stores_within_20km_and_same_lvl2': 'numeric',\n",
    " 'closest_competitor_lv2': 'numeric',\n",
    " #'num_stores_within_100m_and_same_lvl3': 'numeric',\n",
    " #'num_stores_within_500m_and_same_lvl3': 'numeric',\n",
    " 'num_stores_within_1km_and_same_lvl3': 'numeric',\n",
    " 'num_stores_within_5km_and_same_lvl3': 'numeric',\n",
    " #'num_stores_within_10km_and_same_lvl3': 'numeric',\n",
    " 'num_stores_within_20km_and_same_lvl3': 'numeric',\n",
    " 'closest_competitor_lv3': 'numeric',\n",
    " 'municipality_size_group': 'enum',\n",
    " 'mean_revenue_for_municipality_size_group': 'numeric',\n",
    " 'median_revenue_for_municipality_size_group': 'numeric',\n",
    " 'st_dev_of_revenue_for_municipality_size_group': 'numeric',\n",
    " 'municipality_rev_group_lv2': 'numeric',\n",
    " 'mean_revenue_for_municipality_rev_group_lv2': 'numeric'}\n",
    "\n",
    "col_types_test = {\n",
    " 'chain_name': 'enum',\n",
    " 'mall_name': 'enum',\n",
    " 'lv1': 'enum',\n",
    " 'lv2': 'enum',\n",
    " 'lv3': 'enum',\n",
    " 'total_nbr_people': 'int',\n",
    " 'nbr_people_per_store_in_grunnkrets': 'numeric',\n",
    " 'counts_gr_lv2': 'numeric',\n",
    " 'counts_municipality_lv2': 'numeric',\n",
    " #'busstops_within_50m': 'numeric',\n",
    " #'busstops_within_100m': 'numeric',\n",
    " 'busstops_within_400m': 'numeric',\n",
    " 'busstops_within_800m': 'numeric',\n",
    " 'busstops_within_1500m': 'numeric',\n",
    " #'num_stores_within_100m_and_same_lvl2': 'numeric',\n",
    " 'num_stores_within_500m_and_same_lvl2': 'numeric',\n",
    " 'num_stores_within_1km_and_same_lvl2': 'numeric',\n",
    " 'num_stores_within_5km_and_same_lvl2': 'numeric',\n",
    " 'num_stores_within_10km_and_same_lvl2': 'numeric',\n",
    " 'num_stores_within_20km_and_same_lvl2': 'numeric',\n",
    " 'closest_competitor_lv2': 'numeric',\n",
    " #'num_stores_within_100m_and_same_lvl3': 'numeric',\n",
    " #'num_stores_within_500m_and_same_lvl3': 'numeric',\n",
    " 'num_stores_within_1km_and_same_lvl3': 'numeric',\n",
    " 'num_stores_within_5km_and_same_lvl3': 'numeric',\n",
    " #'num_stores_within_10km_and_same_lvl3': 'numeric',\n",
    " 'num_stores_within_20km_and_same_lvl3': 'numeric',\n",
    " 'closest_competitor_lv3': 'numeric',\n",
    " 'municipality_size_group': 'enum',\n",
    " 'mean_revenue_for_municipality_size_group': 'numeric',\n",
    " 'median_revenue_for_municipality_size_group': 'numeric',\n",
    " 'st_dev_of_revenue_for_municipality_size_group': 'numeric',\n",
    " 'municipality_rev_group_lv2': 'numeric',\n",
    " 'mean_revenue_for_municipality_rev_group_lv2': 'numeric'}\n",
    "\n",
    "train_data = pd.read_csv('feature_data/training_set_dropped.csv')\n",
    "test_data = pd.read_csv('feature_data/testing_set_dropped.csv')\n",
    "\n",
    "# Save store ids, then remove this column\n",
    "store_ids = test_data['store_id'].to_numpy()\n",
    "ids = pd.DataFrame(store_ids)\n",
    "ids.rename(columns={0 :'id'}, inplace=True)\n",
    "\n",
    "train_data = train_data.drop('store_id', axis=1)\n",
    "test_data = test_data.drop('store_id', axis=1)\n",
    "\n",
    "train_data.to_csv('feature_data/training_set_dropped.csv', index=False)\n",
    "test_data.to_csv('feature_data/testing_set_dropped.csv', index=False)\n",
    "\n",
    "train_data = h2o.import_file('feature_data/training_set_dropped.csv', col_types = col_types_train)\n",
    "test_data = h2o.import_file('feature_data/testing_set_dropped.csv', col_types = col_types_test)\n",
    "\n",
    "\n",
    "\n"
   ]
  },
  {
   "cell_type": "code",
   "execution_count": null,
   "metadata": {},
   "outputs": [],
   "source": [
    "# Removing labels from train set\n",
    "y = \"revenue\"\n",
    "x = train_data.columns\n",
    "x.remove(y)\n",
    "test_data"
   ]
  },
  {
   "cell_type": "code",
   "execution_count": null,
   "metadata": {},
   "outputs": [],
   "source": [
    "# Running fit/training on train set with cross validation n=5\n",
    "aml = H2OAutoML(max_models = 10, seed = 2, stopping_metric = \"RMSE\", exclude_algos=[\"XGBoost\"])\n",
    "aml.train(x = x, y = y, training_frame = train_data)"
   ]
  },
  {
   "cell_type": "code",
   "execution_count": null,
   "metadata": {},
   "outputs": [],
   "source": [
    "lb = aml.leaderboard"
   ]
  },
  {
   "cell_type": "code",
   "execution_count": null,
   "metadata": {},
   "outputs": [],
   "source": [
    "# Showing best perforimg models\n",
    "lb.head()"
   ]
  },
  {
   "cell_type": "code",
   "execution_count": null,
   "metadata": {},
   "outputs": [],
   "source": [
    "preds = aml.predict(test_data)"
   ]
  },
  {
   "cell_type": "code",
   "execution_count": null,
   "metadata": {},
   "outputs": [],
   "source": [
    "#print variable importance\n",
    "corr = aml.varimp(use_pandas = True)\n",
    "corr['sum'] = corr.sum(axis=1)\n",
    "corr = corr.sort_values(by=['sum'])\n",
    "corr.head(30)"
   ]
  },
  {
   "cell_type": "code",
   "execution_count": null,
   "metadata": {},
   "outputs": [],
   "source": [
    "#preds = h2o.as_list(preds)\n",
    "print(preds)"
   ]
  },
  {
   "cell_type": "code",
   "execution_count": null,
   "metadata": {},
   "outputs": [],
   "source": [
    "# Convert result to desired format\n",
    "\n",
    "import pandas as pd\n",
    "import numpy as np\n",
    "\n",
    "\n",
    "pandas_preds = preds.as_data_frame()\n",
    "pandas_preds.rename(columns={'predict' :'predicted'}, inplace=True)\n",
    "pandas_preds['predicted'] = np.expm1(pandas_preds['predicted'])\n",
    "\n",
    "def save_submission(pred):\n",
    "    predicted = pd.DataFrame(pred, columns = ['predicted'])\n",
    "    output = pd.concat([ids,predicted],axis=1)\n",
    "    output.to_csv('h2o.csv', index=False)\n",
    "    \n",
    "save_submission(pandas_preds)\n",
    "\n"
   ]
  }
 ],
 "metadata": {
  "kernelspec": {
   "display_name": "Python 3.8.10 64-bit",
   "language": "python",
   "name": "python3"
  },
  "language_info": {
   "codemirror_mode": {
    "name": "ipython",
    "version": 3
   },
   "file_extension": ".py",
   "mimetype": "text/x-python",
   "name": "python",
   "nbconvert_exporter": "python",
   "pygments_lexer": "ipython3",
   "version": "3.8.10"
  },
  "orig_nbformat": 4,
  "vscode": {
   "interpreter": {
    "hash": "916dbcbb3f70747c44a77c7bcd40155683ae19c65e1c03b4aa3499c5328201f1"
   }
  }
 },
 "nbformat": 4,
 "nbformat_minor": 2
}
