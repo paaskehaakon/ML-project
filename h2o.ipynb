{
 "cells": [
  {
   "cell_type": "code",
<<<<<<< HEAD
   "execution_count": 3,
=======
   "execution_count": 33,
>>>>>>> 744b942e7faacfaebb08192e705d0b6a5f84b99f
   "metadata": {},
   "outputs": [
    {
     "name": "stdout",
     "output_type": "stream",
     "text": [
      "Checking whether there is an H2O instance running at http://localhost:54321 . connected.\n"
     ]
    },
    {
     "data": {
      "text/html": [
       "\n",
       "<style>\n",
       "\n",
<<<<<<< HEAD
       "#h2o-table-2.h2o-container {\n",
       "  overflow-x: auto;\n",
       "}\n",
       "#h2o-table-2 .h2o-table {\n",
=======
       "#h2o-table-9.h2o-container {\n",
       "  overflow-x: auto;\n",
       "}\n",
       "#h2o-table-9 .h2o-table {\n",
>>>>>>> 744b942e7faacfaebb08192e705d0b6a5f84b99f
       "  /* width: 100%; */\n",
       "  margin-top: 1em;\n",
       "  margin-bottom: 1em;\n",
       "}\n",
<<<<<<< HEAD
       "#h2o-table-2 .h2o-table caption {\n",
=======
       "#h2o-table-9 .h2o-table caption {\n",
>>>>>>> 744b942e7faacfaebb08192e705d0b6a5f84b99f
       "  white-space: nowrap;\n",
       "  caption-side: top;\n",
       "  text-align: left;\n",
       "  /* margin-left: 1em; */\n",
       "  margin: 0;\n",
       "  font-size: larger;\n",
       "}\n",
<<<<<<< HEAD
       "#h2o-table-2 .h2o-table thead {\n",
=======
       "#h2o-table-9 .h2o-table thead {\n",
>>>>>>> 744b942e7faacfaebb08192e705d0b6a5f84b99f
       "  white-space: nowrap; \n",
       "  position: sticky;\n",
       "  top: 0;\n",
       "  box-shadow: 0 -1px inset;\n",
       "}\n",
<<<<<<< HEAD
       "#h2o-table-2 .h2o-table tbody {\n",
       "  overflow: auto;\n",
       "}\n",
       "#h2o-table-2 .h2o-table th,\n",
       "#h2o-table-2 .h2o-table td {\n",
       "  text-align: right;\n",
       "  /* border: 1px solid; */\n",
       "}\n",
       "#h2o-table-2 .h2o-table tr:nth-child(even) {\n",
=======
       "#h2o-table-9 .h2o-table tbody {\n",
       "  overflow: auto;\n",
       "}\n",
       "#h2o-table-9 .h2o-table th,\n",
       "#h2o-table-9 .h2o-table td {\n",
       "  text-align: right;\n",
       "  /* border: 1px solid; */\n",
       "}\n",
       "#h2o-table-9 .h2o-table tr:nth-child(even) {\n",
>>>>>>> 744b942e7faacfaebb08192e705d0b6a5f84b99f
       "  /* background: #F5F5F5 */\n",
       "}\n",
       "\n",
       "</style>      \n",
<<<<<<< HEAD
       "<div id=\"h2o-table-2\" class=\"h2o-container\">\n",
=======
       "<div id=\"h2o-table-9\" class=\"h2o-container\">\n",
>>>>>>> 744b942e7faacfaebb08192e705d0b6a5f84b99f
       "  <table class=\"h2o-table\">\n",
       "    <caption></caption>\n",
       "    <thead></thead>\n",
       "    <tbody><tr><td>H2O_cluster_uptime:</td>\n",
<<<<<<< HEAD
       "<td>7 mins 53 secs</td></tr>\n",
=======
       "<td>22 mins 59 secs</td></tr>\n",
>>>>>>> 744b942e7faacfaebb08192e705d0b6a5f84b99f
       "<tr><td>H2O_cluster_timezone:</td>\n",
       "<td>Europe/Oslo</td></tr>\n",
       "<tr><td>H2O_data_parsing_timezone:</td>\n",
       "<td>UTC</td></tr>\n",
       "<tr><td>H2O_cluster_version:</td>\n",
       "<td>3.38.0.2</td></tr>\n",
       "<tr><td>H2O_cluster_version_age:</td>\n",
       "<td>12 days </td></tr>\n",
       "<tr><td>H2O_cluster_name:</td>\n",
<<<<<<< HEAD
       "<td>H2O_from_python_julialovgren_kjm3i4</td></tr>\n",
       "<tr><td>H2O_cluster_total_nodes:</td>\n",
       "<td>1</td></tr>\n",
       "<tr><td>H2O_cluster_free_memory:</td>\n",
       "<td>1022 Mb</td></tr>\n",
       "<tr><td>H2O_cluster_total_cores:</td>\n",
       "<td>4</td></tr>\n",
       "<tr><td>H2O_cluster_allowed_cores:</td>\n",
       "<td>4</td></tr>\n",
=======
       "<td>H2O_from_python_paaske_rcki3a</td></tr>\n",
       "<tr><td>H2O_cluster_total_nodes:</td>\n",
       "<td>1</td></tr>\n",
       "<tr><td>H2O_cluster_free_memory:</td>\n",
       "<td>1.885 Gb</td></tr>\n",
       "<tr><td>H2O_cluster_total_cores:</td>\n",
       "<td>8</td></tr>\n",
       "<tr><td>H2O_cluster_allowed_cores:</td>\n",
       "<td>8</td></tr>\n",
>>>>>>> 744b942e7faacfaebb08192e705d0b6a5f84b99f
       "<tr><td>H2O_cluster_status:</td>\n",
       "<td>locked, healthy</td></tr>\n",
       "<tr><td>H2O_connection_url:</td>\n",
       "<td>http://localhost:54321</td></tr>\n",
       "<tr><td>H2O_connection_proxy:</td>\n",
<<<<<<< HEAD
       "<td>{\"http\": null, \"https\": null}</td></tr>\n",
       "<tr><td>H2O_internal_security:</td>\n",
       "<td>False</td></tr>\n",
       "<tr><td>Python_version:</td>\n",
       "<td>3.9.5 final</td></tr></tbody>\n",
=======
       "<td>{\"http\": null, \"https\": null, \"no\": \"127.0.0.1\"}</td></tr>\n",
       "<tr><td>H2O_internal_security:</td>\n",
       "<td>False</td></tr>\n",
       "<tr><td>Python_version:</td>\n",
       "<td>3.8.10 final</td></tr></tbody>\n",
>>>>>>> 744b942e7faacfaebb08192e705d0b6a5f84b99f
       "  </table>\n",
       "</div>\n"
      ],
      "text/plain": [
<<<<<<< HEAD
       "--------------------------  -----------------------------------\n",
       "H2O_cluster_uptime:         7 mins 53 secs\n",
=======
       "--------------------------  ------------------------------------------------\n",
       "H2O_cluster_uptime:         22 mins 59 secs\n",
>>>>>>> 744b942e7faacfaebb08192e705d0b6a5f84b99f
       "H2O_cluster_timezone:       Europe/Oslo\n",
       "H2O_data_parsing_timezone:  UTC\n",
       "H2O_cluster_version:        3.38.0.2\n",
       "H2O_cluster_version_age:    12 days\n",
<<<<<<< HEAD
       "H2O_cluster_name:           H2O_from_python_julialovgren_kjm3i4\n",
       "H2O_cluster_total_nodes:    1\n",
       "H2O_cluster_free_memory:    1022 Mb\n",
       "H2O_cluster_total_cores:    4\n",
       "H2O_cluster_allowed_cores:  4\n",
       "H2O_cluster_status:         locked, healthy\n",
       "H2O_connection_url:         http://localhost:54321\n",
       "H2O_connection_proxy:       {\"http\": null, \"https\": null}\n",
       "H2O_internal_security:      False\n",
       "Python_version:             3.9.5 final\n",
       "--------------------------  -----------------------------------"
=======
       "H2O_cluster_name:           H2O_from_python_paaske_rcki3a\n",
       "H2O_cluster_total_nodes:    1\n",
       "H2O_cluster_free_memory:    1.885 Gb\n",
       "H2O_cluster_total_cores:    8\n",
       "H2O_cluster_allowed_cores:  8\n",
       "H2O_cluster_status:         locked, healthy\n",
       "H2O_connection_url:         http://localhost:54321\n",
       "H2O_connection_proxy:       {\"http\": null, \"https\": null, \"no\": \"127.0.0.1\"}\n",
       "H2O_internal_security:      False\n",
       "Python_version:             3.8.10 final\n",
       "--------------------------  ------------------------------------------------"
>>>>>>> 744b942e7faacfaebb08192e705d0b6a5f84b99f
      ]
     },
     "metadata": {},
     "output_type": "display_data"
    }
   ],
   "source": [
    "# Import and init h2o lib. Running on java\n",
    "import h2o\n",
    "from h2o.automl import H2OAutoML\n",
    "import pandas as pd\n",
    "h2o.init()"
   ]
  },
  {
   "cell_type": "code",
<<<<<<< HEAD
   "execution_count": 6,
=======
   "execution_count": 34,
>>>>>>> 744b942e7faacfaebb08192e705d0b6a5f84b99f
   "metadata": {},
   "outputs": [
    {
     "name": "stdout",
     "output_type": "stream",
     "text": [
      "Parse progress: |████████████████████████████████████████████████████████████████| (done) 100%\n",
<<<<<<< HEAD
      "Parse progress: |████████████████████████████████████████████████████████████████| (done) 100%\n",
      "['store_id', 'chain_name', 'mall_name', 'revenue', 'lv1', 'lv2', 'lv3', 'total_nbr_people', 'nbr_people_per_store_in_grunnkrets', 'counts_gr_lv2', 'counts_municipality_lv2', 'busstops_within_50m', 'busstops_within_100m', 'busstops_within_400m', 'busstops_within_800m', 'busstops_within_1500m', 'num_stores_within_100m_and_same_lvl2', 'num_stores_within_500m_and_same_lvl2', 'num_stores_within_1km_and_same_lvl2', 'num_stores_within_5km_and_same_lvl2', 'num_stores_within_10km_and_same_lvl2', 'num_stores_within_20km_and_same_lvl2']\n",
      "['store_id', 'chain_name', 'mall_name', 'lv1', 'lv2', 'lv3', 'total_nbr_people', 'nbr_people_per_store_in_grunnkrets', 'counts_gr_lv2', 'counts_municipality_lv2', 'busstops_within_50m', 'busstops_within_100m', 'busstops_within_400m', 'busstops_within_800m', 'busstops_within_1500m', 'num_stores_within_100m_and_same_lvl2', 'num_stores_within_500m_and_same_lvl2', 'num_stores_within_1km_and_same_lvl2', 'num_stores_within_5km_and_same_lvl2', 'num_stores_within_10km_and_same_lvl2', 'num_stores_within_20km_and_same_lvl2']\n"
     ]
    },
    {
     "data": {
      "text/plain": [
       "{'store_id': 'string',\n",
       " 'chain_name': 'enum',\n",
       " 'mall_name': 'enum',\n",
       " 'revenue': 'real',\n",
       " 'lv1': 'int',\n",
       " 'lv2': 'real',\n",
       " 'lv3': 'time',\n",
       " 'total_nbr_people': 'int',\n",
       " 'nbr_people_per_store_in_grunnkrets': 'real',\n",
       " 'counts_gr_lv2': 'int',\n",
       " 'counts_municipality_lv2': 'int',\n",
       " 'busstops_within_50m': 'int',\n",
       " 'busstops_within_100m': 'int',\n",
       " 'busstops_within_400m': 'int',\n",
       " 'busstops_within_800m': 'int',\n",
       " 'busstops_within_1500m': 'int',\n",
       " 'num_stores_within_100m_and_same_lvl2': 'int',\n",
       " 'num_stores_within_500m_and_same_lvl2': 'int',\n",
       " 'num_stores_within_1km_and_same_lvl2': 'int',\n",
       " 'num_stores_within_5km_and_same_lvl2': 'int',\n",
       " 'num_stores_within_10km_and_same_lvl2': 'int',\n",
       " 'num_stores_within_20km_and_same_lvl2': 'int'}"
      ]
     },
     "execution_count": 6,
     "metadata": {},
     "output_type": "execute_result"
=======
      "Parse progress: |████████████████████████████████████████████████████████████████| (done) 100%\n"
     ]
>>>>>>> 744b942e7faacfaebb08192e705d0b6a5f84b99f
    }
   ],
   "source": [
    "# Reading csv to h2o dataframe file\n",
<<<<<<< HEAD
    "train_data = h2o.import_file('training_set_dropped.csv')\n",
    "test_data = h2o.import_file('testing_set_dropped.csv')\n",
    "\n",
    "print(list(train_data.columns))\n",
    "print(list(test_data.columns))\n",
    "\n",
    "train_data.types"
=======
<<<<<<< HEAD
    "df = h2o.import_file('feature_data/training_set_dropped.csv')\n",
    "df_test = h2o.import_file('feature_data/testing_set_dropped.csv')"
=======
    "df = h2o.import_file('training_set_dropped.csv')\n",
    "df_test = h2o.import_file('testing_set_dropped.csv')\n",
    "\n"
>>>>>>> acac1518284e3d3e0a70372c263d60ba54f5b2a6
>>>>>>> 744b942e7faacfaebb08192e705d0b6a5f84b99f
   ]
  },
  {
   "cell_type": "code",
<<<<<<< HEAD
   "execution_count": 5,
   "metadata": {},
   "outputs": [
    {
     "ename": "H2OValueError",
     "evalue": "Only 'int' or 'string' are allowed for asfactor(), got revenue:real ",
     "output_type": "error",
     "traceback": [
      "\u001b[0;31m---------------------------------------------------------------------------\u001b[0m",
      "\u001b[0;31mH2OValueError\u001b[0m                             Traceback (most recent call last)",
      "Cell \u001b[0;32mIn [5], line 5\u001b[0m\n\u001b[1;32m      3\u001b[0m train_data[\u001b[38;5;124m'\u001b[39m\u001b[38;5;124mchain_name\u001b[39m\u001b[38;5;124m'\u001b[39m] \u001b[38;5;241m=\u001b[39m train_data[\u001b[38;5;124m'\u001b[39m\u001b[38;5;124mchain_name\u001b[39m\u001b[38;5;124m'\u001b[39m]\u001b[38;5;241m.\u001b[39masfactor()\n\u001b[1;32m      4\u001b[0m train_data[\u001b[38;5;124m'\u001b[39m\u001b[38;5;124mmall_name\u001b[39m\u001b[38;5;124m'\u001b[39m] \u001b[38;5;241m=\u001b[39m train_data[\u001b[38;5;124m'\u001b[39m\u001b[38;5;124mmall_name\u001b[39m\u001b[38;5;124m'\u001b[39m]\u001b[38;5;241m.\u001b[39masfactor()\n\u001b[0;32m----> 5\u001b[0m train_data[\u001b[38;5;124m'\u001b[39m\u001b[38;5;124mrevenue\u001b[39m\u001b[38;5;124m'\u001b[39m] \u001b[38;5;241m=\u001b[39m train_data[\u001b[38;5;124m'\u001b[39m\u001b[38;5;124mrevenue\u001b[39m\u001b[38;5;124m'\u001b[39m]\u001b[38;5;241m.\u001b[39masfactor()\n\u001b[1;32m      6\u001b[0m train_data[\u001b[38;5;124m'\u001b[39m\u001b[38;5;124mlv1\u001b[39m\u001b[38;5;124m'\u001b[39m] \u001b[38;5;241m=\u001b[39m train_data[\u001b[38;5;124m'\u001b[39m\u001b[38;5;124mlv1\u001b[39m\u001b[38;5;124m'\u001b[39m]\u001b[38;5;241m.\u001b[39masfactor()\n\u001b[1;32m      7\u001b[0m train_data[\u001b[38;5;124m'\u001b[39m\u001b[38;5;124mlv2\u001b[39m\u001b[38;5;124m'\u001b[39m] \u001b[38;5;241m=\u001b[39m train_data[\u001b[38;5;124m'\u001b[39m\u001b[38;5;124mlv2\u001b[39m\u001b[38;5;124m'\u001b[39m]\u001b[38;5;241m.\u001b[39masfactor()\n",
      "File \u001b[0;32m/Library/Frameworks/Python.framework/Versions/3.9/lib/python3.9/site-packages/h2o/frame.py:3275\u001b[0m, in \u001b[0;36mH2OFrame.asfactor\u001b[0;34m(self)\u001b[0m\n\u001b[1;32m   3273\u001b[0m     t \u001b[39m=\u001b[39m \u001b[39mself\u001b[39m\u001b[39m.\u001b[39mtypes[colname]\n\u001b[1;32m   3274\u001b[0m     \u001b[39mif\u001b[39;00m t \u001b[39mnot\u001b[39;00m \u001b[39min\u001b[39;00m {\u001b[39m\"\u001b[39m\u001b[39mbool\u001b[39m\u001b[39m\"\u001b[39m, \u001b[39m\"\u001b[39m\u001b[39mint\u001b[39m\u001b[39m\"\u001b[39m, \u001b[39m\"\u001b[39m\u001b[39mstring\u001b[39m\u001b[39m\"\u001b[39m, \u001b[39m\"\u001b[39m\u001b[39menum\u001b[39m\u001b[39m\"\u001b[39m}:\n\u001b[0;32m-> 3275\u001b[0m         \u001b[39mraise\u001b[39;00m H2OValueError(\u001b[39m\"\u001b[39m\u001b[39mOnly \u001b[39m\u001b[39m'\u001b[39m\u001b[39mint\u001b[39m\u001b[39m'\u001b[39m\u001b[39m or \u001b[39m\u001b[39m'\u001b[39m\u001b[39mstring\u001b[39m\u001b[39m'\u001b[39m\u001b[39m are allowed for \u001b[39m\u001b[39m\"\u001b[39m\n\u001b[1;32m   3276\u001b[0m                             \u001b[39m\"\u001b[39m\u001b[39masfactor(), got \u001b[39m\u001b[39m%s\u001b[39;00m\u001b[39m:\u001b[39m\u001b[39m%s\u001b[39;00m\u001b[39m \u001b[39m\u001b[39m\"\u001b[39m \u001b[39m%\u001b[39m (colname, t))\n\u001b[1;32m   3277\u001b[0m fr \u001b[39m=\u001b[39m H2OFrame\u001b[39m.\u001b[39m_expr(expr\u001b[39m=\u001b[39mExprNode(\u001b[39m\"\u001b[39m\u001b[39mas.factor\u001b[39m\u001b[39m\"\u001b[39m, \u001b[39mself\u001b[39m), cache\u001b[39m=\u001b[39m\u001b[39mself\u001b[39m\u001b[39m.\u001b[39m_ex\u001b[39m.\u001b[39m_cache)\n\u001b[1;32m   3278\u001b[0m \u001b[39mif\u001b[39;00m fr\u001b[39m.\u001b[39m_ex\u001b[39m.\u001b[39m_cache\u001b[39m.\u001b[39mtypes_valid():\n",
      "\u001b[0;31mH2OValueError\u001b[0m: Only 'int' or 'string' are allowed for asfactor(), got revenue:real "
     ]
=======
   "execution_count": 35,
   "metadata": {},
   "outputs": [
    {
     "data": {
      "text/html": [
       "<pre style='margin: 1em 0 1em 0;'>Rows:12859\n",
       "Cols:22\n",
       "</pre>"
      ],
      "text/plain": [
       "Rows:12859\n",
       "Cols:22\n"
      ]
     },
     "metadata": {},
     "output_type": "display_data"
    },
    {
     "data": {
      "text/html": [
       "<table class='dataframe'>\n",
       "<thead>\n",
       "<tr><th>       </th><th>store_id                  </th><th>chain_name  </th><th>mall_name        </th><th>revenue           </th><th>lv1               </th><th>lv2               </th><th>lv3                </th><th>total_nbr_people  </th><th>nbr_people_per_store_in_grunnkrets  </th><th>counts_gr_lv2     </th><th>counts_municipality_lv2  </th><th>busstops_within_50m  </th><th>busstops_within_100m  </th><th>busstops_within_400m  </th><th>busstops_within_800m  </th><th>busstops_within_1500m  </th><th>num_stores_within_100m_and_same_lvl2  </th><th>num_stores_within_500m_and_same_lvl2  </th><th>num_stores_within_1km_and_same_lvl2  </th><th>num_stores_within_5km_and_same_lvl2  </th><th>num_stores_within_10km_and_same_lvl2  </th><th>num_stores_within_20km_and_same_lvl2  </th></tr>\n",
       "</thead>\n",
       "<tbody>\n",
       "<tr><td>type   </td><td>string                    </td><td>enum        </td><td>enum             </td><td>real              </td><td>int               </td><td>real              </td><td>time               </td><td>int               </td><td>real                                </td><td>int               </td><td>int                      </td><td>int                  </td><td>int                   </td><td>int                   </td><td>int                   </td><td>int                    </td><td>int                                   </td><td>int                                   </td><td>int                                  </td><td>int                                  </td><td>int                                   </td><td>int                                   </td></tr>\n",
       "<tr><td>mins   </td><td>NaN                       </td><td>            </td><td>                 </td><td>0.0               </td><td>1.0               </td><td>1.1               </td><td>3661000.0          </td><td>0.0               </td><td>0.0                                 </td><td>1.0               </td><td>1.0                      </td><td>0.0                  </td><td>0.0                   </td><td>0.0                   </td><td>0.0                   </td><td>0.0                    </td><td>0.0                                   </td><td>0.0                                   </td><td>0.0                                  </td><td>0.0                                  </td><td>0.0                                   </td><td>0.0                                   </td></tr>\n",
       "<tr><td>mean   </td><td>NaN                       </td><td>            </td><td>                 </td><td>1.588069686772245 </td><td>2.0091764522902293</td><td>2.403266194882964 </td><td>7473179.018586216  </td><td>715.2882805816907 </td><td>186.72175130258933                  </td><td>2.5979469632164265</td><td>48.14456800684334        </td><td>0.21401353137880072  </td><td>0.776032350882653     </td><td>6.814449024029845     </td><td>18.873473831557654    </td><td>48.027296057235866     </td><td>3.6802239676491038                    </td><td>29.646006687922963                    </td><td>61.25966249319568                    </td><td>242.23259973559453                   </td><td>370.68310132980724                    </td><td>577.8438447779748                     </td></tr>\n",
       "<tr><td>maxs   </td><td>NaN                       </td><td>            </td><td>                 </td><td>5.396346573717559 </td><td>3.0               </td><td>3.6               </td><td>11161000.0         </td><td>5993.0            </td><td>3318.0                              </td><td>28.0              </td><td>462.0                    </td><td>8.0                  </td><td>20.0                  </td><td>45.0                  </td><td>83.0                  </td><td>174.0                  </td><td>224.0                                 </td><td>1209.0                                </td><td>2119.0                               </td><td>5921.0                               </td><td>7805.0                                </td><td>10571.0                               </td></tr>\n",
       "<tr><td>sigma  </td><td>NaN                       </td><td>            </td><td>                 </td><td>1.0248924612107526</td><td>0.7069922302128979</td><td>0.8019643997177213</td><td>2577290.488826751  </td><td>637.2963374607231 </td><td>281.3128974727745                   </td><td>3.2602350389090935</td><td>101.77046899580586       </td><td>0.6047869113100005   </td><td>1.2903609400545484    </td><td>6.164901451442583     </td><td>15.198472157180156    </td><td>38.354211366681966     </td><td>13.734559709766398                    </td><td>111.22429117675397                    </td><td>244.40370230170672                   </td><td>983.6711943584247                    </td><td>1418.672080192667                     </td><td>2066.138664829181                     </td></tr>\n",
       "<tr><td>zeros  </td><td>0                         </td><td>            </td><td>                 </td><td>217               </td><td>0                 </td><td>0                 </td><td>0                  </td><td>805               </td><td>805                                 </td><td>0                 </td><td>0                        </td><td>10968                </td><td>7777                  </td><td>1355                  </td><td>384                   </td><td>167                    </td><td>10407                                 </td><td>10407                                 </td><td>10407                                </td><td>10407                                </td><td>10407                                 </td><td>10407                                 </td></tr>\n",
       "<tr><td>missing</td><td>0                         </td><td>0           </td><td>0                </td><td>0                 </td><td>0                 </td><td>0                 </td><td>0                  </td><td>0                 </td><td>0                                   </td><td>0                 </td><td>0                        </td><td>0                    </td><td>0                     </td><td>0                     </td><td>0                     </td><td>0                      </td><td>0                                     </td><td>0                                     </td><td>0                                    </td><td>0                                    </td><td>0                                     </td><td>0                                     </td></tr>\n",
       "<tr><td>0      </td><td>983540538-974187930-44774 </td><td>MCDONALDS   </td><td>Magasinet Drammen</td><td>2.9443337104679905</td><td>1.0               </td><td>1.1               </td><td>1970-01-01 01:01:01</td><td>157.0             </td><td>3.14                                </td><td>14.0              </td><td>46.0                     </td><td>0.0                  </td><td>0.0                   </td><td>0.0                   </td><td>14.0                  </td><td>51.0                   </td><td>30.0                                  </td><td>305.0                                 </td><td>430.0                                </td><td>846.0                                </td><td>1106.0                                </td><td>1943.0                                </td></tr>\n",
       "<tr><td>1      </td><td>987074191-973117734-44755 </td><td>MCDONALDS   </td><td>No mall          </td><td>3.2119720485514063</td><td>1.0               </td><td>1.1               </td><td>1970-01-01 01:01:01</td><td>0.0               </td><td>0.0                                 </td><td>28.0              </td><td>462.0                    </td><td>0.0                  </td><td>0.0                   </td><td>20.0                  </td><td>40.0                  </td><td>113.0                  </td><td>50.0                                  </td><td>559.0                                 </td><td>1764.0                               </td><td>5502.0                               </td><td>7594.0                                </td><td>10463.0                               </td></tr>\n",
       "<tr><td>2      </td><td>984890265-981157303-64491 </td><td>BURGER KING </td><td>Kuben Hønefoss   </td><td>2.839019982266456 </td><td>1.0               </td><td>1.1               </td><td>1970-01-01 01:01:01</td><td>372.0             </td><td>26.571428571428573                  </td><td>4.0               </td><td>17.0                     </td><td>1.0                  </td><td>1.0                   </td><td>9.0                   </td><td>16.0                  </td><td>34.0                   </td><td>77.0                                  </td><td>159.0                                 </td><td>187.0                                </td><td>273.0                                </td><td>305.0                                 </td><td>359.0                                 </td></tr>\n",
       "<tr><td>3      </td><td>914057442-992924179-126912</td><td>BURGER KING </td><td>Glasshuspassasjen</td><td>2.331755470293825 </td><td>1.0               </td><td>1.1               </td><td>1970-01-01 01:01:01</td><td>514.0             </td><td>10.936170212765957                  </td><td>8.0               </td><td>31.0                     </td><td>0.0                  </td><td>2.0                   </td><td>7.0                   </td><td>15.0                  </td><td>46.0                   </td><td>111.0                                 </td><td>252.0                                 </td><td>284.0                                </td><td>487.0                                </td><td>526.0                                 </td><td>544.0                                 </td></tr>\n",
       "<tr><td>4      </td><td>913018583-913063538-668469</td><td>BURGER KING </td><td>Tillertorget     </td><td>1.7098260864653687</td><td>1.0               </td><td>1.1               </td><td>1970-01-01 01:01:01</td><td>0.0               </td><td>0.0                                 </td><td>3.0               </td><td>98.0                     </td><td>0.0                  </td><td>0.0                   </td><td>14.0                  </td><td>40.0                  </td><td>98.0                   </td><td>28.0                                  </td><td>138.0                                 </td><td>173.0                                </td><td>422.0                                </td><td>1762.0                                </td><td>2040.0                                </td></tr>\n",
       "<tr><td>5      </td><td>998035295-979540094-54657 </td><td>BURGER KING </td><td>No mall          </td><td>2.566486636780423 </td><td>1.0               </td><td>1.1               </td><td>1970-01-01 01:01:01</td><td>183.0             </td><td>4.6923076923076925                  </td><td>18.0              </td><td>88.0                     </td><td>0.0                  </td><td>0.0                   </td><td>29.0                  </td><td>75.0                  </td><td>146.0                  </td><td>74.0                                  </td><td>518.0                                 </td><td>580.0                                </td><td>1121.0                               </td><td>1524.0                                </td><td>2450.0                                </td></tr>\n",
       "<tr><td>6      </td><td>916757433-916772262-822439</td><td>BURGER KING </td><td>Amfi Narvik      </td><td>2.154317076324943 </td><td>1.0               </td><td>1.1               </td><td>1970-01-01 01:01:01</td><td>279.0             </td><td>34.875                              </td><td>1.0               </td><td>12.0                     </td><td>0.0                  </td><td>0.0                   </td><td>12.0                  </td><td>36.0                  </td><td>67.0                   </td><td>39.0                                  </td><td>125.0                                 </td><td>193.0                                </td><td>217.0                                </td><td>218.0                                 </td><td>241.0                                 </td></tr>\n",
       "<tr><td>7      </td><td>913158733-913203305-675470</td><td>No chain    </td><td>No mall          </td><td>1.534714366238164 </td><td>1.0               </td><td>1.1               </td><td>1970-01-01 01:01:01</td><td>1465.0            </td><td>73.25                               </td><td>8.0               </td><td>14.0                     </td><td>0.0                  </td><td>4.0                   </td><td>9.0                   </td><td>20.0                  </td><td>56.0                   </td><td>9.0                                   </td><td>72.0                                  </td><td>185.0                                </td><td>253.0                                </td><td>268.0                                 </td><td>295.0                                 </td></tr>\n",
       "<tr><td>8      </td><td>982174139-982239737-14482 </td><td>MCDONALDS   </td><td>Åsane Storsenter </td><td>3.450431891539853 </td><td>1.0               </td><td>1.1               </td><td>1970-01-01 01:01:01</td><td>889.0             </td><td>74.08333333333333                   </td><td>1.0               </td><td>124.0                    </td><td>0.0                  </td><td>0.0                   </td><td>17.0                  </td><td>29.0                  </td><td>71.0                   </td><td>38.0                                  </td><td>168.0                                 </td><td>282.0                                </td><td>372.0                                </td><td>1885.0                                </td><td>3193.0                                </td></tr>\n",
       "<tr><td>9      </td><td>916217153-911834553-435311</td><td>BERGBYS     </td><td>No mall          </td><td>1.9932025935629256</td><td>1.0               </td><td>1.1               </td><td>1970-01-01 01:01:01</td><td>506.0             </td><td>253.0                               </td><td>1.0               </td><td>3.0                      </td><td>0.0                  </td><td>0.0                   </td><td>2.0                   </td><td>4.0                   </td><td>12.0                   </td><td>2.0                                   </td><td>34.0                                  </td><td>61.0                                 </td><td>137.0                                </td><td>141.0                                 </td><td>254.0                                 </td></tr>\n",
       "</tbody>\n",
       "</table><pre style='font-size: smaller; margin-bottom: 1em;'>[12859 rows x 22 columns]</pre>"
      ],
      "text/plain": [
       "         store_id                    chain_name    mall_name          revenue             lv1                 lv2                 lv3                  total_nbr_people    nbr_people_per_store_in_grunnkrets    counts_gr_lv2       counts_municipality_lv2    busstops_within_50m    busstops_within_100m    busstops_within_400m    busstops_within_800m    busstops_within_1500m    num_stores_within_100m_and_same_lvl2    num_stores_within_500m_and_same_lvl2    num_stores_within_1km_and_same_lvl2    num_stores_within_5km_and_same_lvl2    num_stores_within_10km_and_same_lvl2    num_stores_within_20km_and_same_lvl2\n",
       "-------  --------------------------  ------------  -----------------  ------------------  ------------------  ------------------  -------------------  ------------------  ------------------------------------  ------------------  -------------------------  ---------------------  ----------------------  ----------------------  ----------------------  -----------------------  --------------------------------------  --------------------------------------  -------------------------------------  -------------------------------------  --------------------------------------  --------------------------------------\n",
       "type     string                      enum          enum               real                int                 real                time                 int                 real                                  int                 int                        int                    int                     int                     int                     int                      int                                     int                                     int                                    int                                    int                                     int\n",
       "mins     NaN                                                          0.0                 1.0                 1.1                 3661000.0            0.0                 0.0                                   1.0                 1.0                        0.0                    0.0                     0.0                     0.0                     0.0                      0.0                                     0.0                                     0.0                                    0.0                                    0.0                                     0.0\n",
       "mean     NaN                                                          1.588069686772245   2.0091764522902293  2.403266194882964   7473179.018586216    715.2882805816907   186.72175130258933                    2.5979469632164265  48.14456800684334          0.21401353137880072    0.776032350882653       6.814449024029845       18.873473831557654      48.027296057235866       3.6802239676491038                      29.646006687922963                      61.25966249319568                      242.23259973559453                     370.68310132980724                      577.8438447779748\n",
       "maxs     NaN                                                          5.396346573717559   3.0                 3.6                 11161000.0           5993.0              3318.0                                28.0                462.0                      8.0                    20.0                    45.0                    83.0                    174.0                    224.0                                   1209.0                                  2119.0                                 5921.0                                 7805.0                                  10571.0\n",
       "sigma    NaN                                                          1.0248924612107526  0.7069922302128979  0.8019643997177213  2577290.488826751    637.2963374607231   281.3128974727745                     3.2602350389090935  101.77046899580586         0.6047869113100005     1.2903609400545484      6.164901451442583       15.198472157180156      38.354211366681966       13.734559709766398                      111.22429117675397                      244.40370230170672                     983.6711943584247                      1418.672080192667                       2066.138664829181\n",
       "zeros    0                                                            217                 0                   0                   0                    805                 805                                   0                   0                          10968                  7777                    1355                    384                     167                      10407                                   10407                                   10407                                  10407                                  10407                                   10407\n",
       "missing  0                           0             0                  0                   0                   0                   0                    0                   0                                     0                   0                          0                      0                       0                       0                       0                        0                                       0                                       0                                      0                                      0                                       0\n",
       "0        983540538-974187930-44774   MCDONALDS     Magasinet Drammen  2.9443337104679905  1.0                 1.1                 1970-01-01 01:01:01  157.0               3.14                                  14.0                46.0                       0.0                    0.0                     0.0                     14.0                    51.0                     30.0                                    305.0                                   430.0                                  846.0                                  1106.0                                  1943.0\n",
       "1        987074191-973117734-44755   MCDONALDS     No mall            3.2119720485514063  1.0                 1.1                 1970-01-01 01:01:01  0.0                 0.0                                   28.0                462.0                      0.0                    0.0                     20.0                    40.0                    113.0                    50.0                                    559.0                                   1764.0                                 5502.0                                 7594.0                                  10463.0\n",
       "2        984890265-981157303-64491   BURGER KING   Kuben Hønefoss     2.839019982266456   1.0                 1.1                 1970-01-01 01:01:01  372.0               26.571428571428573                    4.0                 17.0                       1.0                    1.0                     9.0                     16.0                    34.0                     77.0                                    159.0                                   187.0                                  273.0                                  305.0                                   359.0\n",
       "3        914057442-992924179-126912  BURGER KING   Glasshuspassasjen  2.331755470293825   1.0                 1.1                 1970-01-01 01:01:01  514.0               10.936170212765957                    8.0                 31.0                       0.0                    2.0                     7.0                     15.0                    46.0                     111.0                                   252.0                                   284.0                                  487.0                                  526.0                                   544.0\n",
       "4        913018583-913063538-668469  BURGER KING   Tillertorget       1.7098260864653687  1.0                 1.1                 1970-01-01 01:01:01  0.0                 0.0                                   3.0                 98.0                       0.0                    0.0                     14.0                    40.0                    98.0                     28.0                                    138.0                                   173.0                                  422.0                                  1762.0                                  2040.0\n",
       "5        998035295-979540094-54657   BURGER KING   No mall            2.566486636780423   1.0                 1.1                 1970-01-01 01:01:01  183.0               4.6923076923076925                    18.0                88.0                       0.0                    0.0                     29.0                    75.0                    146.0                    74.0                                    518.0                                   580.0                                  1121.0                                 1524.0                                  2450.0\n",
       "6        916757433-916772262-822439  BURGER KING   Amfi Narvik        2.154317076324943   1.0                 1.1                 1970-01-01 01:01:01  279.0               34.875                                1.0                 12.0                       0.0                    0.0                     12.0                    36.0                    67.0                     39.0                                    125.0                                   193.0                                  217.0                                  218.0                                   241.0\n",
       "7        913158733-913203305-675470  No chain      No mall            1.534714366238164   1.0                 1.1                 1970-01-01 01:01:01  1465.0              73.25                                 8.0                 14.0                       0.0                    4.0                     9.0                     20.0                    56.0                     9.0                                     72.0                                    185.0                                  253.0                                  268.0                                   295.0\n",
       "8        982174139-982239737-14482   MCDONALDS     Åsane Storsenter   3.450431891539853   1.0                 1.1                 1970-01-01 01:01:01  889.0               74.08333333333333                     1.0                 124.0                      0.0                    0.0                     17.0                    29.0                    71.0                     38.0                                    168.0                                   282.0                                  372.0                                  1885.0                                  3193.0\n",
       "9        916217153-911834553-435311  BERGBYS       No mall            1.9932025935629256  1.0                 1.1                 1970-01-01 01:01:01  506.0               253.0                                 1.0                 3.0                        0.0                    0.0                     2.0                     4.0                     12.0                     2.0                                     34.0                                    61.0                                   137.0                                  141.0                                   254.0\n",
       "[12859 rows x 22 columns]\n"
      ]
     },
     "metadata": {},
     "output_type": "display_data"
>>>>>>> 744b942e7faacfaebb08192e705d0b6a5f84b99f
    }
   ],
   "source": [
    "# Setting features as factor\n",
<<<<<<< HEAD
    "train_data['store_id'] = train_data['store_id'].asfactor()\n",
    "train_data['chain_name'] = train_data['chain_name'].asfactor()\n",
    "train_data['mall_name'] = train_data['mall_name'].asfactor()\n",
    "train_data['revenue'] = train_data['revenue'].asfactor()\n",
    "train_data['lv1'] = train_data['lv1'].asfactor()\n",
    "train_data['lv2'] = train_data['lv2'].asfactor()\n",
    "train_data['lv3'] = train_data['lv3'].asfactor()\n",
    "train_data['total_nbr_people'] = train_data['total_nbr_people'].asfactor()\n",
    "train_data['nbr_people_per_store_in_grunnkrets'] = train_data['nbr_people_per_store_in_grunnkrets'].asfactor()\n",
    "train_data['counts_gr_lv2'] = train_data['counts_gr_lv2'].asfactor()\n",
    "train_data['counts_municipality_lv2'] = train_data['counts_municipality_lv2'].asfactor()\n",
    "train_data['busstops_within_50m'] = train_data['busstops_within_50m'].asfactor()\n",
    "train_data['busstops_within_100m'] = train_data['busstops_within_100m'].asfactor()\n",
    "train_data['busstops_within_400m'] = train_data['busstops_within_400m'].asfactor()\n",
    "train_data['busstops_within_800m'] = train_data['busstops_within_800m'].asfactor()\n",
    "train_data['busstops_within_1500m'] = train_data['busstops_within_1500m'].asfactor()\n",
    "train_data['num_stores_within_100m_and_same_lvl2'] = train_data['num_stores_within_100m_and_same_lvl2'].asfactor()\n",
    "train_data['num_stores_within_500m_and_same_lvl2'] = train_data['num_stores_within_500m_and_same_lvl2'].asfactor()\n",
    "train_data['num_stores_within_1km_and_same_lvl2'] = train_data['num_stores_within_1km_and_same_lvl2'].asfactor()\n",
    "train_data['num_stores_within_5km_and_same_lvl2'] = train_data['num_stores_within_5km_and_same_lvl2'].asfactor()\n",
    "train_data['num_stores_within_10km_and_same_lvl2'] = train_data['num_stores_within_10km_and_same_lvl2'].asfactor()\n",
    "train_data['num_stores_within_20km_and_same_lvl2'] = train_data['num_stores_within_20km_and_same_lvl2'].asfactor()"
=======
    "df['chain_name'] = df['chain_name'].asfactor()\n",
    "df['mall_name'] = df['mall_name'].asfactor()\n",
    "\"\"\" df['lv1'] = df['lv1'].asfactor()\n",
    "df['lv2'] = df['lv2'].asfactor()\n",
    "df['lv3'] = df['lv3'].asfactor() \"\"\"\n",
    "df.describe()\n"
>>>>>>> 744b942e7faacfaebb08192e705d0b6a5f84b99f
   ]
  },
  {
   "cell_type": "code",
   "execution_count": 36,
   "metadata": {},
   "outputs": [
    {
     "ename": "H2OValueError",
     "evalue": "Only 'int' or 'string' are allowed for asfactor(), got lv2:real ",
     "output_type": "error",
     "traceback": [
      "\u001b[0;31m---------------------------------------------------------------------------\u001b[0m",
      "\u001b[0;31mH2OValueError\u001b[0m                             Traceback (most recent call last)",
      "\u001b[0;32m<ipython-input-36-f7fd63742a3c>\u001b[0m in \u001b[0;36m<module>\u001b[0;34m\u001b[0m\n\u001b[1;32m      3\u001b[0m \u001b[0mdf_test\u001b[0m\u001b[0;34m[\u001b[0m\u001b[0;34m'mall_name'\u001b[0m\u001b[0;34m]\u001b[0m \u001b[0;34m=\u001b[0m \u001b[0mdf_test\u001b[0m\u001b[0;34m[\u001b[0m\u001b[0;34m'mall_name'\u001b[0m\u001b[0;34m]\u001b[0m\u001b[0;34m.\u001b[0m\u001b[0masfactor\u001b[0m\u001b[0;34m(\u001b[0m\u001b[0;34m)\u001b[0m\u001b[0;34m\u001b[0m\u001b[0;34m\u001b[0m\u001b[0m\n\u001b[1;32m      4\u001b[0m \u001b[0mdf_test\u001b[0m\u001b[0;34m[\u001b[0m\u001b[0;34m'lv1'\u001b[0m\u001b[0;34m]\u001b[0m \u001b[0;34m=\u001b[0m \u001b[0mdf_test\u001b[0m\u001b[0;34m[\u001b[0m\u001b[0;34m'lv1'\u001b[0m\u001b[0;34m]\u001b[0m\u001b[0;34m.\u001b[0m\u001b[0masfactor\u001b[0m\u001b[0;34m(\u001b[0m\u001b[0;34m)\u001b[0m\u001b[0;34m\u001b[0m\u001b[0;34m\u001b[0m\u001b[0m\n\u001b[0;32m----> 5\u001b[0;31m \u001b[0mdf_test\u001b[0m\u001b[0;34m[\u001b[0m\u001b[0;34m'lv2'\u001b[0m\u001b[0;34m]\u001b[0m \u001b[0;34m=\u001b[0m \u001b[0mdf_test\u001b[0m\u001b[0;34m[\u001b[0m\u001b[0;34m'lv2'\u001b[0m\u001b[0;34m]\u001b[0m\u001b[0;34m.\u001b[0m\u001b[0masfactor\u001b[0m\u001b[0;34m(\u001b[0m\u001b[0;34m)\u001b[0m\u001b[0;34m\u001b[0m\u001b[0;34m\u001b[0m\u001b[0m\n\u001b[0m\u001b[1;32m      6\u001b[0m \u001b[0mdf_test\u001b[0m\u001b[0;34m[\u001b[0m\u001b[0;34m'lv3'\u001b[0m\u001b[0;34m]\u001b[0m \u001b[0;34m=\u001b[0m \u001b[0mdf_test\u001b[0m\u001b[0;34m[\u001b[0m\u001b[0;34m'lv3'\u001b[0m\u001b[0;34m]\u001b[0m\u001b[0;34m.\u001b[0m\u001b[0masfactor\u001b[0m\u001b[0;34m(\u001b[0m\u001b[0;34m)\u001b[0m\u001b[0;34m\u001b[0m\u001b[0;34m\u001b[0m\u001b[0m\n",
      "\u001b[0;32m~/.local/lib/python3.8/site-packages/h2o/frame.py\u001b[0m in \u001b[0;36masfactor\u001b[0;34m(self)\u001b[0m\n\u001b[1;32m   3273\u001b[0m             \u001b[0mt\u001b[0m \u001b[0;34m=\u001b[0m \u001b[0mself\u001b[0m\u001b[0;34m.\u001b[0m\u001b[0mtypes\u001b[0m\u001b[0;34m[\u001b[0m\u001b[0mcolname\u001b[0m\u001b[0;34m]\u001b[0m\u001b[0;34m\u001b[0m\u001b[0;34m\u001b[0m\u001b[0m\n\u001b[1;32m   3274\u001b[0m             \u001b[0;32mif\u001b[0m \u001b[0mt\u001b[0m \u001b[0;32mnot\u001b[0m \u001b[0;32min\u001b[0m \u001b[0;34m{\u001b[0m\u001b[0;34m\"bool\"\u001b[0m\u001b[0;34m,\u001b[0m \u001b[0;34m\"int\"\u001b[0m\u001b[0;34m,\u001b[0m \u001b[0;34m\"string\"\u001b[0m\u001b[0;34m,\u001b[0m \u001b[0;34m\"enum\"\u001b[0m\u001b[0;34m}\u001b[0m\u001b[0;34m:\u001b[0m\u001b[0;34m\u001b[0m\u001b[0;34m\u001b[0m\u001b[0m\n\u001b[0;32m-> 3275\u001b[0;31m                 raise H2OValueError(\"Only 'int' or 'string' are allowed for \"\n\u001b[0m\u001b[1;32m   3276\u001b[0m                                     \"asfactor(), got %s:%s \" % (colname, t))\n\u001b[1;32m   3277\u001b[0m         \u001b[0mfr\u001b[0m \u001b[0;34m=\u001b[0m \u001b[0mH2OFrame\u001b[0m\u001b[0;34m.\u001b[0m\u001b[0m_expr\u001b[0m\u001b[0;34m(\u001b[0m\u001b[0mexpr\u001b[0m\u001b[0;34m=\u001b[0m\u001b[0mExprNode\u001b[0m\u001b[0;34m(\u001b[0m\u001b[0;34m\"as.factor\"\u001b[0m\u001b[0;34m,\u001b[0m \u001b[0mself\u001b[0m\u001b[0;34m)\u001b[0m\u001b[0;34m,\u001b[0m \u001b[0mcache\u001b[0m\u001b[0;34m=\u001b[0m\u001b[0mself\u001b[0m\u001b[0;34m.\u001b[0m\u001b[0m_ex\u001b[0m\u001b[0;34m.\u001b[0m\u001b[0m_cache\u001b[0m\u001b[0;34m)\u001b[0m\u001b[0;34m\u001b[0m\u001b[0;34m\u001b[0m\u001b[0m\n",
      "\u001b[0;31mH2OValueError\u001b[0m: Only 'int' or 'string' are allowed for asfactor(), got lv2:real "
     ]
    }
   ],
   "source": [
<<<<<<< HEAD
    "test_data['store_id'] = test_data['store_id'].asfactor()\n",
    "test_data['chain_name'] = test_data['chain_name'].asfactor()\n",
    "test_data['mall_name'] = test_data['mall_name'].asfactor()\n",
    "test_data['lv1'] = test_data['lv1'].asfactor()\n",
    "test_data['lv2'] = test_data['lv2'].asfactor()\n",
    "test_data['lv3'] = test_data['lv3'].asfactor()\n",
    "test_data['total_nbr_people'] = test_data['total_nbr_people'].asfactor()\n",
    "test_data['nbr_people_per_store_in_grunnkrets'] = test_data['nbr_people_per_store_in_grunnkrets'].asfactor()\n",
    "test_data['counts_gr_lv2'] = test_data['counts_gr_lv2'].asfactor()\n",
    "test_data['counts_municipality_lv2'] = test_data['counts_municipality_lv2'].asfactor()\n",
    "test_data['busstops_within_50m'] = test_data['busstops_within_50m'].asfactor()\n",
    "test_data['busstops_within_100m'] = test_data['busstops_within_100m'].asfactor()\n",
    "test_data['busstops_within_400m'] = test_data['busstops_within_400m'].asfactor()\n",
    "test_data['busstops_within_800m'] = test_data['busstops_within_800m'].asfactor()\n",
    "test_data['busstops_within_1500m'] = test_data['busstops_within_1500m'].asfactor()\n",
    "test_data['num_stores_within_100m_and_same_lvl2'] = test_data['num_stores_within_100m_and_same_lvl2'].asfactor()\n",
    "test_data['num_stores_within_500m_and_same_lvl2'] = test_data['num_stores_within_500m_and_same_lvl2'].asfactor()\n",
    "test_data['num_stores_within_1km_and_same_lvl2'] = test_data['num_stores_within_1km_and_same_lvl2'].asfactor()\n",
    "test_data['num_stores_within_5km_and_same_lvl2'] = test_data['num_stores_within_5km_and_same_lvl2'].asfactor()\n",
    "test_data['num_stores_within_10km_and_same_lvl2'] = test_data['num_stores_within_10km_and_same_lvl2'].asfactor()\n",
    "test_data['num_stores_within_20km_and_same_lvl2'] = test_data['num_stores_within_20km_and_same_lvl2'].asfactor()"
=======
    "#df_test['revenue'] = df_test['revenue'].asfactor()\n",
    "df_test['chain_name'] = df_test['chain_name'].asfactor()\n",
    "df_test['mall_name'] = df_test['mall_name'].asfactor()\n",
    "df_test['lv1'] = df_test['lv1'].asfactor()\n",
    "df_test['lv2'] = df_test['lv2'].asfactor()\n",
    "df_test['lv3'] = df_test['lv3'].asfactor()\n"
>>>>>>> 744b942e7faacfaebb08192e705d0b6a5f84b99f
   ]
  },
  {
   "cell_type": "code",
   "execution_count": null,
   "metadata": {},
   "outputs": [],
   "source": [
    "# Removing labels from train set\n",
    "y = \"revenue\"\n",
<<<<<<< HEAD
    "x = train_data.columns\n",
=======
    "x = df.columns\n",
>>>>>>> 744b942e7faacfaebb08192e705d0b6a5f84b99f
    "x.remove(y)"
   ]
  },
  {
   "cell_type": "code",
   "execution_count": null,
   "metadata": {},
   "outputs": [],
   "source": [
    "# Running fit/training on train set with cross validation n=5\n",
    "aml = H2OAutoML(max_models = 10, seed = 1)\n",
    "aml.train(x = x, y = y, training_frame = train_data)"
   ]
  },
  {
   "cell_type": "code",
   "execution_count": null,
   "metadata": {},
   "outputs": [],
   "source": [
    "lb = aml.leaderboard"
   ]
  },
  {
   "cell_type": "code",
   "execution_count": null,
   "metadata": {},
   "outputs": [],
   "source": [
    "# Showing best perforimg models\n",
    "lb.head()"
   ]
  },
  {
   "cell_type": "code",
   "execution_count": null,
   "metadata": {},
   "outputs": [],
   "source": [
    "preds = aml.predict(test_data)"
   ]
  },
  {
   "cell_type": "code",
   "execution_count": null,
   "metadata": {},
   "outputs": [],
   "source": [
    "preds = h2o.as_list(preds)"
   ]
  },
  {
   "cell_type": "code",
   "execution_count": null,
   "metadata": {},
   "outputs": [],
   "source": [
    "# Convert result to desired format\n",
    "\n",
    "import pandas as pd\n",
    "predictions = preds\n",
    "\n",
    "predictions[\"sample_id\"] = predictions.index + 50000\n",
    "predictions[\"prediction_in_probability\"] = predictions[\"p1\"]\n",
    "predictions[[\"sample_id\", \"prediction_in_probability\"]].to_csv(\"predictions.txt\", index=False)"
   ]
  }
 ],
 "metadata": {
  "kernelspec": {
   "display_name": "Python 3.9.5 64-bit",
   "language": "python",
   "name": "python3"
  },
  "language_info": {
   "codemirror_mode": {
    "name": "ipython",
    "version": 3
   },
   "file_extension": ".py",
   "mimetype": "text/x-python",
   "name": "python",
   "nbconvert_exporter": "python",
   "pygments_lexer": "ipython3",
   "version": "3.9.5"
  },
  "orig_nbformat": 4,
  "vscode": {
   "interpreter": {
    "hash": "aee8b7b246df8f9039afb4144a1f6fd8d2ca17a180786b69acc140d282b71a49"
   }
  }
 },
 "nbformat": 4,
 "nbformat_minor": 2
}
