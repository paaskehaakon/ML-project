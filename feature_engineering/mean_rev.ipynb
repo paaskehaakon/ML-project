{
 "cells": [
  {
   "cell_type": "code",
   "execution_count": 22,
   "metadata": {},
   "outputs": [
    {
     "name": "stderr",
     "output_type": "stream",
     "text": [
      "/Library/Frameworks/Python.framework/Versions/3.9/lib/python3.9/site-packages/pandas/core/dtypes/cast.py:128: ShapelyDeprecationWarning: The array interface is deprecated and will no longer work in Shapely 2.0. Convert the '.coords' to a numpy array instead.\n",
      "  arr = construct_1d_object_array_from_listlike(values)\n"
     ]
    },
    {
     "data": {
      "text/plain": [
       "0    POINT (59.743104058362704 10.204927885979)\n",
       "1     POINT (59.9137594158249 10.7340307646896)\n",
       "2     POINT (60.1647505705996 10.2546558936519)\n",
       "3     POINT (67.28366871498261 14.379796237766)\n",
       "4     POINT (63.3580678289847 10.3748324689957)\n",
       "Name: geometry, dtype: object"
      ]
     },
     "execution_count": 22,
     "metadata": {},
     "output_type": "execute_result"
    }
   ],
   "source": [
    "import pandas as pd\n",
    "import numpy as np\n",
    "from dis import dis\n",
    "import math\n",
    "import geopandas as gpd\n",
    "import pandas as pd\n",
    "import numpy\n",
    "from shapely import wkt\n",
    "from shapely import wkb\n",
    "from shapely.geometry import Point\n",
    "\n",
    "modified = pd.read_csv('../data/modified_data.csv')\n",
    "modified['geometry'] = [Point(xy) for xy in zip(modified.lat, modified.lon)]\n",
    "#modified[]\n",
    "#modified['geometry'] = modified['geometry'].replace(' POINT ', 'POINT')\n",
    "\n",
    "\n",
    "grunnkrets_stripped = pd.read_csv('../data/grunnkrets_norway_stripped.csv')\n",
    "busstops = pd.read_csv('../data/busstops_norway.csv')\n",
    "bs = busstops\n",
    "\n",
    "df = modified\n",
    "\n",
    "\n",
    "def dist(lat, lon, df): \n",
    "    lat1 = abs(df['lat'] - lat)\n",
    "    lon1 = abs(df['lon'] - lon)\n",
    "    eucdist = np.sqrt(lon1**2 + lat1**2)\n",
    "    print(type(eucdist))\n",
    "    return eucdist\n",
    "\n",
    "\n",
    "modified['geometry'].head()"
   ]
  },
  {
   "cell_type": "code",
   "execution_count": null,
   "metadata": {},
   "outputs": [],
   "source": [
    "import geopandas as gpd\n",
    "import shapely.geometry\n",
    "from shapely.geometry import Point\n",
    "import pandas as pd\n",
    "def dist_to_all_meter(lat, lon, data):\n",
    "    gdb = gpd.GeoDataFrame(\n",
    "        geometry=gpd.GeoSeries.from_wkt(\n",
    "            data[\"geometry\"],\n",
    "            crs=\"epsg:4386\",\n",
    "        )\n",
    "    )\n",
    "    point = Point(lat, lon)\n",
    "    gdb[\"distance\"] = gdb.to_crs(gdb.estimate_utm_crs())[\"geometry\"].distance(\n",
    "        gpd.GeoSeries([point for _ in range(len(gdb))], crs=gdb.crs).to_crs(\n",
    "            gdb.estimate_utm_crs()\n",
    "        )\n",
    "    ) \n",
    "    return gdb\n",
    "dist_to_all_meter(50, 10, modified)\n",
    "\n"
   ]
  },
  {
   "cell_type": "code",
   "execution_count": null,
   "metadata": {},
   "outputs": [],
   "source": [
    "bs.dtypes"
   ]
  },
  {
   "cell_type": "code",
   "execution_count": null,
   "metadata": {},
   "outputs": [],
   "source": [
    "\n",
    "def store_dist_lvl(distance):\n",
    "    distance = 10\n",
    "    df['num_stores_within_distance_and_same_lvl1'] = 0\n",
    "    df['num_stores_within_distance_and_same_lvl2'] = 0\n",
    "    df['num_stores_within_distance'] = 0\n",
    "    num = 0 \n",
    "\n",
    "    for index in range(len(df)):\n",
    "        lat = df._get_value(index,'lat')\n",
    "        lon = df._get_value(index,'lon')\n",
    "        lvl1 = df._get_value(index, 'lv1')\n",
    "        lvl2 = df._get_value(index, 'lv2')\n",
    "        dist_to_all = dist(lat, lon, df)\n",
    "\n",
    "        count_distance_and_lvl1 = 0 \n",
    "        count_distance_and_lvl2 = 0 \n",
    "        count_distance = 0 #only for distance\n",
    "        iter = 0\n",
    "        \n",
    "        for number in dist_to_all:\n",
    "            if number < distance:\n",
    "                count_distance += 1\n",
    "                if lvl1 == df._get_value(iter, 'lv1'):\n",
    "                    count_distance_and_lvl1 += 1\n",
    "                    if lvl2 == df._get_value(iter, 'lv2'):\n",
    "                        count_distance_and_lvl2 += 1\n",
    "            iter += 1\n",
    "\n",
    "        df._set_value(index, 'num_stores_within_distance_and_same_lvl1', count_distance_and_lvl1)\n",
    "        df._set_value(index, 'num_stores_within_distance_and_same_lvl2', count_distance_and_lvl2)\n",
    "        df._set_value(index, 'num_stores_within_distance', count_distance)\n",
    "\n",
    "        num+=1 #for runtime tracking only\n",
    "        print(str(num) + \"/12860\")\n"
   ]
  },
  {
   "cell_type": "code",
   "execution_count": null,
   "metadata": {},
   "outputs": [],
   "source": [
    "def num_busstops_wihin_distance_x(x):\n",
    "    #busstops['geometry'] = gpd.GeoSeries.from_wkt(busstops['geometry'])\n",
    "    busstops['lon'] = busstops.geometry.apply(lambda x: x.x)\n",
    "    busstops['lat'] = busstops.geometry.apply(lambda x: x.y)\n",
    "    df['num_busstops_within_distance'] = 0\n",
    "\n",
    "    for index in range(len(df)):\n",
    "        one_to_all = dist(df._get_value(index, 'lat'), df._get_value(index, 'lon'), busstops)\n",
    "        one_to_all = one_to_all.to_frame()\n",
    "        one_to_all.rename( columns={0 :'a'}, inplace=True)\n",
    "        count = (one_to_all['a'] > x).sum()\n",
    "        df._set_value(index, 'num_busstops_within_distance', count)\n",
    "    \n",
    "\n",
    "\n"
   ]
  },
  {
   "cell_type": "code",
   "execution_count": null,
   "metadata": {},
   "outputs": [],
   "source": [
    "\n"
   ]
  },
  {
   "cell_type": "code",
   "execution_count": null,
   "metadata": {},
   "outputs": [],
   "source": [
    "store_dist_lvl(0.1)"
   ]
  },
  {
   "cell_type": "code",
   "execution_count": null,
   "metadata": {},
   "outputs": [],
   "source": [
    "num_busstops_wihin_distance_x(0.1)"
   ]
  },
  {
   "cell_type": "code",
   "execution_count": null,
   "metadata": {},
   "outputs": [],
   "source": [
    "df.to_csv('test.csv')\n",
    "df.head()"
   ]
  },
  {
   "cell_type": "code",
   "execution_count": null,
   "metadata": {},
   "outputs": [],
   "source": []
  },
  {
   "cell_type": "code",
   "execution_count": null,
   "metadata": {},
   "outputs": [],
   "source": []
  },
  {
   "cell_type": "code",
   "execution_count": null,
   "metadata": {},
   "outputs": [],
   "source": [
    "\n"
   ]
  }
 ],
 "metadata": {
  "kernelspec": {
   "display_name": "Python 3.9.5 64-bit",
   "language": "python",
   "name": "python3"
  },
  "language_info": {
   "codemirror_mode": {
    "name": "ipython",
    "version": 3
   },
   "file_extension": ".py",
   "mimetype": "text/x-python",
   "name": "python",
   "nbconvert_exporter": "python",
   "pygments_lexer": "ipython3",
   "version": "3.9.5"
  },
  "orig_nbformat": 4,
  "vscode": {
   "interpreter": {
    "hash": "aee8b7b246df8f9039afb4144a1f6fd8d2ca17a180786b69acc140d282b71a49"
   }
  }
 },
 "nbformat": 4,
 "nbformat_minor": 2
}
