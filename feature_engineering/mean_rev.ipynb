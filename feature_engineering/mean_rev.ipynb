{
 "cells": [
  {
   "cell_type": "code",
   "execution_count": null,
   "metadata": {},
   "outputs": [],
   "source": [
    "import pandas as pd\n",
    "import numpy as np\n",
    "from dis import dis\n",
    "import math\n",
    "import geopandas as gpd\n",
    "import pandas as pd\n",
    "import numpy\n",
    "from shapely import wkt\n",
    "from shapely import wkb\n",
    "from shapely.geometry import Point\n",
    "from geopandas import GeoDataFrame\n",
    "\n",
    "modified = pd.read_csv('../data/modified_data.csv')\n",
    "modified_test = pd.read_csv('../data/modified_test_data.csv')\n",
    "\n",
    "# For train set\n",
    "geometry_train = [Point(xy) for xy in zip(modified.lat, modified.lon)]\n",
    "#modified = modified.drop(['lon', 'lat'], axis=1)\n",
    "gdf_train = GeoDataFrame(modified, crs=\"EPSG:4326\", geometry=geometry_train)\n",
    "\n",
    "# For test set\n",
    "geometry_test = [Point(xy) for xy in zip(modified_test.lat, modified_test.lon)]\n",
    "#modified = modified.drop(['lon', 'lat'], axis=1)\n",
    "gdf_test = GeoDataFrame(modified_test, crs=\"EPSG:4326\", geometry=geometry_test)\n",
    "\n",
    "#modified['geometry'] = [Point(xy) for xy in zip(modified.lat, modified.lon)]\n",
    "#modified[]\n",
    "#modified['geometry'] = modified['geometry'].replace(' POINT ', 'POINT')\n",
    "\n",
    "\n",
    "grunnkrets_stripped = pd.read_csv('../data/grunnkrets_norway_stripped.csv')\n",
    "busstops = pd.read_csv('../data/busstops_norway.csv')\n",
    "bs = busstops\n",
    "\n",
    "df_train = gdf_train\n",
    "df_test = gdf_test\n",
    "\n",
    "\n",
    "# def dist(lat, lon, df): \n",
    "#     lat1 = abs(df['lat'] - lat)\n",
    "#     lon1 = abs(df['lon'] - lon)\n",
    "#     eucdist = np.sqrt(lon1**2 + lat1**2)\n",
    "#     print(type(eucdist))\n",
    "#     return eucdist\n"
   ]
  },
  {
   "cell_type": "code",
   "execution_count": null,
   "metadata": {},
   "outputs": [],
   "source": [
    "# Calculate distance between points in meters, https://math.stackexchange.com/questions/29157/how-do-i-convert-the-distance-between-two-lat-long-points-into-feet-meters\n",
    "def dist_to_all_km(lat, lon, df):\n",
    "\n",
    "    # coordinates in radians\n",
    "    lat1 = lat*math.pi/180\n",
    "    lon1 = lon*math.pi/180\n",
    "    lat2 = df['lat']*math.pi/180 # go through whole lat column\n",
    "    lon2 = df['lon']*math.pi/180 # go through whole lon column\n",
    "\n",
    "    # store original coordinates in new dataframe\n",
    "    distances = pd.DataFrame()\n",
    "    distances['lat'] = df['lat'].copy()\n",
    "    distances['lon'] = df['lon'].copy()\n",
    "\n",
    "    # calculate cartesian coordinates\n",
    "    R = 6371 # Earth radius in km\n",
    "    df['x'] = R*np.cos(lat2)*np.cos(lon2)\n",
    "    df['y'] = R*np.cos(lat2)*np.sin(lon2)\n",
    "    df['z'] = R*np.sin(lat2)\n",
    "    x1 = R*np.cos(lat1)*np.cos(lon1)\n",
    "    y1 = R*np.cos(lat1)*np.sin(lon1)\n",
    "    z1 = R*np.sin(lat1)\n",
    "\n",
    "    # calculate distance, store as new column in the distances dataframe\n",
    "    distances['dist'] = np.sqrt(np.square(df['x']-x1)+np.square(df['y']-y1)+np.square(df['z']-z1))\n",
    "\n",
    "    return distances['dist'].squeeze()\n"
   ]
  },
  {
   "cell_type": "code",
   "execution_count": null,
   "metadata": {},
   "outputs": [],
   "source": [
    "# import geopandas as gpd\n",
    "# import shapely.geometry\n",
    "# from shapely.geometry import Point\n",
    "# import pandas as pd\n",
    "# def dist_to_all_meter(lat, lon, data):\n",
    "#     gdb = gpd.GeoDataFrame(\n",
    "#         geometry=gpd.GeoSeries.from_wkt(\n",
    "#             data[\"geometry\"],\n",
    "#             crs=\"epsg:4386\",\n",
    "#         )\n",
    "#     )\n",
    "#     point = Point(lat, lon)\n",
    "#     gdb[\"distance\"] = gdb.to_crs(gdb.estimate_utm_crs())[\"geometry\"].distance(\n",
    "#         gpd.GeoSeries([point for _ in range(len(gdb))], crs=gdb.crs).to_crs(\n",
    "#             gdb.estimate_utm_crs()\n",
    "#         )\n",
    "#     ) \n",
    "#     return gdb\n",
    "# dist_to_all_meter(50, 10, modified)\n",
    "\n"
   ]
  },
  {
   "cell_type": "code",
   "execution_count": null,
   "metadata": {},
   "outputs": [],
   "source": [
    "\n",
    "def store_dist_lvl(distance, df): # enter distance in km\n",
    "    #distance = 10\n",
    "    df['num_stores_within_distance_and_same_lvl1'] = 0\n",
    "    df['num_stores_within_distance_and_same_lvl2'] = 0\n",
    "    df['num_stores_within_distance'] = 0\n",
    "    num = 0 \n",
    "\n",
    "    for index in range(len(df)):\n",
    "        lat = df._get_value(index,'lat')\n",
    "        lon = df._get_value(index,'lon')\n",
    "        lvl1 = df._get_value(index, 'lv1')\n",
    "        lvl2 = df._get_value(index, 'lv2')\n",
    "        dist_to_all = dist_to_all_km(lat, lon, df)\n",
    "\n",
    "        count_distance_and_lvl1 = 0 \n",
    "        count_distance_and_lvl2 = 0 \n",
    "        count_distance = 0 #only for distance\n",
    "        iter = 0\n",
    "        \n",
    "        for number in dist_to_all:\n",
    "            if number < distance:\n",
    "                count_distance += 1\n",
    "                if lvl1 == df._get_value(iter, 'lv1'):\n",
    "                    count_distance_and_lvl1 += 1\n",
    "                    if lvl2 == df._get_value(iter, 'lv2'):\n",
    "                        count_distance_and_lvl2 += 1\n",
    "            iter += 1\n",
    "\n",
    "        df._set_value(index, 'num_stores_within_distance_and_same_lvl1', count_distance_and_lvl1-1)\n",
    "        df._set_value(index, 'num_stores_within_distance_and_same_lvl2', count_distance_and_lvl2-1)\n",
    "        df._set_value(index, 'num_stores_within_distance', count_distance-1)\n",
    "\n",
    "        num+=1 #for runtime tracking only\n",
    "        print(str(num) + \"/12860\")\n"
   ]
  },
  {
   "cell_type": "code",
   "execution_count": null,
   "metadata": {},
   "outputs": [],
   "source": [
    "def num_busstops_wihin_distance_x(x, df): # enter x in km\n",
    "    #busstops['geometry'] = gpd.GeoSeries.from_wkt(busstops['geometry'])\n",
    "    busstops['lon'] = busstops.geometry.apply(lambda x: x.x)\n",
    "    busstops['lat'] = busstops.geometry.apply(lambda x: x.y)\n",
    "    df['num_busstops_within_distance'] = 0\n",
    "\n",
    "    for index in range(len(df)):\n",
    "        one_to_all = dist_to_all_km(df._get_value(index, 'lat'), df._get_value(index, 'lon'), busstops)\n",
    "        one_to_all = one_to_all.to_frame()\n",
    "        one_to_all.rename( columns={0 :'a'}, inplace=True)\n",
    "        count = (one_to_all['a'] > x).sum()\n",
    "        df._set_value(index, 'num_busstops_within_distance', count)\n",
    "    \n",
    "\n",
    "\n"
   ]
  },
  {
   "cell_type": "code",
   "execution_count": null,
   "metadata": {},
   "outputs": [],
   "source": [
    "\n"
   ]
  },
  {
   "cell_type": "code",
   "execution_count": null,
   "metadata": {},
   "outputs": [],
   "source": [
    "store_dist_lvl(1, df_train)"
   ]
  },
  {
   "cell_type": "code",
   "execution_count": null,
   "metadata": {},
   "outputs": [],
   "source": [
    "store_dist_lvl(1, df_test)"
   ]
  },
  {
   "cell_type": "code",
   "execution_count": null,
   "metadata": {},
   "outputs": [],
   "source": [
    "#num_busstops_wihin_distance_x(1)"
   ]
  },
  {
   "cell_type": "code",
   "execution_count": null,
   "metadata": {},
   "outputs": [],
   "source": [
    "df_train = df_train.drop(columns=df_train.columns[0], axis=1)\n",
    "df_train = df_train.drop(['grunnkrets_id'], axis=1)\n",
    "df_train = df_train.drop(['x'], axis=1)\n",
    "df_train = df_train.drop(['y'], axis=1)\n",
    "df_train = df_train.drop(['z'], axis=1)\n",
    "df_train = df_train.drop(['lat'], axis=1)\n",
    "df_train = df_train.drop(['lon'], axis=1)\n",
    "df_train = df_train.drop(['geometry'], axis=1)\n",
    "\n",
    "# For test\n",
    "df_test = df_test.drop(columns=df_test.columns[0], axis=1)\n",
    "df_test = df_test.drop(['grunnkrets_id'], axis=1)\n",
    "df_test = df_test.drop(['x'], axis=1)\n",
    "df_test = df_test.drop(['y'], axis=1)\n",
    "df_test = df_test.drop(['z'], axis=1)\n",
    "df_test = df_test.drop(['lat'], axis=1)\n",
    "df_test = df_test.drop(['lon'], axis=1)\n",
    "df_test = df_test.drop(['geometry'], axis=1)\n",
    "\n",
    "col_at_end = ['revenue']\n",
    "df_train = df_train[[c for c in df_train if c not in col_at_end] + [c for c in col_at_end if c in df_train]]\n",
    "\n",
    "df_train.to_csv('train_set.csv', index=False)\n",
    "df_test.to_csv('test_set.csv', index=False)\n",
    "df_test.head()"
   ]
  },
  {
   "cell_type": "code",
   "execution_count": null,
   "metadata": {},
   "outputs": [],
   "source": []
  },
  {
   "cell_type": "code",
   "execution_count": null,
   "metadata": {},
   "outputs": [],
   "source": []
  },
  {
   "cell_type": "code",
   "execution_count": null,
   "metadata": {},
   "outputs": [],
   "source": [
    "\n"
   ]
  }
 ],
 "metadata": {
  "kernelspec": {
   "display_name": "Python 3.9.5 64-bit",
   "language": "python",
   "name": "python3"
  },
  "language_info": {
   "codemirror_mode": {
    "name": "ipython",
    "version": 3
   },
   "file_extension": ".py",
   "mimetype": "text/x-python",
   "name": "python",
   "nbconvert_exporter": "python",
   "pygments_lexer": "ipython3",
   "version": "3.9.5"
  },
  "orig_nbformat": 4,
  "vscode": {
   "interpreter": {
    "hash": "aee8b7b246df8f9039afb4144a1f6fd8d2ca17a180786b69acc140d282b71a49"
   }
  }
 },
 "nbformat": 4,
 "nbformat_minor": 2
}
