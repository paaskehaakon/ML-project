{
 "cells": [
  {
   "cell_type": "code",
   "execution_count": null,
   "metadata": {},
   "outputs": [],
   "source": [
    "import pandas as pd\n",
    "import numpy as np\n",
    "from sklearn.neighbors import BallTree\n",
    "import random\n",
    "\n",
    "n = 12860 #number of records in file\n",
    "s = 50 #desired sample size\n",
    "skip = sorted(random.sample(range(n),n-s))\n",
    "\n",
    "\n",
    "train_data = pd.read_csv('../data/stores_train.csv', nrows= 50)\n",
    "train_data['num_stores_within_distance'] = 0\n",
    "import numpy as np\n",
    "from sklearn.neighbors import BallTree\n",
    "\n",
    "##coordiante = train_data.loc[train_data['lat'], train_data['lon'], train_data['plaace_hierarchy_id']]\n",
    "#coordinate = train_data[['lon', 'lat', 'plaace_hierarchy_id']]\n",
    "#coordinate['id1'] = coordinate['plaace_hierarchy_id'].apply(lambda x: int(x[0]))\n",
    "#coordinate['id2'] = coordinate['plaace_hierarchy_id'].apply(lambda x: int(x[2]))\n",
    "#coordinate['id3'] = coordinate['plaace_hierarchy_id'].apply(lambda x: int(x[4]))\n",
    "#coordinate['id4'] = coordinate['plaace_hierarchy_id'].apply(lambda x: int(x[6]))\n",
    "#df = coordinate[['lon', 'lat', 'id1', 'id2', 'id3', 'id4']]\n",
    "#\n",
    "#\n",
    "#tree = BallTree(df, leaf_size=2)\n",
    "#df = tree.query_radius(df.groupby(['id1']), r=0.3, count_only=True)\n",
    "#\n",
    "#df.head(50)\n",
    "\n",
    "\n",
    "\n",
    "#train_data['num_stores_within_distance'] = 0\n",
    "#for index in range(len(train_data)):\n",
    "#    lvl1 = train_data._get_value(index,'lv2')\n",
    "#    lat1 = train_data._get_value(index,'lat')\n",
    "#    lon1 = train_data._get_value(index,'lon')\n",
    "#    count = 0\n",
    "#    for inx in range(len(train_data)):\n",
    "#        lvl2 = train_data._get_value(inx,'lv2')\n",
    "#        lat2 = train_data._get_value(inx,'lat')\n",
    "#        lon2 = train_data._get_value(inx,'lon')\n",
    "#        try:\n",
    "#            dist = geopy.distance.geodesic((lat1, lon1), (lat2, lon2)).km #some values have nan in them. must be fixed. \n",
    "## Number of stores in same lv2 in each municipality\n",
    "#nbr_in_municipality = train_data[[\"store_id\",\"municipality_name\", \"lv2\"]].groupby(\n",
    "#    [\"municipality_name\", \"lv2\"]\n",
    "#).count().reset_index()\n",
    "#nbr_in_municipality.columns = [\"grunnkrets_id\", \"lv2\", \"counts_gr_lv2\"]\n",
    "#train_data.merge(counts, how=\"left\", on=[\"grunnkrets_id\", \"lv2\"])\n",
    "\n"
   ]
  },
  {
   "cell_type": "code",
   "execution_count": null,
   "metadata": {},
   "outputs": [],
   "source": [
    "\n",
    "        "
   ]
  },
  {
   "cell_type": "code",
   "execution_count": null,
   "metadata": {},
   "outputs": [],
   "source": [
    "import pandas as pd\n",
    "\n",
    "spd = pd.read_csv('../data/stores_train.csv')\n",
    "spd.head()"
   ]
  }
 ],
 "metadata": {
  "kernelspec": {
   "display_name": "Python 3.8.10 64-bit",
   "language": "python",
   "name": "python3"
  },
  "language_info": {
   "codemirror_mode": {
    "name": "ipython",
    "version": 3
   },
   "file_extension": ".py",
   "mimetype": "text/x-python",
   "name": "python",
   "nbconvert_exporter": "python",
   "pygments_lexer": "ipython3",
   "version": "3.8.10"
  },
  "orig_nbformat": 4,
  "vscode": {
   "interpreter": {
    "hash": "916dbcbb3f70747c44a77c7bcd40155683ae19c65e1c03b4aa3499c5328201f1"
   }
  }
 },
 "nbformat": 4,
 "nbformat_minor": 2
}
