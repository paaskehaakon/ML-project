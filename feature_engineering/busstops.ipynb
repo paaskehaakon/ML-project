{
 "cells": [
  {
   "cell_type": "code",
   "execution_count": 1,
   "metadata": {},
   "outputs": [],
   "source": [
    "import pandas as pd \n",
    "import numpy as np\n",
    "import math \n",
    "import geopandas as gpd\n",
    "\n",
    "\n",
    "train_data = pd.read_csv('data/stores_train.csv')\n",
    "buss_data = pd.read_csv('data/busstops_norway.csv')\n",
    "\n",
    "def dist_to_all_km(lat, lon, df):\n",
    "\n",
    "    # coordinates in radians\n",
    "    lat1 = lat*math.pi/180\n",
    "    lon1 = lon*math.pi/180\n",
    "    lat2 = df['lat']*math.pi/180 # go through whole lat column\n",
    "    lon2 = df['lon']*math.pi/180 # go through whole lon column\n",
    "\n",
    "    # store original coordinates in new dataframe\n",
    "    distances = pd.DataFrame()\n",
    "    distances['lat'] = df['lat'].copy()\n",
    "    distances['lon'] = df['lon'].copy()\n",
    "\n",
    "    # calculate cartesian coordinates\n",
    "    R = 6371 # Earth radius in km\n",
    "    df['x'] = R*np.cos(lat2)*np.cos(lon2)\n",
    "    df['y'] = R*np.cos(lat2)*np.sin(lon2)\n",
    "    df['z'] = R*np.sin(lat2)\n",
    "    x1 = R*np.cos(lat1)*np.cos(lon1)\n",
    "    y1 = R*np.cos(lat1)*np.sin(lon1)\n",
    "    z1 = R*np.sin(lat1)\n",
    "\n",
    "    # calculate distance, store as new column in the distances dataframe\n",
    "    distances['dist'] = np.sqrt(np.square(df['x']-x1)+np.square(df['y']-y1)+np.square(df['z']-z1))\n",
    "\n",
    "    return distances['dist'].squeeze()"
   ]
  },
  {
   "cell_type": "code",
   "execution_count": null,
   "metadata": {},
   "outputs": [],
   "source": [
    "\n",
    "def busstops_within_range(train_data):\n",
    "    train_data['busstops_within_50m'] = 0\n",
    "    train_data['busstops_within_100m'] = 0\n",
    "    train_data['busstops_within_400m'] = 0\n",
    "    train_data['busstops_within_800m'] = 0\n",
    "    train_data['busstops_within_1500m'] = 0\n",
    "    iter = 0\n",
    "\n",
    "    for index in range(len(train_data)):\n",
    "        one_to_all = dist_to_all_km(train_data._get_value(index, 'lat'), train_data._get_value(index, 'lon'), buss_data)\n",
    "        one_to_all = one_to_all.to_frame()\n",
    "        one_to_all.rename( columns={0 :'a'}, inplace=True)\n",
    "        count50 = (one_to_all < 0.05).sum()\n",
    "        count100 = (one_to_all < 0.1).sum()\n",
    "        count400 = (one_to_all < 0.4).sum()\n",
    "        count800 = (one_to_all < 0.8).sum()\n",
    "        count1500 = (one_to_all < 1.5).sum()\n",
    "        iter += 1\n",
    "        print(iter)\n",
    "        train_data._set_value(index, 'busstops_within_50m', count50)\n",
    "        train_data._set_value(index, 'busstops_within_100m', count100)\n",
    "        train_data._set_value(index, 'busstops_within_400m', count400)\n",
    "        train_data._set_value(index, 'busstops_within_800m', count800)\n",
    "        train_data._set_value(index, 'busstops_within_1500m', count1500)\n"
   ]
  },
  {
   "cell_type": "code",
   "execution_count": null,
   "metadata": {},
   "outputs": [],
   "source": [
    "\n",
    "import pandas as pd \n",
    "import numpy as np\n",
    "import math \n",
    "import geopandas as gpd\n",
    "from scipy.spatial import cKDTree\n",
    "from scipy.spatial.distance import cdist\n",
    "from shapely.geometry import Point\n",
    "\n",
    "def ckdnearest(gdA, gdB):\n",
    "    nA = np.array(list(gdA.geometry.apply(lambda x: (x.x, x.y))))\n",
    "    nB = np.array(list(gdB.geometry.apply(lambda x: (x.x, x.y))))\n",
    "    btree = cKDTree(nB)\n",
    "    dist, idx = btree.query(nA, k=1)\n",
    "    gdB_nearest = gdB.iloc[idx].drop(columns=\"geometry\").reset_index(drop=True)\n",
    "    gdf = pd.concat(\n",
    "        [\n",
    "            gdA.reset_index(drop=True),\n",
    "            gdB_nearest,\n",
    "            pd.Series(dist, name='dist')\n",
    "        ], \n",
    "        axis=1)\n",
    "\n",
    "    return gdf\n",
    "\n",
    "buss = ckdnearest(df, bs)\n",
    "buss = buss[['store_id', 'importance_level', 'dist']]\n",
    "buss\n"
   ]
  }
 ],
 "metadata": {
  "kernelspec": {
   "display_name": "Python 3.8.10 64-bit",
   "language": "python",
   "name": "python3"
  },
  "language_info": {
   "codemirror_mode": {
    "name": "ipython",
    "version": 3
   },
   "file_extension": ".py",
   "mimetype": "text/x-python",
   "name": "python",
   "nbconvert_exporter": "python",
   "pygments_lexer": "ipython3",
   "version": "3.8.10"
  },
  "orig_nbformat": 4,
  "vscode": {
   "interpreter": {
    "hash": "916dbcbb3f70747c44a77c7bcd40155683ae19c65e1c03b4aa3499c5328201f1"
   }
  }
 },
 "nbformat": 4,
 "nbformat_minor": 2
}
