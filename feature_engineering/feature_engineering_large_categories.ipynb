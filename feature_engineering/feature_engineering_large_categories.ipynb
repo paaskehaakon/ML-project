{
 "cells": [
  {
   "cell_type": "code",
   "execution_count": 69,
   "metadata": {},
   "outputs": [],
   "source": [
    "import math\n",
    "import geopy.distance\n",
    "from dis import dis\n",
    "import math\n",
    "import geopandas as gpd\n",
    "import numpy\n",
    "from shapely import wkt\n",
    "from shapely import wkb\n",
    "import numpy as np\n",
    "import pandas as pd\n",
    "import matplotlib.pyplot as plt\n",
    "import seaborn as sns\n",
    "from geopy.geocoders import Nominatim\n",
    "\n",
    "%matplotlib inline\n",
    "\n",
    "train_data = pd.read_csv('../data/stores_train.csv')\n",
    "test_data = pd.read_csv('../data/stores_test.csv')\n",
    "busstops = pd.read_csv('../data/busstops_norway.csv')\n",
    "grunnkrets_age = pd.read_csv('../data/grunnkrets_age_distribution.csv')\n",
    "grunnkrets_households = pd.read_csv('../data/grunnkrets_households_num_persons.csv')\n",
    "grunnkrets_income = pd.read_csv('../data/grunnkrets_income_households.csv')\n",
    "grunnkrets_stripped = pd.read_csv('../data/grunnkrets_norway_stripped.csv')\n",
    "plaace_hierarchy = pd.read_csv('../data/plaace_hierarchy.csv')"
   ]
  },
  {
   "cell_type": "code",
   "execution_count": 70,
   "metadata": {},
   "outputs": [],
   "source": [
    "def dist_to_all_km(lat, lon, df):\n",
    "\n",
    "    # coordinates in radians\n",
    "    lat1 = lat*math.pi/180\n",
    "    lon1 = lon*math.pi/180\n",
    "    lat2 = df['lat']*math.pi/180 # go through whole lat column\n",
    "    lon2 = df['lon']*math.pi/180 # go through whole lon column\n",
    "\n",
    "    # store original coordinates in new dataframe\n",
    "    distances = pd.DataFrame()\n",
    "    distances['lat'] = df['lat'].copy()\n",
    "    distances['lon'] = df['lon'].copy()\n",
    "\n",
    "    # calculate cartesian coordinates\n",
    "    R = 6371 # Earth radius in km\n",
    "    df['x'] = R*np.cos(lat2)*np.cos(lon2)\n",
    "    df['y'] = R*np.cos(lat2)*np.sin(lon2)\n",
    "    df['z'] = R*np.sin(lat2)\n",
    "    x1 = R*np.cos(lat1)*np.cos(lon1)\n",
    "    y1 = R*np.cos(lat1)*np.sin(lon1)\n",
    "    z1 = R*np.sin(lat1)\n",
    "\n",
    "    # calculate distance, store as new column in the distances dataframe\n",
    "    distances['dist'] = np.sqrt(np.square(df['x']-x1)+np.square(df['y']-y1)+np.square(df['z']-z1))\n",
    "\n",
    "    return distances['dist'].squeeze()"
   ]
  },
  {
   "cell_type": "code",
   "execution_count": 71,
   "metadata": {},
   "outputs": [],
   "source": [
    "df = pd.DataFrame(train_data, columns=['store_id', 'lat', 'lon', 'grunnkrets_id'])\n",
    "df = pd.merge(df, grunnkrets_stripped[['grunnkrets_id', 'municipality_name']], on='grunnkrets_id', how='left')\n",
    "df = df.drop_duplicates(subset=['store_id'], keep='first').reset_index(drop=True)\n",
    "\n",
    "# df.isnull().sum() # 30 NaNs in municipality_name\n",
    "\n",
    "index_of_NaN, idy = np.where(pd.isnull(df))\n",
    "\n",
    "for i in index_of_NaN:\n",
    "    lat = df._get_value(i,'lat')\n",
    "    lon = df._get_value(i,'lon')\n",
    "    dist_to_all = dist_to_all_km(lat, lon, df).to_frame()\n",
    "    dist_to_all = dist_to_all.sort_values('dist').reset_index()\n",
    "    dist_to_all = dist_to_all.rename(columns={'index':'index_in_train_data'})\n",
    "\n",
    "    # Find index of closest store that isn't itself and that has a grunnkrets_id\n",
    "    index_of_closest_store = 0\n",
    "    while dist_to_all.iloc[index_of_closest_store]['dist'] == 0 or pd.isna(df.at[dist_to_all.iloc[index_of_closest_store]['index_in_train_data'], 'municipality_name']):\n",
    "        index_of_closest_store = index_of_closest_store + 1\n",
    "    \n",
    "    # Set municipality_name as the municipality name of the closest store that has one\n",
    "    df.at[i,'municipality_name'] = df.at[dist_to_all.iloc[index_of_closest_store]['index_in_train_data'], 'municipality_name']\n"
   ]
  },
  {
   "cell_type": "code",
   "execution_count": 72,
   "metadata": {},
   "outputs": [],
   "source": [
    "# Add municipality names\n",
    "train_data = pd.merge(train_data, df[['grunnkrets_id', 'municipality_name']], on='grunnkrets_id', how='left')\n",
    "# we get a bunch of duplicates of store_ids...? Remove them.\n",
    "train_data = train_data.drop_duplicates(subset=['store_id'], keep='first')\n",
    "\n",
    "# For test\n",
    "test_data = pd.merge(test_data, df[['grunnkrets_id', 'municipality_name']], on='grunnkrets_id', how='left')\n",
    "# we get a bunch of duplicates of store_ids...? Remove them.\n",
    "test_data = test_data.drop_duplicates(subset=['store_id'], keep='first')"
   ]
  },
  {
   "cell_type": "code",
   "execution_count": 73,
   "metadata": {},
   "outputs": [
    {
     "name": "stderr",
     "output_type": "stream",
     "text": [
      "/var/folders/v4/l760qmd51vl3yg0k0ly6n5fw0000gn/T/ipykernel_6462/2295527476.py:6: FutureWarning: Dropping of nuisance columns in DataFrame reductions (with 'numeric_only=None') is deprecated; in a future version this will raise TypeError.  Select only valid columns before calling the reduction.\n",
      "  grunnkrets_age['total_nbr_people'] = grunnkrets_age.sum(axis=1) # total number of inhabitants\n"
     ]
    }
   ],
   "source": [
    "# Total nbr people in each grunnkrets\n",
    "grunnkrets_age = grunnkrets_age.drop_duplicates(subset=['grunnkrets_id'], keep='last') # if there is value for 2016 we keep it, otherwise 2015\n",
    "grunnkrets_age = grunnkrets_age.fillna(0)\n",
    "grunnkrets_age = grunnkrets_age.drop('year',axis=1)\n",
    "grunnkrets_age['grunnkrets_id'] = grunnkrets_age['grunnkrets_id'].astype(str)\n",
    "grunnkrets_age['total_nbr_people'] = grunnkrets_age.sum(axis=1) # total number of inhabitants\n",
    "grunnkrets_age['grunnkrets_id'] = grunnkrets_age['grunnkrets_id'].astype(int)\n",
    "train_data = pd.merge(train_data, grunnkrets_age[['grunnkrets_id', 'total_nbr_people']], on='grunnkrets_id', how='left')\n",
    "test_data = pd.merge(test_data, grunnkrets_age[['grunnkrets_id', 'total_nbr_people']], on='grunnkrets_id', how='left')"
   ]
  },
  {
   "cell_type": "code",
   "execution_count": 74,
   "metadata": {},
   "outputs": [],
   "source": [
    "# Replace NaN in mall_name and chain_name columns with 'No mall' and 'No chain'\n",
    "train_data.mall_name = train_data.mall_name.fillna('No mall')\n",
    "train_data.chain_name = train_data.chain_name.fillna('No chain')\n",
    "# For test\n",
    "test_data.mall_name = test_data.mall_name.fillna('No mall')\n",
    "test_data.chain_name = test_data.chain_name.fillna('No chain')\n",
    "\n",
    "# Dummy variable for mall or no mall\n",
    "train_data.loc[train_data['mall_name'].str.contains(\"No mall\", na=False),'mall_dummy'] = 0\n",
    "train_data.loc[~(train_data['mall_name'].str.contains(\"No mall\", na=False)),'mall_dummy'] = 1\n",
    "train_data.drop(['mall_name'],axis=1, inplace=True)\n",
    "# For test\n",
    "test_data.loc[test_data['mall_name'].str.contains(\"No mall\", na=False),'mall_dummy'] = 0\n",
    "test_data.loc[~(test_data['mall_name'].str.contains(\"No mall\", na=False)),'mall_dummy'] = 1\n",
    "test_data.drop(['mall_name'],axis=1, inplace=True)\n",
    "\n",
    "# 'store_name', 'year', 'sales_channel_name', 'address' columns are redundant, remove them\n",
    "train_data = train_data.drop('store_name',axis=1)\n",
    "train_data = train_data.drop('sales_channel_name',axis=1)\n",
    "train_data = train_data.drop('address',axis=1)\n",
    "# For test\n",
    "test_data = test_data.drop('store_name',axis=1)\n",
    "test_data = test_data.drop('sales_channel_name',axis=1)\n",
    "test_data = test_data.drop('address',axis=1)\n",
    "\n",
    "if train_data._get_value(1, 'revenue') > 15:\n",
    "    train_data['revenue'] = np.log1p(train_data['revenue'])"
   ]
  },
  {
   "cell_type": "code",
   "execution_count": 75,
   "metadata": {},
   "outputs": [],
   "source": [
    "######### MUNICIPALITY SIZE GROUPS #########"
   ]
  },
  {
   "cell_type": "code",
   "execution_count": 76,
   "metadata": {},
   "outputs": [
    {
     "name": "stdout",
     "output_type": "stream",
     "text": [
      "    municipality_name  nbr_people_in_municipality municipality_size_group\n",
      "243              Oslo                   2109973.0               above500k\n",
      "26             Bergen                    565267.0               above500k\n",
      "154      Kristiansand                    236806.0       between150and500k\n",
      "348         Trondheim                    221814.0       between150and500k\n",
      "309         Stavanger                    201526.0       between150and500k\n",
      "..                ...                         ...                     ...\n",
      "58            Etnedal                        91.0                below25k\n",
      "268             Rødøy                        78.0                below25k\n",
      "147           Karlsøy                         0.0                below25k\n",
      "279            Sandøy                         0.0                below25k\n",
      "69          Flatanger                         0.0                below25k\n",
      "\n",
      "[410 rows x 3 columns]\n"
     ]
    }
   ],
   "source": [
    "# Total nbr people in each municipality\n",
    "municipalities = train_data[[\"municipality_name\", \"total_nbr_people\"]].groupby(\n",
    "    [\"municipality_name\"]\n",
    ").sum().reset_index()\n",
    "\n",
    "municipalities = municipalities.rename(columns={'total_nbr_people':'nbr_people_in_municipality'})\n",
    "\n",
    "municipalities = municipalities.sort_values('nbr_people_in_municipality', ascending = False)\n",
    "\n",
    "# Print distribution to check relevant division into small/medium/large municipality\n",
    "# print(municipalities['nbr_people_in_municipality'].describe())\n",
    "# plt.figure()\n",
    "# sns.histplot(data=municipalities, x='nbr_people_in_municipality') # We see that two municipalities are very large, plot again without them\n",
    "# plt.figure()\n",
    "# sns.histplot(data=municipalities[municipalities['nbr_people_in_municipality']<500000], x='nbr_people_in_municipality') # excluding the two largest\n",
    "# The above prints show reasonable splits for size groups, used below in conditions\n",
    "\n",
    "\n",
    "# Make new column in municipalities for municipality size category, assign categories. Values are based on the above EDA of the distribution of nbr_people_in_municipality.\n",
    "conditions = [\n",
    "     (municipalities['nbr_people_in_municipality'] < 25000),\n",
    "     (municipalities['nbr_people_in_municipality'] >= 25000) & (municipalities['nbr_people_in_municipality'] < 75000),\n",
    "     (municipalities['nbr_people_in_municipality'] >= 75000) & (municipalities['nbr_people_in_municipality'] < 150000),\n",
    "     (municipalities['nbr_people_in_municipality'] >= 150000) & (municipalities['nbr_people_in_municipality'] < 500000),\n",
    "     (municipalities['nbr_people_in_municipality'] >= 500000),\n",
    " ]\n",
    "\n",
    "values = ['below25k', 'between25and75k', 'between75and150k', 'between150and500k', 'above500k']\n",
    "municipalities['municipality_size_group'] = np.select(conditions, values)\n",
    "\n",
    "print(municipalities)\n",
    "\n",
    "municipalities['municipality_size_group'].value_counts() # four size categories of 102-103 municipalities in each, category 0 is the 'No municipality name' one\n",
    "\n",
    "# merge to train data\n",
    "train_data = pd.merge(train_data, municipalities[['municipality_name', 'municipality_size_group']], on='municipality_name', how='outer')\n",
    "\n",
    "# merge to test data\n",
    "test_data = pd.merge(test_data, municipalities[['municipality_name', 'municipality_size_group']], on='municipality_name', how='outer')\n"
   ]
  },
  {
   "cell_type": "code",
   "execution_count": 77,
   "metadata": {},
   "outputs": [],
   "source": [
    "# mean rev per municipality size group\n",
    "mean_rev_munic = train_data[[\"municipality_size_group\", \"revenue\"]].groupby(\n",
    "    [\"municipality_size_group\"]\n",
    ").mean().reset_index()\n",
    "mean_rev_munic = mean_rev_munic.rename(columns={'revenue':'mean_revenue_for_municipality_size_group'})\n",
    "\n",
    "# merge to train data\n",
    "train_data = train_data.merge(mean_rev_munic, how=\"left\", on=[\"municipality_size_group\"])\n",
    "# In case of duplicates, remove them.\n",
    "train_data = train_data.drop_duplicates(subset=['store_id'], keep='first')\n",
    "\n",
    "# merge to test data\n",
    "test_data = test_data.merge(mean_rev_munic, how=\"left\", on=[\"municipality_size_group\"])\n",
    "# In case of duplicates, remove them.\n",
    "test_data = test_data.drop_duplicates(subset=['store_id'], keep='first')"
   ]
  },
  {
   "cell_type": "code",
   "execution_count": 78,
   "metadata": {},
   "outputs": [],
   "source": [
    "# median rev per municipality size group\n",
    "median_rev_munic = train_data[[\"municipality_size_group\", \"revenue\"]].groupby(\n",
    "    [\"municipality_size_group\"]\n",
    ").median().reset_index()\n",
    "median_rev_munic = median_rev_munic.rename(columns={'revenue':'median_revenue_for_municipality_size_group'})\n",
    "\n",
    "# merge to train data\n",
    "train_data = train_data.merge(median_rev_munic, how=\"left\", on=[\"municipality_size_group\"])\n",
    "# In case of duplicates, remove them.\n",
    "train_data = train_data.drop_duplicates(subset=['store_id'], keep='first')\n",
    "\n",
    "# merge to test data\n",
    "test_data = test_data.merge(median_rev_munic, how=\"left\", on=[\"municipality_size_group\"])\n",
    "# In case of duplicates, remove them.\n",
    "test_data = test_data.drop_duplicates(subset=['store_id'], keep='first')"
   ]
  },
  {
   "cell_type": "code",
   "execution_count": 79,
   "metadata": {},
   "outputs": [],
   "source": [
    "# st dev per municipality size group\n",
    "stdev_munic = train_data[[\"municipality_size_group\", \"revenue\"]].groupby(\n",
    "    [\"municipality_size_group\"]\n",
    ").std().reset_index()\n",
    "stdev_munic = stdev_munic.rename(columns={'revenue':'st_dev_of_revenue_for_municipality_size_group'})\n",
    "\n",
    "# merge to train data\n",
    "train_data = train_data.merge(stdev_munic, how=\"left\", on=[\"municipality_size_group\"])\n",
    "# In case of duplicates, remove them.\n",
    "train_data = train_data.drop_duplicates(subset=['store_id'], keep='first')\n",
    "\n",
    "# merge to test data\n",
    "test_data = test_data.merge(stdev_munic, how=\"left\", on=[\"municipality_size_group\"])\n",
    "# In case of duplicates, remove them.\n",
    "test_data = test_data.drop_duplicates(subset=['store_id'], keep='first')\n"
   ]
  },
  {
   "cell_type": "code",
   "execution_count": null,
   "metadata": {},
   "outputs": [],
   "source": [
    "######### UP UNTIL HERE THINGS ARE DONE AND MAKE SENSE #########\n",
    "\n",
    "######### FROM HERE ON IT IS NOT DONE, LOTS OF NAN #########"
   ]
  },
  {
   "cell_type": "code",
   "execution_count": 80,
   "metadata": {},
   "outputs": [],
   "source": [
    "######### MUNICIPALITY REVENUE GROUPS #########"
   ]
  },
  {
   "cell_type": "code",
   "execution_count": 81,
   "metadata": {},
   "outputs": [],
   "source": [
    "train_data = pd.merge(train_data, plaace_hierarchy[['plaace_hierarchy_id', 'lv1', 'lv2', 'lv3']], on='plaace_hierarchy_id', how='outer')\n",
    "train_data['lv1']= train_data['lv1'].astype('category')\n",
    "train_data['lv2']= train_data['lv2'].astype('category')\n",
    "train_data['lv3']= train_data['lv3'].astype('category')\n",
    "\n",
    "# For test\n",
    "test_data = pd.merge(test_data, plaace_hierarchy[['plaace_hierarchy_id', 'lv1', 'lv2', 'lv3']], on='plaace_hierarchy_id', how='outer')\n",
    "test_data['lv1']= test_data['lv1'].astype('category')\n",
    "test_data['lv2']= test_data['lv2'].astype('category')\n",
    "test_data['lv3']= test_data['lv3'].astype('category')"
   ]
  },
  {
   "cell_type": "code",
   "execution_count": 90,
   "metadata": {},
   "outputs": [
    {
     "name": "stdout",
     "output_type": "stream",
     "text": [
      "count    3115.000000\n",
      "mean        1.590787\n",
      "std         0.841953\n",
      "min         0.000000\n",
      "25%         1.006361\n",
      "50%         1.506655\n",
      "75%         2.085286\n",
      "max         4.864545\n",
      "Name: mean_revenue_for_municipality_and_level2, dtype: float64\n",
      "     municipality_name  lv2  mean_revenue_for_municipality_and_level2  \\\n",
      "0              Agdenes  1.1                                       NaN   \n",
      "1              Agdenes  1.2                                       NaN   \n",
      "2              Agdenes  1.3                                       NaN   \n",
      "3              Agdenes  1.4                                       NaN   \n",
      "4              Agdenes  1.5                                       NaN   \n",
      "...                ...  ...                                       ...   \n",
      "8195     Øystre Slidre  3.2                                  0.829425   \n",
      "8196     Øystre Slidre  3.3                                       NaN   \n",
      "8197     Øystre Slidre  3.4                                       NaN   \n",
      "8198     Øystre Slidre  3.5                                       NaN   \n",
      "8199     Øystre Slidre  3.6                                  0.387980   \n",
      "\n",
      "     municipality_rev_group_lv2  \n",
      "0                             0  \n",
      "1                             0  \n",
      "2                             0  \n",
      "3                             0  \n",
      "4                             0  \n",
      "...                         ...  \n",
      "8195             medium_rev_lv2  \n",
      "8196                          0  \n",
      "8197                          0  \n",
      "8198                          0  \n",
      "8199                low_rev_lv2  \n",
      "\n",
      "[8200 rows x 4 columns]\n"
     ]
    },
    {
     "data": {
      "image/png": "[encoded data removed]",
      "text/plain": [
       "<Figure size 640x480 with 1 Axes>"
      ]
     },
     "metadata": {},
     "output_type": "display_data"
    }
   ],
   "source": [
    "# Make municipality groups based on mean revenue for lv2 in each municipality\n",
    "\n",
    "# Mean revenue for municipality and lv2\n",
    "municipalities_rev = train_data[[\"municipality_name\", \"lv2\", \"revenue\"]].groupby(\n",
    "    [\"municipality_name\", \"lv2\"]\n",
    ").mean().reset_index()\n",
    "municipalities_rev = municipalities_rev.rename(columns={'revenue':'mean_revenue_for_municipality_and_level2'})\n",
    "\n",
    "# Print distribution to check relevant division into small/medium/large municipality\n",
    "print(municipalities_rev['mean_revenue_for_municipality_and_level2'].describe())\n",
    "plt.figure()\n",
    "sns.histplot(data=municipalities_rev, x='mean_revenue_for_municipality_and_level2')\n",
    "# The above prints show reasonable splits for mean revenue groups, used below in conditions\n",
    "\n",
    "# Make new column in municipalities_rev for municipality revenue category, assign categories\n",
    "conds = [\n",
    "     (municipalities_rev['mean_revenue_for_municipality_and_level2'] < 0.6),\n",
    "     (municipalities_rev['mean_revenue_for_municipality_and_level2'] >= 0.6) & (municipalities_rev['mean_revenue_for_municipality_and_level2'] < 2.4),\n",
    "     (municipalities_rev['mean_revenue_for_municipality_and_level2'] >= 2.4)\n",
    " ]\n",
    "vals = ['low_rev_lv2', 'medium_rev_lv2', 'high_rev_lv2']\n",
    "#municipalities_rev['municipality_rev_group_lv2'] = np.array(vals)[np.array(conds).argmax(axis=0)] #np.select(conds, vals)\n",
    "municipalities_rev['municipality_rev_group_lv2'] = np.select(conds, vals)\n",
    "\n",
    "print(municipalities_rev)\n",
    "municipalities_rev['municipality_rev_group_lv2'].value_counts() # Varför en grupp med 0? De som saknar mean revenue lv2?\n",
    "\n",
    "# merge to train data\n",
    "train_data = pd.merge(train_data, municipalities_rev[['municipality_name', 'municipality_rev_group_lv2']], on='municipality_name', how='outer')\n",
    "\n",
    "# merge to test data\n",
    "test_data = pd.merge(test_data, municipalities_rev[['municipality_name', 'municipality_rev_group_lv2']], on='municipality_name', how='outer')\n",
    "\n"
   ]
  },
  {
   "cell_type": "code",
   "execution_count": null,
   "metadata": {},
   "outputs": [],
   "source": []
  },
  {
   "cell_type": "code",
   "execution_count": 91,
   "metadata": {},
   "outputs": [
    {
     "ename": "KeyError",
     "evalue": "'municipality_rev_group_lv2'",
     "output_type": "error",
     "traceback": [
      "\u001b[0;31m---------------------------------------------------------------------------\u001b[0m",
      "\u001b[0;31mKeyError\u001b[0m                                  Traceback (most recent call last)",
      "Cell \u001b[0;32mIn [91], line 13\u001b[0m\n\u001b[1;32m     10\u001b[0m train_data \u001b[38;5;241m=\u001b[39m train_data\u001b[38;5;241m.\u001b[39mdrop_duplicates(subset\u001b[38;5;241m=\u001b[39m[\u001b[38;5;124m'\u001b[39m\u001b[38;5;124mstore_id\u001b[39m\u001b[38;5;124m'\u001b[39m], keep\u001b[38;5;241m=\u001b[39m\u001b[38;5;124m'\u001b[39m\u001b[38;5;124mfirst\u001b[39m\u001b[38;5;124m'\u001b[39m)\n\u001b[1;32m     12\u001b[0m \u001b[38;5;66;03m# merge to test data\u001b[39;00m\n\u001b[0;32m---> 13\u001b[0m test_data \u001b[38;5;241m=\u001b[39m test_data\u001b[38;5;241m.\u001b[39mmerge(mean_rev_munic_lv2, how\u001b[38;5;241m=\u001b[39m\u001b[38;5;124m\"\u001b[39m\u001b[38;5;124mleft\u001b[39m\u001b[38;5;124m\"\u001b[39m, on\u001b[38;5;241m=\u001b[39m[\u001b[38;5;124m\"\u001b[39m\u001b[38;5;124mmunicipality_rev_group_lv2\u001b[39m\u001b[38;5;124m\"\u001b[39m])\n\u001b[1;32m     14\u001b[0m \u001b[38;5;66;03m# In case of duplicates, remove them.\u001b[39;00m\n\u001b[1;32m     15\u001b[0m test_data \u001b[38;5;241m=\u001b[39m test_data\u001b[38;5;241m.\u001b[39mdrop_duplicates(subset\u001b[38;5;241m=\u001b[39m[\u001b[38;5;124m'\u001b[39m\u001b[38;5;124mstore_id\u001b[39m\u001b[38;5;124m'\u001b[39m], keep\u001b[38;5;241m=\u001b[39m\u001b[38;5;124m'\u001b[39m\u001b[38;5;124mfirst\u001b[39m\u001b[38;5;124m'\u001b[39m)\n",
      "File \u001b[0;32m/Library/Frameworks/Python.framework/Versions/3.9/lib/python3.9/site-packages/pandas/core/frame.py:10083\u001b[0m, in \u001b[0;36mDataFrame.merge\u001b[0;34m(self, right, how, on, left_on, right_on, left_index, right_index, sort, suffixes, copy, indicator, validate)\u001b[0m\n\u001b[1;32m  10064\u001b[0m \u001b[39m@Substitution\u001b[39m(\u001b[39m\"\u001b[39m\u001b[39m\"\u001b[39m)\n\u001b[1;32m  10065\u001b[0m \u001b[39m@Appender\u001b[39m(_merge_doc, indents\u001b[39m=\u001b[39m\u001b[39m2\u001b[39m)\n\u001b[1;32m  10066\u001b[0m \u001b[39mdef\u001b[39;00m \u001b[39mmerge\u001b[39m(\n\u001b[0;32m   (...)\u001b[0m\n\u001b[1;32m  10079\u001b[0m     validate: \u001b[39mstr\u001b[39m \u001b[39m|\u001b[39m \u001b[39mNone\u001b[39;00m \u001b[39m=\u001b[39m \u001b[39mNone\u001b[39;00m,\n\u001b[1;32m  10080\u001b[0m ) \u001b[39m-\u001b[39m\u001b[39m>\u001b[39m DataFrame:\n\u001b[1;32m  10081\u001b[0m     \u001b[39mfrom\u001b[39;00m \u001b[39mpandas\u001b[39;00m\u001b[39m.\u001b[39;00m\u001b[39mcore\u001b[39;00m\u001b[39m.\u001b[39;00m\u001b[39mreshape\u001b[39;00m\u001b[39m.\u001b[39;00m\u001b[39mmerge\u001b[39;00m \u001b[39mimport\u001b[39;00m merge\n\u001b[0;32m> 10083\u001b[0m     \u001b[39mreturn\u001b[39;00m merge(\n\u001b[1;32m  10084\u001b[0m         \u001b[39mself\u001b[39;49m,\n\u001b[1;32m  10085\u001b[0m         right,\n\u001b[1;32m  10086\u001b[0m         how\u001b[39m=\u001b[39;49mhow,\n\u001b[1;32m  10087\u001b[0m         on\u001b[39m=\u001b[39;49mon,\n\u001b[1;32m  10088\u001b[0m         left_on\u001b[39m=\u001b[39;49mleft_on,\n\u001b[1;32m  10089\u001b[0m         right_on\u001b[39m=\u001b[39;49mright_on,\n\u001b[1;32m  10090\u001b[0m         left_index\u001b[39m=\u001b[39;49mleft_index,\n\u001b[1;32m  10091\u001b[0m         right_index\u001b[39m=\u001b[39;49mright_index,\n\u001b[1;32m  10092\u001b[0m         sort\u001b[39m=\u001b[39;49msort,\n\u001b[1;32m  10093\u001b[0m         suffixes\u001b[39m=\u001b[39;49msuffixes,\n\u001b[1;32m  10094\u001b[0m         copy\u001b[39m=\u001b[39;49mcopy,\n\u001b[1;32m  10095\u001b[0m         indicator\u001b[39m=\u001b[39;49mindicator,\n\u001b[1;32m  10096\u001b[0m         validate\u001b[39m=\u001b[39;49mvalidate,\n\u001b[1;32m  10097\u001b[0m     )\n",
      "File \u001b[0;32m/Library/Frameworks/Python.framework/Versions/3.9/lib/python3.9/site-packages/pandas/core/reshape/merge.py:111\u001b[0m, in \u001b[0;36mmerge\u001b[0;34m(left, right, how, on, left_on, right_on, left_index, right_index, sort, suffixes, copy, indicator, validate)\u001b[0m\n\u001b[1;32m     94\u001b[0m \u001b[39m@Substitution\u001b[39m(\u001b[39m\"\u001b[39m\u001b[39m\\n\u001b[39;00m\u001b[39mleft : DataFrame or named Series\u001b[39m\u001b[39m\"\u001b[39m)\n\u001b[1;32m     95\u001b[0m \u001b[39m@Appender\u001b[39m(_merge_doc, indents\u001b[39m=\u001b[39m\u001b[39m0\u001b[39m)\n\u001b[1;32m     96\u001b[0m \u001b[39mdef\u001b[39;00m \u001b[39mmerge\u001b[39m(\n\u001b[0;32m   (...)\u001b[0m\n\u001b[1;32m    109\u001b[0m     validate: \u001b[39mstr\u001b[39m \u001b[39m|\u001b[39m \u001b[39mNone\u001b[39;00m \u001b[39m=\u001b[39m \u001b[39mNone\u001b[39;00m,\n\u001b[1;32m    110\u001b[0m ) \u001b[39m-\u001b[39m\u001b[39m>\u001b[39m DataFrame:\n\u001b[0;32m--> 111\u001b[0m     op \u001b[39m=\u001b[39m _MergeOperation(\n\u001b[1;32m    112\u001b[0m         left,\n\u001b[1;32m    113\u001b[0m         right,\n\u001b[1;32m    114\u001b[0m         how\u001b[39m=\u001b[39;49mhow,\n\u001b[1;32m    115\u001b[0m         on\u001b[39m=\u001b[39;49mon,\n\u001b[1;32m    116\u001b[0m         left_on\u001b[39m=\u001b[39;49mleft_on,\n\u001b[1;32m    117\u001b[0m         right_on\u001b[39m=\u001b[39;49mright_on,\n\u001b[1;32m    118\u001b[0m         left_index\u001b[39m=\u001b[39;49mleft_index,\n\u001b[1;32m    119\u001b[0m         right_index\u001b[39m=\u001b[39;49mright_index,\n\u001b[1;32m    120\u001b[0m         sort\u001b[39m=\u001b[39;49msort,\n\u001b[1;32m    121\u001b[0m         suffixes\u001b[39m=\u001b[39;49msuffixes,\n\u001b[1;32m    122\u001b[0m         indicator\u001b[39m=\u001b[39;49mindicator,\n\u001b[1;32m    123\u001b[0m         validate\u001b[39m=\u001b[39;49mvalidate,\n\u001b[1;32m    124\u001b[0m     )\n\u001b[1;32m    125\u001b[0m     \u001b[39mreturn\u001b[39;00m op\u001b[39m.\u001b[39mget_result(copy\u001b[39m=\u001b[39mcopy)\n",
      "File \u001b[0;32m/Library/Frameworks/Python.framework/Versions/3.9/lib/python3.9/site-packages/pandas/core/reshape/merge.py:706\u001b[0m, in \u001b[0;36m_MergeOperation.__init__\u001b[0;34m(self, left, right, how, on, left_on, right_on, axis, left_index, right_index, sort, suffixes, indicator, validate)\u001b[0m\n\u001b[1;32m    699\u001b[0m \u001b[39mself\u001b[39m\u001b[39m.\u001b[39m_cross \u001b[39m=\u001b[39m cross_col\n\u001b[1;32m    701\u001b[0m \u001b[39m# note this function has side effects\u001b[39;00m\n\u001b[1;32m    702\u001b[0m (\n\u001b[1;32m    703\u001b[0m     \u001b[39mself\u001b[39m\u001b[39m.\u001b[39mleft_join_keys,\n\u001b[1;32m    704\u001b[0m     \u001b[39mself\u001b[39m\u001b[39m.\u001b[39mright_join_keys,\n\u001b[1;32m    705\u001b[0m     \u001b[39mself\u001b[39m\u001b[39m.\u001b[39mjoin_names,\n\u001b[0;32m--> 706\u001b[0m ) \u001b[39m=\u001b[39m \u001b[39mself\u001b[39;49m\u001b[39m.\u001b[39;49m_get_merge_keys()\n\u001b[1;32m    708\u001b[0m \u001b[39m# validate the merge keys dtypes. We may need to coerce\u001b[39;00m\n\u001b[1;32m    709\u001b[0m \u001b[39m# to avoid incompatible dtypes\u001b[39;00m\n\u001b[1;32m    710\u001b[0m \u001b[39mself\u001b[39m\u001b[39m.\u001b[39m_maybe_coerce_merge_keys()\n",
      "File \u001b[0;32m/Library/Frameworks/Python.framework/Versions/3.9/lib/python3.9/site-packages/pandas/core/reshape/merge.py:1182\u001b[0m, in \u001b[0;36m_MergeOperation._get_merge_keys\u001b[0;34m(self)\u001b[0m\n\u001b[1;32m   1178\u001b[0m \u001b[39mif\u001b[39;00m lk \u001b[39mis\u001b[39;00m \u001b[39mnot\u001b[39;00m \u001b[39mNone\u001b[39;00m:\n\u001b[1;32m   1179\u001b[0m     \u001b[39m# Then we're either Hashable or a wrong-length arraylike,\u001b[39;00m\n\u001b[1;32m   1180\u001b[0m     \u001b[39m#  the latter of which will raise\u001b[39;00m\n\u001b[1;32m   1181\u001b[0m     lk \u001b[39m=\u001b[39m cast(Hashable, lk)\n\u001b[0;32m-> 1182\u001b[0m     left_keys\u001b[39m.\u001b[39mappend(left\u001b[39m.\u001b[39;49m_get_label_or_level_values(lk))\n\u001b[1;32m   1183\u001b[0m     join_names\u001b[39m.\u001b[39mappend(lk)\n\u001b[1;32m   1184\u001b[0m \u001b[39melse\u001b[39;00m:\n\u001b[1;32m   1185\u001b[0m     \u001b[39m# work-around for merge_asof(left_index=True)\u001b[39;00m\n",
      "File \u001b[0;32m/Library/Frameworks/Python.framework/Versions/3.9/lib/python3.9/site-packages/pandas/core/generic.py:1849\u001b[0m, in \u001b[0;36mNDFrame._get_label_or_level_values\u001b[0;34m(self, key, axis)\u001b[0m\n\u001b[1;32m   1843\u001b[0m     values \u001b[39m=\u001b[39m (\n\u001b[1;32m   1844\u001b[0m         \u001b[39mself\u001b[39m\u001b[39m.\u001b[39maxes[axis]\n\u001b[1;32m   1845\u001b[0m         \u001b[39m.\u001b[39mget_level_values(key)  \u001b[39m# type: ignore[assignment]\u001b[39;00m\n\u001b[1;32m   1846\u001b[0m         \u001b[39m.\u001b[39m_values\n\u001b[1;32m   1847\u001b[0m     )\n\u001b[1;32m   1848\u001b[0m \u001b[39melse\u001b[39;00m:\n\u001b[0;32m-> 1849\u001b[0m     \u001b[39mraise\u001b[39;00m \u001b[39mKeyError\u001b[39;00m(key)\n\u001b[1;32m   1851\u001b[0m \u001b[39m# Check for duplicates\u001b[39;00m\n\u001b[1;32m   1852\u001b[0m \u001b[39mif\u001b[39;00m values\u001b[39m.\u001b[39mndim \u001b[39m>\u001b[39m \u001b[39m1\u001b[39m:\n",
      "\u001b[0;31mKeyError\u001b[0m: 'municipality_rev_group_lv2'"
     ]
    }
   ],
   "source": [
    "# mean rev per municipality rev group lv2\n",
    "mean_rev_munic_lv2 = train_data[[\"municipality_rev_group_lv2\", \"revenue\"]].groupby(\n",
    "    [\"municipality_rev_group_lv2\"]\n",
    ").mean().reset_index()\n",
    "mean_rev_munic_lv2 = mean_rev_munic_lv2.rename(columns={'revenue':'mean_revenue_for_municipality_rev_group_lv2'})\n",
    "\n",
    "# merge to train data\n",
    "train_data = train_data.merge(mean_rev_munic_lv2, how=\"left\", on=[\"municipality_rev_group_lv2\"])\n",
    "# In case of duplicates, remove them.\n",
    "train_data = train_data.drop_duplicates(subset=['store_id'], keep='first')\n",
    "\n",
    "# merge to test data\n",
    "test_data = test_data.merge(mean_rev_munic_lv2, how=\"left\", on=[\"municipality_rev_group_lv2\"])\n",
    "# In case of duplicates, remove them.\n",
    "test_data = test_data.drop_duplicates(subset=['store_id'], keep='first')"
   ]
  },
  {
   "cell_type": "code",
   "execution_count": 86,
   "metadata": {},
   "outputs": [],
   "source": [
    "\n",
    "# antal folk => stor/medel/liten by - size groups DONE\n",
    "# mean rev per municipality size group DONE\n",
    "# st dev rev per municipality DONE\n",
    "# median rev per municipality size group DONE\n",
    "\n",
    "# gruppera kommuner på mean rev => high revenue municipalities/medium revenue municipalities/low revenue municipalities\n",
    "# mean rev per municipality rev group and lv1\n",
    "# mean rev per municipality rev group and lv2 DONE\n",
    "# mean rev per municipality rev group and lv3\n",
    "# median rev per municipality rev group and lv1\n",
    "# median rev per municipality rev group and lv2\n",
    "# median rev per municipality rev group and lv3\n",
    "# st dev rev per municipality rev group and lv1\n",
    "# st dev rev per municipality rev group and lv2\n",
    "# st dev rev per municipality rev group and lv3\n"
   ]
  }
 ],
 "metadata": {
  "kernelspec": {
   "display_name": "Python 3.8.10 64-bit",
   "language": "python",
   "name": "python3"
  },
  "language_info": {
   "codemirror_mode": {
    "name": "ipython",
    "version": 3
   },
   "file_extension": ".py",
   "mimetype": "text/x-python",
   "name": "python",
   "nbconvert_exporter": "python",
   "pygments_lexer": "ipython3",
   "version": "3.8.10"
  },
  "orig_nbformat": 4,
  "vscode": {
   "interpreter": {
    "hash": "916dbcbb3f70747c44a77c7bcd40155683ae19c65e1c03b4aa3499c5328201f1"
   }
  }
 },
 "nbformat": 4,
 "nbformat_minor": 2
}
