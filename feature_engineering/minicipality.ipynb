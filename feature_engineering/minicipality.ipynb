{
 "cells": [
  {
   "cell_type": "code",
   "execution_count": null,
   "metadata": {},
   "outputs": [],
   "source": [
    "import pandas as pd\n",
    "train_data = pd.read_csv('../data/stores_train.csv', nrows= 50)\n",
    "gk = pd.read_csv('../data/grunnkrets_norway_stripped.csv')\n",
    "vsc = pd.DataFrame()\n",
    "vsc['mean_revenue'] = 0\n",
    "vsc['name'] = gk['municipality_name']\n",
    "vsc = vsc.drop_duplicates(subset=['name'], keep='first').reset_index()\n",
    "\n",
    "superset = gk[['grunnkrets_id','municipality_name']].copy()\n",
    "superset = pd.merge(superset,train_data[['grunnkrets_id','revenue', 'store_id']], on='grunnkrets_id', how='outer')\n",
    "superset.head()"
   ]
  },
  {
   "cell_type": "code",
   "execution_count": null,
   "metadata": {},
   "outputs": [],
   "source": [
    "import pandas as pd\n",
    "train_data = pd.read_csv('../data/stores_train.csv', nrows= 50)\n",
    "gk = pd.read_csv('../data/grunnkrets_norway_stripped.csv')\n",
    "\n",
    "municipalities = train_data[[\"municipality_name\", \"lv2\", \"revenue\"]].groupby(\n",
    "    [\"municipality_name\", \"lv2\"]\n",
    ").mean().reset_index()\n",
    "municipalities = municipalities.rename(columns={'revenue':'mean_revenue_for_municipality_and_level'})\n",
    "train_data = train_data.merge(municipalities, how=\"left\", on=[\"municipality_name\", \"lv2\"])\n",
    "# we get a bunch of duplicates of store_ids...? Remove them.\n",
    "train_data = train_data.drop_duplicates(subset=['store_id'], keep='first')\n",
    "\n",
    "train_data.head()"
   ]
  },
  {
   "cell_type": "code",
   "execution_count": null,
   "metadata": {},
   "outputs": [],
   "source": [
    "\n",
    "dict = {}\n",
    "for i in range(len(vsc)):\n",
    "    dict[str(vsc._get_value(i, 'name'))] = \"\"\n",
    "data = pd.DataFrame(dict.items())\n",
    "for index in range(len(gk)):\n",
    "    \n",
    "#for i in range(len(train_data)):\n",
    "#    gk_id = train_data._get_value(i, 'grunnkrets_id') #get grunnkrets for a row\n",
    "#    rev = train_data._get_value(i, 'revenue') #get revenue for a row\n",
    "#    liste = gk.index[gk['grunnkrets_id']==gk_id].tolist()\n",
    "#    mun = gk._get_value(liste[0], 'municipality_name')\n",
    "#    dict[mun] += rev"
   ]
  }
 ],
 "metadata": {
  "kernelspec": {
   "display_name": "Python 3.8.10 64-bit",
   "language": "python",
   "name": "python3"
  },
  "language_info": {
   "codemirror_mode": {
    "name": "ipython",
    "version": 3
   },
   "file_extension": ".py",
   "mimetype": "text/x-python",
   "name": "python",
   "nbconvert_exporter": "python",
   "pygments_lexer": "ipython3",
   "version": "3.8.10"
  },
  "orig_nbformat": 4,
  "vscode": {
   "interpreter": {
    "hash": "916dbcbb3f70747c44a77c7bcd40155683ae19c65e1c03b4aa3499c5328201f1"
   }
  }
 },
 "nbformat": 4,
 "nbformat_minor": 2
}
