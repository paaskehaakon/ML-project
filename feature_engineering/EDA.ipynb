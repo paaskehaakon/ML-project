{
 "cells": [
  {
   "cell_type": "code",
   "execution_count": null,
   "metadata": {},
   "outputs": [],
   "source": [
    "import numpy as np \n",
    "import pandas as pd \n",
    "import matplotlib.pyplot as plt \n",
    "import seaborn as sns \n",
    "\n",
    "stores_train = pd.read_csv('../data//stores_train.csv')\n",
    "\n",
    "# stores = np.arange(stores_train.shape[0])\n",
    "\n",
    "\n",
    "stores_train['store_name'] = pd.factorize(stores_train['store_name'])[0]\n",
    "\n",
    "\n",
    "sns.scatterplot(x='store_name', y='revenue', hue='plaace_hierarchy_id', legend = False, data=stores_train)\n",
    "plt.title(\"Revenue, color by plaace hierarchy\")\n"
   ]
  },
  {
   "cell_type": "code",
   "execution_count": null,
   "metadata": {},
   "outputs": [],
   "source": []
  },
  {
   "cell_type": "code",
   "execution_count": null,
   "metadata": {},
   "outputs": [],
   "source": [
    "sns.scatterplot(x='store_name', y='revenue', hue='chain_name', legend = False, data=stores_train)\n",
    "plt.title(\"Revenue, color by chain name\")\n"
   ]
  },
  {
   "cell_type": "code",
   "execution_count": null,
   "metadata": {},
   "outputs": [],
   "source": [
    "sns.scatterplot(x='store_name', y='revenue', hue='mall_name', legend = False, data=stores_train)\n",
    "plt.title(\"Revenue, color by mall name\")"
   ]
  },
  {
   "cell_type": "code",
   "execution_count": null,
   "metadata": {},
   "outputs": [],
   "source": [
    "grunnkretser = pd.read_csv('../data//grunnkrets_norway_stripped.csv')\n",
    "\n",
    "# Augment stores_train with information about the municipality\n",
    "stores_with_municipality = stores_train.merge(grunnkretser, how='left', on='grunnkrets_id')\n",
    "\n",
    "sns.scatterplot(x='store_name', y='revenue', hue='municipality_name',legend = False, data=stores_with_municipality)\n",
    "plt.title(\"Revenue, color by municipality\")\n"
   ]
  },
  {
   "cell_type": "code",
   "execution_count": null,
   "metadata": {},
   "outputs": [],
   "source": [
    "# buffer"
   ]
  },
  {
   "cell_type": "code",
   "execution_count": null,
   "metadata": {},
   "outputs": [],
   "source": [
    "import numpy as np \n",
    "import pandas as pd \n",
    "import matplotlib.pyplot as plt \n",
    "import seaborn as sns \n",
    "import matplotlib as plt\n",
    "\n",
    "#read vsc\n",
    "df = pd.read_csv('../data//stores_train.csv')\n",
    "#convert categirical names into numerical values\n",
    "\"\"\" df['store_name'] = pd.factorize(df['store_name'])[0]\n",
    "key=['plaace_hierarchy_id','revenue']\n",
    "print(df.groupby(key).mean()) \"\"\"\n",
    "column = df[\"revenue\"]\n",
    "max_value = column.max()\n",
    "print(max_value)"
   ]
  },
  {
   "cell_type": "code",
   "execution_count": null,
   "metadata": {},
   "outputs": [],
   "source": [
    "import pandas as pd\n",
    "\n",
    "file = pd.read_csv(\"../../data/stores_train.csv\")\n"
   ]
  }
 ],
 "metadata": {
  "kernelspec": {
   "display_name": "Python 3.8.10 64-bit",
   "language": "python",
   "name": "python3"
  },
  "language_info": {
   "codemirror_mode": {
    "name": "ipython",
    "version": 3
   },
   "file_extension": ".py",
   "mimetype": "text/x-python",
   "name": "python",
   "nbconvert_exporter": "python",
   "pygments_lexer": "ipython3",
   "version": "3.8.10"
  },
  "orig_nbformat": 4,
  "vscode": {
   "interpreter": {
    "hash": "916dbcbb3f70747c44a77c7bcd40155683ae19c65e1c03b4aa3499c5328201f1"
   }
  }
 },
 "nbformat": 4,
 "nbformat_minor": 2
}
