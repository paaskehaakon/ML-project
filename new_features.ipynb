{
 "cells": [
  {
   "cell_type": "code",
   "execution_count": null,
   "metadata": {},
   "outputs": [],
   "source": [
    "import math\n",
    "import pandas as pd\n",
    "import numpy as np\n",
    "\n",
    "#- meadian income for households within 2 km\n",
    "def mean():\n",
    "    df = pd.DataFrame\n",
    "    income = pd.read_csv('data/grunnkrets_income_households.csv')\n",
    "    gkage = pd.read_csv('data/grunnkrets_age_distribution.csv')\n",
    "    gkage['grunnkrets_id'] = gkage['grunnkrets_id'].astype(str)\n",
    "    income['grunnkrets_id'] = income['grunnkrets_id'].astype(str)\n",
    "    gkage = gkage.drop('year', axis=1)\n",
    "    gkage['people_in_gk'] = gkage.sum(axis=1) # total number of inhabitants\n",
    "\n",
    "\n",
    "    df = pd.merge(gkage, income, on='grunnkrets_id')\n",
    "    df = df[['grunnkrets_id', 'all_households', 'people_in_gk']]\n",
    "    df['mean_income_per_gk'] = df['all_households'] / df['people_in_gk']\n"
   ]
  },
  {
   "cell_type": "code",
   "execution_count": null,
   "metadata": {},
   "outputs": [],
   "source": [
    "import numpy as np\n",
    "import geopandas as gpd\n",
    "import pandas as pd\n",
    "\n",
    "from scipy.spatial import cKDTree\n",
    "from scipy.spatial.distance import cdist\n",
    "from shapely.geometry import Point\n",
    "\n",
    "df = pd.read_csv('data/stores_train.csv')\n",
    "extra = pd.read_csv('data/stores_extra.csv')\n",
    "#df = df.append(extra)\n",
    "df = df[['store_id','lat','lon']]\n",
    "df = gpd.GeoDataFrame(df, geometry=gpd.points_from_xy(df.lon, df.lat))\n",
    "df = df[['store_id', 'geometry']]\n",
    "df\n",
    "bs = pd.read_csv('data/busstops_norway.csv')\n",
    "bs['geometry'] = gpd.GeoSeries.from_wkt(bs['geometry'])\n",
    "\n"
   ]
  },
  {
   "cell_type": "code",
   "execution_count": null,
   "metadata": {},
   "outputs": [],
   "source": [
    "import numpy as np\n",
    "import geopandas as gpd\n",
    "import pandas as pd\n",
    "from sklearn.neighbors import NearestNeighbors\n",
    "from scipy.spatial import cKDTree\n",
    "from shapely.geometry import Point\n",
    "\n",
    "\n",
    "#closest busstop/competitor broken\n",
    "def ckdnearest(gdA, gdB):\n",
    "    nA = np.array(list(gdA.geometry.apply(lambda x: (x.x, x.y))))\n",
    "    nB = np.array(list(gdB.geometry.apply(lambda x: (x.x, x.y))))\n",
    "    btree = cKDTree(nB)\n",
    "    dist, idx = btree.query(nA, k=1)\n",
    "    gdB_nearest = gdB.iloc[idx].drop(columns=\"geometry\").reset_index(drop=True)\n",
    "    gdf = pd.concat(\n",
    "        [\n",
    "            gdA.reset_index(drop=True),\n",
    "            gdB_nearest,\n",
    "            pd.Series(dist, name='dist')\n",
    "        ], \n",
    "        axis=1)\n",
    "\n",
    "    return gdf\n",
    "\n",
    "buss = ckdnearest(df, bs)\n",
    "buss = buss[['store_id', 'importance_level', 'dist']]\n",
    "buss"
   ]
  },
  {
   "cell_type": "code",
   "execution_count": null,
   "metadata": {},
   "outputs": [],
   "source": [
    "\n",
    "df = pd.read_csv('feature_engineering/train_set.csv')\n",
    "df.isna().sum()"
   ]
  },
  {
   "cell_type": "code",
   "execution_count": null,
   "metadata": {},
   "outputs": [],
   "source": [
    "import numpy as np\n",
    "print(np.log1p(200))"
   ]
  },
  {
   "cell_type": "code",
   "execution_count": null,
   "metadata": {},
   "outputs": [],
   "source": []
  }
 ],
 "metadata": {
  "kernelspec": {
   "display_name": "Python 3.8.10 64-bit",
   "language": "python",
   "name": "python3"
  },
  "language_info": {
   "codemirror_mode": {
    "name": "ipython",
    "version": 3
   },
   "file_extension": ".py",
   "mimetype": "text/x-python",
   "name": "python",
   "nbconvert_exporter": "python",
   "pygments_lexer": "ipython3",
   "version": "3.8.10"
  },
  "orig_nbformat": 4,
  "vscode": {
   "interpreter": {
    "hash": "916dbcbb3f70747c44a77c7bcd40155683ae19c65e1c03b4aa3499c5328201f1"
   }
  }
 },
 "nbformat": 4,
 "nbformat_minor": 2
}
