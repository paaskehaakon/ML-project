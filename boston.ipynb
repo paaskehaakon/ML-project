{
 "cells": [
  {
   "cell_type": "code",
   "execution_count": null,
   "metadata": {},
   "outputs": [],
   "source": [
    "#vizualisation\n",
    "from sklearn.datasets import load_boston\n",
    "import pandas as pd \n",
    "\n",
    "boston = load_boston()\n",
    "\n",
    "for line in boston.DESCR.split(\"\\n\")[5:29]:\n",
    "    print(line)\n",
    "\n",
    "boston_df = pd.DataFrame(data=boston.data, columns = boston.feature_names)\n",
    "boston_df[\"Price\"] = boston.target\n",
    "\n",
    "boston_df.head()"
   ]
  },
  {
   "cell_type": "code",
   "execution_count": null,
   "metadata": {},
   "outputs": [],
   "source": [
    "from sklearn.model_selection import train_test_split\n",
    "import lightgbm as lgb\n",
    "\n",
    "X_train, X_test, Y_train, Y_test = train_test_split(boston.data, boston.target)\n",
    "\n",
    "print(\"Train/Test Sizes : \", X_train.shape, X_test.shape, Y_train.shape, Y_test.shape)\n",
    "\n",
    "train_dataset = lgb.Dataset(X_train, Y_train, feature_name=boston.feature_names.tolist())\n",
    "test_dataset = lgb.Dataset(X_test, Y_test, feature_name=boston.feature_names.tolist())\n",
    "\n",
    "booster = lgb.train({\"objective\": \"regression\"},\n",
    "                    train_set=train_dataset, valid_sets=(test_dataset,),\n",
    "                    num_boost_round=10)"
   ]
  },
  {
   "cell_type": "code",
   "execution_count": null,
   "metadata": {},
   "outputs": [],
   "source": [
    "from sklearn.metrics import r2_score\n",
    "\n",
    "\n",
    "test_preds = booster.predict(X_test)\n",
    "train_preds = booster.predict(X_train)\n",
    "\n",
    "print(\"\\nTest  R2 Score : %.2f\"%r2_score(Y_test, test_preds))\n",
    "print(\"Train R2 Score : %.2f\"%r2_score(Y_train, train_preds))"
   ]
  },
  {
   "cell_type": "code",
   "execution_count": null,
   "metadata": {},
   "outputs": [],
   "source": [
    "idxs = booster.predict(X_test, pred_leaf=True)\n",
    "\n",
    "print(\"Shape : \", idxs.shape)\n",
    "\n",
    "idxs"
   ]
  }
 ],
 "metadata": {
  "kernelspec": {
   "display_name": "Python 3.8.10 64-bit",
   "language": "python",
   "name": "python3"
  },
  "language_info": {
   "codemirror_mode": {
    "name": "ipython",
    "version": 3
   },
   "file_extension": ".py",
   "mimetype": "text/x-python",
   "name": "python",
   "nbconvert_exporter": "python",
   "pygments_lexer": "ipython3",
   "version": "3.8.10"
  },
  "orig_nbformat": 4,
  "vscode": {
   "interpreter": {
    "hash": "916dbcbb3f70747c44a77c7bcd40155683ae19c65e1c03b4aa3499c5328201f1"
   }
  }
 },
 "nbformat": 4,
 "nbformat_minor": 2
}
