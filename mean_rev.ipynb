{
 "cells": [
  {
   "cell_type": "code",
   "execution_count": null,
   "metadata": {},
   "outputs": [],
   "source": [
    "def mean_rev_lv2(train_data, test_data):\n",
    "    mean_rev = train_data[[\"lv2\", \"revenue\"]].groupby(\n",
    "    [\"lv2\"]\n",
    "    ).mean().reset_index()\n",
    "    mean_rev = mean_rev.rename(columns={'revenue':'mean_revenue'})\n",
    "    # hej\n",
    "    # merge to train data\n",
    "    train_data = train_data.merge(mean_rev, how=\"left\", on=[\"lv2\"])\n",
    "    # In case of duplicates, remove them.\n",
    "    train_data = train_data.drop_duplicates(subset=['store_id'], keep='first')\n",
    "\n",
    "    # merge to test data\n",
    "    test_data = test_data.merge(mean_rev, how=\"left\", on=[\"lv2\"])\n",
    "    # In case of duplicates, remove them.\n",
    "    test_data = test_data.drop_duplicates(subset=['store_id'], keep='first')\n",
    "    return train_data, test_data"
   ]
  },
  {
   "cell_type": "code",
   "execution_count": null,
   "metadata": {},
   "outputs": [],
   "source": [
    "def mean_rev_lv3(train_data, test_data):\n",
    "    mean_rev = train_data[[\"lv3\", \"revenue\"]].groupby(\n",
    "    [\"lv3\"]\n",
    "    ).mean().reset_index()\n",
    "    mean_rev = mean_rev.rename(columns={'revenue':'mean_revenue'})\n",
    "\n",
    "    # merge to train data\n",
    "    train_data = train_data.merge(mean_rev, how=\"left\", on=[\"lv3\"])\n",
    "    # In case of duplicates, remove them.\n",
    "    train_data = train_data.drop_duplicates(subset=['store_id'], keep='first')\n",
    "\n",
    "    # merge to test data\n",
    "    test_data = test_data.merge(mean_rev, how=\"left\", on=[\"lv3\"])\n",
    "    # In case of duplicates, remove them.\n",
    "    test_data = test_data.drop_duplicates(subset=['store_id'], keep='first')\n",
    "    return train_data, test_data"
   ]
  },
  {
   "cell_type": "code",
   "execution_count": null,
   "metadata": {},
   "outputs": [],
   "source": [
    "def median_rev_lv2(train_data, test_data):\n",
    "    median_rev = train_data[[\"lv2\", \"revenue\"]].groupby(\n",
    "    [\"lv2\"]\n",
    "    ).median().reset_index()\n",
    "    median_rev = median_rev.rename(columns={'revenue':'median_revenue'})\n",
    "\n",
    "    # merge to train data\n",
    "    train_data = train_data.merge(median_rev, how=\"left\", on=[\"lv2\"])\n",
    "    # In case of duplicates, remove them.\n",
    "    train_data = train_data.drop_duplicates(subset=['store_id'], keep='first')\n",
    "\n",
    "    # merge to test data\n",
    "    test_data = test_data.merge(median_rev, how=\"left\", on=[\"lv2\"])\n",
    "    # In case of duplicates, remove them.\n",
    "    test_data = test_data.drop_duplicates(subset=['store_id'], keep='first')\n",
    "    return train_data, test_data"
   ]
  },
  {
   "cell_type": "code",
   "execution_count": null,
   "metadata": {},
   "outputs": [],
   "source": [
    "def median_rev_lv3(train_data, test_data):\n",
    "    median_rev = train_data[[\"lv3\", \"revenue\"]].groupby(\n",
    "    [\"lv3\"]\n",
    "    ).median().reset_index()\n",
    "    median_rev = median_rev.rename(columns={'revenue':'median_revenue'})\n",
    "\n",
    "    # merge to train data\n",
    "    train_data = train_data.merge(median_rev, how=\"left\", on=[\"lv3\"])\n",
    "    # In case of duplicates, remove them.\n",
    "    train_data = train_data.drop_duplicates(subset=['store_id'], keep='first')\n",
    "\n",
    "    # merge to test data\n",
    "    test_data = test_data.merge(median_rev, how=\"left\", on=[\"lv3\"])\n",
    "    # In case of duplicates, remove them.\n",
    "    test_data = test_data.drop_duplicates(subset=['store_id'], keep='first')\n",
    "    return train_data, test_data"
   ]
  }
 ],
 "metadata": {
  "kernelspec": {
   "display_name": "Python 3.9.5 64-bit",
   "language": "python",
   "name": "python3"
  },
  "language_info": {
   "name": "python",
   "version": "3.9.5"
  },
  "orig_nbformat": 4,
  "vscode": {
   "interpreter": {
    "hash": "aee8b7b246df8f9039afb4144a1f6fd8d2ca17a180786b69acc140d282b71a49"
   }
  }
 },
 "nbformat": 4,
 "nbformat_minor": 2
}
