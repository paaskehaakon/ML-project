{
 "cells": [
  {
   "cell_type": "code",
   "execution_count": 6,
   "metadata": {},
   "outputs": [],
   "source": [
    "import lightgbm as lgb  # standard alias\n",
    "import numpy as np \n",
    "import pandas as pd \n",
    "import matplotlib.pyplot as plt \n",
    "import seaborn as sns \n",
    "from scipy.stats import norm\n",
    "from sklearn.model_selection import train_test_split\n",
    "import math\n",
    "from catboost import CatBoostRegressor\n",
    "import catboost as cb\n",
    "import numpy as np\n",
    "import pandas as pd\n",
    "import seaborn as sns\n",
    "from sklearn.model_selection import train_test_split\n",
    "from sklearn.metrics import mean_squared_error\n",
    "from sklearn.metrics import r2_score\n",
    "from sklearn.inspection import permutation_importance\n",
    "\n",
    "\n",
    "train = pd.read_csv('../feature_engineering/train_set.csv')\n",
    "test = pd.read_csv('../feature_engineering/test_set.csv')\n",
    "\n",
    "x_train, x_test, y_train, y_test = train_test_split(train, train['revenue'], test_size=0.2, random_state=42)\n",
    "\n",
    "# Save store ids, then remove this column\n",
    "store_ids = x_test['store_id'].to_numpy()\n",
    "ids = pd.DataFrame(store_ids)\n",
    "ids.rename(columns={0 :'id'}, inplace=True )\n",
    "\n",
    "x_test = x_test.drop('store_id', axis=1)\n",
    "\n",
    "\n",
    "#X_train = X_train.drop('grunnkrets_id', axis=1)\n",
    "#X_test = X_test.drop('grunnkrets_id', axis=1)\n",
    "x_test = x_test.drop('mall_dummy', axis=1)\n",
    "\n",
    "x_train = x_train.fillna(0)\n",
    "y_train = y_train.fillna(0)\n",
    "x_test = x_test.fillna(0)\n",
    "x_train = 0\n",
    "y_train = 0\n",
    "x_test = 0\n",
    "y_test = 0"
   ]
  },
  {
   "cell_type": "code",
   "execution_count": 7,
   "metadata": {},
   "outputs": [],
   "source": [
    "def catboost():\n",
    "    model = CatBoostRegressor(iterations=1000,\n",
    "                            learning_rate=0.005,\n",
    "                            depth=12,\n",
    "                            loss_function= 'RMSE')\n",
    "    # Fit model\n",
    "    model.fit(x_train, y_train)\n",
    "    # Get predictions\n",
    "    preds = model.predict(x_test)\n",
    "    preds = np.expm1(preds)\n",
    "\n",
    "    #generate csv file of id and prediction\n",
    "    predicted = pd.DataFrame(preds, columns = ['predicted'])\n",
    "    output = pd.concat([ids,predicted],axis=1)\n",
    "    output.to_csv('cat.csv',index=False)"
   ]
  },
  {
   "cell_type": "code",
   "execution_count": 8,
   "metadata": {},
   "outputs": [],
   "source": [
    "def lgbm():\n",
    "    #Hyper parameters\n",
    "    hyper_params = {\n",
    "        'task': 'train',\n",
    "        'boosting_type': 'gbdt',\n",
    "        'objective': 'regression',\n",
    "        'metric': ['l1','l2'],\n",
    "        'learning_rate': 0.005,\n",
    "        'feature_fraction': 0.9,\n",
    "        'bagging_fraction': 0.7,\n",
    "        'bagging_freq': 10,\n",
    "        'verbose': 0,\n",
    "        \"max_depth\": 8,\n",
    "        \"num_leaves\": 128,  \n",
    "        \"max_bin\": 512,\n",
    "        \"num_iterations\": 1000\n",
    "    }\n",
    "\n",
    "    #fit the model takes some time\n",
    "    gbm = lgb.LGBMRegressor(**hyper_params)\n",
    "    gbm.fit(x_train, y_train)\n",
    "    print(\"fit\")\n",
    "    #predict\n",
    "    y_pred = gbm.predict(x_test, num_iteration=gbm.best_iteration_)\n",
    "    y_pred = np.expm1(y_pred)\n",
    "\n",
    "    #generate csv file of id and prediction\n",
    "    predicted = pd.DataFrame(y_pred, columns = ['predicted'])\n",
    "    output = pd.concat([ids,predicted],axis=1)\n",
    "    output.to_csv('lgbm.csv',index=False)"
   ]
  },
  {
   "cell_type": "code",
   "execution_count": null,
   "metadata": {},
   "outputs": [],
   "source": []
  }
 ],
 "metadata": {
  "kernelspec": {
   "display_name": "Python 3.8.10 64-bit",
   "language": "python",
   "name": "python3"
  },
  "language_info": {
   "codemirror_mode": {
    "name": "ipython",
    "version": 3
   },
   "file_extension": ".py",
   "mimetype": "text/x-python",
   "name": "python",
   "nbconvert_exporter": "python",
   "pygments_lexer": "ipython3",
   "version": "3.8.10"
  },
  "orig_nbformat": 4,
  "vscode": {
   "interpreter": {
    "hash": "916dbcbb3f70747c44a77c7bcd40155683ae19c65e1c03b4aa3499c5328201f1"
   }
  }
 },
 "nbformat": 4,
 "nbformat_minor": 2
}
