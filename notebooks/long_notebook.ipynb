{
 "cells": [
  {
   "cell_type": "markdown",
   "metadata": {},
   "source": [
    "# Long Notebook \n",
    "### TDT4173\n",
    "\n",
    "#### Haakon Paaske and Julia Lövgren"
   ]
  },
  {
   "cell_type": "markdown",
   "metadata": {},
   "source": [
    "### Exploratory Data Analysis"
   ]
  },
  {
   "cell_type": "markdown",
   "metadata": {},
   "source": [
    "eda/correlation.ipynb <br>\n",
    "eda/norge.ipynb <br>\n",
    "eda/plot.ipynb <br>\n",
    "Geo grejer som inte var tillåtna till slut <br>\n",
    "feature_engineering/eda_report.ipynb"
   ]
  },
  {
   "cell_type": "markdown",
   "metadata": {},
   "source": [
    "### Feature Engineering"
   ]
  },
  {
   "cell_type": "markdown",
   "metadata": {},
   "source": [
    "EDA_cont.ipynb - första feature engineeringen <br>\n",
    "feature_engineering/feature_eng_julia.ipynb - åldersgrupper mm <br>\n",
    "feature_engineering/geodata.ipynb - geo grejer med loopar <br>\n",
    "assign_gk_municipality.ipynb - första försöket med missing values för municipality_names, baserat på center av grunnkrets <br>\n",
    "\n",
    "\n"
   ]
  },
  {
   "cell_type": "markdown",
   "metadata": {},
   "source": [
    "### Models"
   ]
  },
  {
   "cell_type": "markdown",
   "metadata": {},
   "source": [
    "feature_engineering/model/catboost_info <br>\n",
    "feature_engineering/model/lightgbm.ipynb <br>\n",
    "feature_engineering/model/randomForest.ipynb <br>\n",
    "feature_engineering/model/stacking.ipynb <br>\n",
    "model.ipynb\n",
    "\n",
    "Varianter av h2o med olika modeller, bara random forest etc"
   ]
  },
  {
   "cell_type": "markdown",
   "metadata": {},
   "source": []
  }
 ],
 "metadata": {
  "kernelspec": {
   "display_name": "Python 3.9.5 64-bit",
   "language": "python",
   "name": "python3"
  },
  "language_info": {
   "codemirror_mode": {
    "name": "ipython",
    "version": 3
   },
   "file_extension": ".py",
   "mimetype": "text/x-python",
   "name": "python",
   "nbconvert_exporter": "python",
   "pygments_lexer": "ipython3",
   "version": "3.9.5"
  },
  "orig_nbformat": 4,
  "vscode": {
   "interpreter": {
    "hash": "aee8b7b246df8f9039afb4144a1f6fd8d2ca17a180786b69acc140d282b71a49"
   }
  }
 },
 "nbformat": 4,
 "nbformat_minor": 2
}
