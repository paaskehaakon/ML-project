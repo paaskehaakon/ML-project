{
 "cells": [
  {
   "cell_type": "code",
   "execution_count": null,
   "metadata": {},
   "outputs": [],
   "source": [
    "#closest competitor same chain\n",
    "def closest_compet_chain(df):\n",
    "    # create a datafram with all stores extra\n",
    "    test = pd.read_csv('data/stores_test.csv')\n",
    "    train = pd.read_csv('data/stores_train.csv')\n",
    "    extra = pd.read_csv('data/stores_extra.csv')\n",
    "    extra_df = pd.DataFrame()\n",
    "    extra_df = extra_df.append(test).append(train).append(extra)\n",
    "    \n",
    "    df['closest_competitor_chain'] = 10.0\n",
    "    num = 0 \n",
    "\n",
    "    for index in range(len(df)):\n",
    "        lat = df._get_value(index,'lat')\n",
    "        lon = df._get_value(index,'lon')\n",
    "        chain = df._get_value(index, 'chain_name')\n",
    "        dist_to_all = dist_to_all_km(lat, lon, extra_df)\n",
    "        closest = 10\n",
    "\n",
    "        iter = 0\n",
    "        for number in dist_to_all:\n",
    "            if number < closest and extra_df._get_value(iter, 'chain_name') == chain and number != 0:\n",
    "                closest = number\n",
    "            iter += 1\n",
    "\n",
    "        df._set_value(index, 'closest_competitor_chain', float(closest))\n",
    "\n",
    "        num+=1 #for runtime tracking only\n",
    "        print(num)\n",
    "    return df"
   ]
  }
 ],
 "metadata": {
  "kernelspec": {
   "display_name": "Python 3.9.5 64-bit",
   "language": "python",
   "name": "python3"
  },
  "language_info": {
   "name": "python",
   "version": "3.9.5"
  },
  "orig_nbformat": 4,
  "vscode": {
   "interpreter": {
    "hash": "aee8b7b246df8f9039afb4144a1f6fd8d2ca17a180786b69acc140d282b71a49"
   }
  }
 },
 "nbformat": 4,
 "nbformat_minor": 2
}
